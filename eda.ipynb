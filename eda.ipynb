{
 "cells": [
  {
   "cell_type": "markdown",
   "metadata": {},
   "source": [
    "# Final Project Exploratory Data Analysis"
   ]
  },
  {
   "cell_type": "markdown",
   "metadata": {},
   "source": [
    "#### Import pandas, matplotlib"
   ]
  },
  {
   "cell_type": "code",
   "execution_count": 11,
   "metadata": {},
   "outputs": [],
   "source": [
    "import pandas as pd\n",
    "import matplotlib.pyplot as plt"
   ]
  },
  {
   "cell_type": "code",
   "execution_count": 12,
   "metadata": {},
   "outputs": [],
   "source": [
    "plt.rcParams['figure.figsize'] = (9, 8)\n",
    "plt.rcParams['font.size'] = 12"
   ]
  },
  {
   "cell_type": "code",
   "execution_count": 13,
   "metadata": {},
   "outputs": [
    {
     "name": "stdout",
     "output_type": "stream",
     "text": [
      "NYPD_Complaint_Data_2018.csv\r\n"
     ]
    }
   ],
   "source": [
    "ls data"
   ]
  },
  {
   "cell_type": "markdown",
   "metadata": {},
   "source": [
    "Original source file here https://data.cityofnewyork.us/Public-Safety/NYPD-Complaint-Data-Historic/qgea-i56i  I dropped several columns and only filtered down to records from 2018, in the interest of conserving CSV filesize."
   ]
  },
  {
   "cell_type": "markdown",
   "metadata": {},
   "source": [
    "#### Read in CSV file"
   ]
  },
  {
   "cell_type": "code",
   "execution_count": 14,
   "metadata": {},
   "outputs": [],
   "source": [
    "nypd = pd.read_csv('data/NYPD_Complaint_Data_2018.csv')"
   ]
  },
  {
   "cell_type": "markdown",
   "metadata": {},
   "source": [
    "Reference data dictionary [here](https://git.generalassemb.ly/gracepaet/nypd-complaints)\n",
    "\n",
    "*Change this to a relative reference to a repo file*"
   ]
  },
  {
   "cell_type": "markdown",
   "metadata": {},
   "source": [
    "Display all columns"
   ]
  },
  {
   "cell_type": "code",
   "execution_count": 9,
   "metadata": {},
   "outputs": [],
   "source": [
    "pd.set_option('display.max_columns', None)"
   ]
  },
  {
   "cell_type": "code",
   "execution_count": 19,
   "metadata": {},
   "outputs": [
    {
     "data": {
      "text/plain": [
       "(469212, 15)"
      ]
     },
     "execution_count": 19,
     "metadata": {},
     "output_type": "execute_result"
    }
   ],
   "source": [
    "nypd.shape"
   ]
  },
  {
   "cell_type": "code",
   "execution_count": 15,
   "metadata": {},
   "outputs": [
    {
     "data": {
      "text/html": [
       "<div>\n",
       "<style scoped>\n",
       "    .dataframe tbody tr th:only-of-type {\n",
       "        vertical-align: middle;\n",
       "    }\n",
       "\n",
       "    .dataframe tbody tr th {\n",
       "        vertical-align: top;\n",
       "    }\n",
       "\n",
       "    .dataframe thead th {\n",
       "        text-align: right;\n",
       "    }\n",
       "</style>\n",
       "<table border=\"1\" class=\"dataframe\">\n",
       "  <thead>\n",
       "    <tr style=\"text-align: right;\">\n",
       "      <th></th>\n",
       "      <th>CMPLNT_NUM</th>\n",
       "      <th>CMPLNT_FR_DT</th>\n",
       "      <th>CMPLNT_FR_TM</th>\n",
       "      <th>OFNS_DESC</th>\n",
       "      <th>LAW_CAT_CD</th>\n",
       "      <th>BORO_NM</th>\n",
       "      <th>PREM_TYP_DESC</th>\n",
       "      <th>JURIS_DESC</th>\n",
       "      <th>SUSP_AGE_GROUP</th>\n",
       "      <th>SUSP_RACE</th>\n",
       "      <th>SUSP_SEX</th>\n",
       "      <th>VIC_AGE_GROUP</th>\n",
       "      <th>VIC_RACE</th>\n",
       "      <th>VIC_SEX</th>\n",
       "      <th>CMPLNT_FR_DT_YEAR</th>\n",
       "    </tr>\n",
       "  </thead>\n",
       "  <tbody>\n",
       "    <tr>\n",
       "      <td>0</td>\n",
       "      <td>774621657</td>\n",
       "      <td>2018-10-08</td>\n",
       "      <td>12:30:00</td>\n",
       "      <td>ROBBERY</td>\n",
       "      <td>FELONY</td>\n",
       "      <td>BRONX</td>\n",
       "      <td>BUS STOP</td>\n",
       "      <td>N.Y. POLICE DEPT</td>\n",
       "      <td>UNKNOWN</td>\n",
       "      <td>BLACK</td>\n",
       "      <td>M</td>\n",
       "      <td>&lt;18</td>\n",
       "      <td>BLACK</td>\n",
       "      <td>M</td>\n",
       "      <td>2018</td>\n",
       "    </tr>\n",
       "    <tr>\n",
       "      <td>1</td>\n",
       "      <td>232548146</td>\n",
       "      <td>2018-08-24</td>\n",
       "      <td>11:00:00</td>\n",
       "      <td>PETIT LARCENY</td>\n",
       "      <td>MISDEMEANOR</td>\n",
       "      <td>BROOKLYN</td>\n",
       "      <td>RESIDENCE-HOUSE</td>\n",
       "      <td>N.Y. POLICE DEPT</td>\n",
       "      <td>NaN</td>\n",
       "      <td>NaN</td>\n",
       "      <td>NaN</td>\n",
       "      <td>45-64</td>\n",
       "      <td>WHITE</td>\n",
       "      <td>F</td>\n",
       "      <td>2018</td>\n",
       "    </tr>\n",
       "    <tr>\n",
       "      <td>2</td>\n",
       "      <td>452701517</td>\n",
       "      <td>2018-03-30</td>\n",
       "      <td>16:55:00</td>\n",
       "      <td>DANGEROUS WEAPONS</td>\n",
       "      <td>FELONY</td>\n",
       "      <td>QUEENS</td>\n",
       "      <td>STREET</td>\n",
       "      <td>N.Y. POLICE DEPT</td>\n",
       "      <td>NaN</td>\n",
       "      <td>NaN</td>\n",
       "      <td>NaN</td>\n",
       "      <td>UNKNOWN</td>\n",
       "      <td>UNKNOWN</td>\n",
       "      <td>E</td>\n",
       "      <td>2018</td>\n",
       "    </tr>\n",
       "    <tr>\n",
       "      <td>3</td>\n",
       "      <td>620357753</td>\n",
       "      <td>2018-10-02</td>\n",
       "      <td>16:00:00</td>\n",
       "      <td>PETIT LARCENY</td>\n",
       "      <td>MISDEMEANOR</td>\n",
       "      <td>QUEENS</td>\n",
       "      <td>STREET</td>\n",
       "      <td>N.Y. POLICE DEPT</td>\n",
       "      <td>NaN</td>\n",
       "      <td>NaN</td>\n",
       "      <td>NaN</td>\n",
       "      <td>65+</td>\n",
       "      <td>BLACK</td>\n",
       "      <td>M</td>\n",
       "      <td>2018</td>\n",
       "    </tr>\n",
       "    <tr>\n",
       "      <td>4</td>\n",
       "      <td>110535568</td>\n",
       "      <td>2018-08-14</td>\n",
       "      <td>14:20:00</td>\n",
       "      <td>MURDER &amp; NON-NEGL. MANSLAUGHTER</td>\n",
       "      <td>FELONY</td>\n",
       "      <td>NaN</td>\n",
       "      <td>NaN</td>\n",
       "      <td>N.Y. POLICE DEPT</td>\n",
       "      <td>25-44</td>\n",
       "      <td>BLACK</td>\n",
       "      <td>M</td>\n",
       "      <td>45-64</td>\n",
       "      <td>BLACK</td>\n",
       "      <td>M</td>\n",
       "      <td>2018</td>\n",
       "    </tr>\n",
       "  </tbody>\n",
       "</table>\n",
       "</div>"
      ],
      "text/plain": [
       "   CMPLNT_NUM CMPLNT_FR_DT CMPLNT_FR_TM                        OFNS_DESC  \\\n",
       "0   774621657   2018-10-08     12:30:00                          ROBBERY   \n",
       "1   232548146   2018-08-24     11:00:00                    PETIT LARCENY   \n",
       "2   452701517   2018-03-30     16:55:00                DANGEROUS WEAPONS   \n",
       "3   620357753   2018-10-02     16:00:00                    PETIT LARCENY   \n",
       "4   110535568   2018-08-14     14:20:00  MURDER & NON-NEGL. MANSLAUGHTER   \n",
       "\n",
       "    LAW_CAT_CD   BORO_NM    PREM_TYP_DESC        JURIS_DESC SUSP_AGE_GROUP  \\\n",
       "0       FELONY     BRONX         BUS STOP  N.Y. POLICE DEPT        UNKNOWN   \n",
       "1  MISDEMEANOR  BROOKLYN  RESIDENCE-HOUSE  N.Y. POLICE DEPT            NaN   \n",
       "2       FELONY    QUEENS           STREET  N.Y. POLICE DEPT            NaN   \n",
       "3  MISDEMEANOR    QUEENS           STREET  N.Y. POLICE DEPT            NaN   \n",
       "4       FELONY       NaN              NaN  N.Y. POLICE DEPT          25-44   \n",
       "\n",
       "  SUSP_RACE SUSP_SEX VIC_AGE_GROUP VIC_RACE VIC_SEX  CMPLNT_FR_DT_YEAR  \n",
       "0     BLACK        M           <18    BLACK       M               2018  \n",
       "1       NaN      NaN         45-64    WHITE       F               2018  \n",
       "2       NaN      NaN       UNKNOWN  UNKNOWN       E               2018  \n",
       "3       NaN      NaN           65+    BLACK       M               2018  \n",
       "4     BLACK        M         45-64    BLACK       M               2018  "
      ]
     },
     "execution_count": 15,
     "metadata": {},
     "output_type": "execute_result"
    }
   ],
   "source": [
    "nypd.head()"
   ]
  },
  {
   "cell_type": "code",
   "execution_count": 20,
   "metadata": {},
   "outputs": [
    {
     "data": {
      "text/plain": [
       "Index(['CMPLNT_NUM', 'CMPLNT_FR_DT', 'CMPLNT_FR_TM', 'OFNS_DESC', 'LAW_CAT_CD',\n",
       "       'BORO_NM', 'PREM_TYP_DESC', 'JURIS_DESC', 'SUSP_AGE_GROUP', 'SUSP_RACE',\n",
       "       'SUSP_SEX', 'VIC_AGE_GROUP', 'VIC_RACE', 'VIC_SEX',\n",
       "       'CMPLNT_FR_DT_YEAR'],\n",
       "      dtype='object')"
      ]
     },
     "execution_count": 20,
     "metadata": {},
     "output_type": "execute_result"
    }
   ],
   "source": [
    "nypd.columns"
   ]
  },
  {
   "cell_type": "code",
   "execution_count": 21,
   "metadata": {},
   "outputs": [
    {
     "data": {
      "text/plain": [
       "CMPLNT_NUM            int64\n",
       "CMPLNT_FR_DT         object\n",
       "CMPLNT_FR_TM         object\n",
       "OFNS_DESC            object\n",
       "LAW_CAT_CD           object\n",
       "BORO_NM              object\n",
       "PREM_TYP_DESC        object\n",
       "JURIS_DESC           object\n",
       "SUSP_AGE_GROUP       object\n",
       "SUSP_RACE            object\n",
       "SUSP_SEX             object\n",
       "VIC_AGE_GROUP        object\n",
       "VIC_RACE             object\n",
       "VIC_SEX              object\n",
       "CMPLNT_FR_DT_YEAR     int64\n",
       "dtype: object"
      ]
     },
     "execution_count": 21,
     "metadata": {},
     "output_type": "execute_result"
    }
   ],
   "source": [
    "nypd.dtypes"
   ]
  },
  {
   "cell_type": "markdown",
   "metadata": {},
   "source": [
    "#### Confirm all records are from 2018"
   ]
  },
  {
   "cell_type": "code",
   "execution_count": 18,
   "metadata": {},
   "outputs": [
    {
     "data": {
      "text/plain": [
       "2018    469212\n",
       "Name: CMPLNT_FR_DT_YEAR, dtype: int64"
      ]
     },
     "execution_count": 18,
     "metadata": {},
     "output_type": "execute_result"
    }
   ],
   "source": [
    "nypd.CMPLNT_FR_DT_YEAR.value_counts(dropna=False)"
   ]
  },
  {
   "cell_type": "markdown",
   "metadata": {},
   "source": [
    "#### Drop CMPLNT_FR_DT_YEAR from dataframe"
   ]
  },
  {
   "cell_type": "code",
   "execution_count": 22,
   "metadata": {},
   "outputs": [],
   "source": [
    "nypd.drop('CMPLNT_FR_DT_YEAR', inplace=True, axis=1)"
   ]
  },
  {
   "cell_type": "markdown",
   "metadata": {},
   "source": [
    "## Exploring the dataframe"
   ]
  },
  {
   "cell_type": "code",
   "execution_count": 26,
   "metadata": {},
   "outputs": [
    {
     "data": {
      "text/plain": [
       "Index(['CMPLNT_NUM', 'CMPLNT_FR_DT', 'CMPLNT_FR_TM', 'OFNS_DESC', 'LAW_CAT_CD',\n",
       "       'BORO_NM', 'PREM_TYP_DESC', 'JURIS_DESC', 'SUSP_AGE_GROUP', 'SUSP_RACE',\n",
       "       'SUSP_SEX', 'VIC_AGE_GROUP', 'VIC_RACE', 'VIC_SEX'],\n",
       "      dtype='object')"
      ]
     },
     "execution_count": 26,
     "metadata": {},
     "output_type": "execute_result"
    }
   ],
   "source": [
    "nypd.columns"
   ]
  },
  {
   "cell_type": "code",
   "execution_count": 27,
   "metadata": {},
   "outputs": [
    {
     "data": {
      "text/plain": [
       "CMPLNT_NUM         int64\n",
       "CMPLNT_FR_DT      object\n",
       "CMPLNT_FR_TM      object\n",
       "OFNS_DESC         object\n",
       "LAW_CAT_CD        object\n",
       "BORO_NM           object\n",
       "PREM_TYP_DESC     object\n",
       "JURIS_DESC        object\n",
       "SUSP_AGE_GROUP    object\n",
       "SUSP_RACE         object\n",
       "SUSP_SEX          object\n",
       "VIC_AGE_GROUP     object\n",
       "VIC_RACE          object\n",
       "VIC_SEX           object\n",
       "dtype: object"
      ]
     },
     "execution_count": 27,
     "metadata": {},
     "output_type": "execute_result"
    }
   ],
   "source": [
    "nypd.dtypes"
   ]
  },
  {
   "cell_type": "code",
   "execution_count": 28,
   "metadata": {},
   "outputs": [
    {
     "data": {
      "text/plain": [
       "<bound method NDFrame.describe of         CMPLNT_NUM CMPLNT_FR_DT CMPLNT_FR_TM                        OFNS_DESC  \\\n",
       "0        774621657   2018-10-08     12:30:00                          ROBBERY   \n",
       "1        232548146   2018-08-24     11:00:00                    PETIT LARCENY   \n",
       "2        452701517   2018-03-30     16:55:00                DANGEROUS WEAPONS   \n",
       "3        620357753   2018-10-02     16:00:00                    PETIT LARCENY   \n",
       "4        110535568   2018-08-14     14:20:00  MURDER & NON-NEGL. MANSLAUGHTER   \n",
       "...            ...          ...          ...                              ...   \n",
       "469207   690975879   2018-12-31     08:00:00     ASSAULT 3 & RELATED OFFENSES   \n",
       "469208   779067255   2018-11-01     12:00:00                    GRAND LARCENY   \n",
       "469209   541626662   2018-12-30     19:30:00                      THEFT-FRAUD   \n",
       "469210   417694811   2018-12-31     17:45:00                    HARRASSMENT 2   \n",
       "469211   379455106   2018-12-20     18:00:00                           FRAUDS   \n",
       "\n",
       "         LAW_CAT_CD        BORO_NM           PREM_TYP_DESC        JURIS_DESC  \\\n",
       "0            FELONY          BRONX                BUS STOP  N.Y. POLICE DEPT   \n",
       "1       MISDEMEANOR       BROOKLYN         RESIDENCE-HOUSE  N.Y. POLICE DEPT   \n",
       "2            FELONY         QUEENS                  STREET  N.Y. POLICE DEPT   \n",
       "3       MISDEMEANOR         QUEENS                  STREET  N.Y. POLICE DEPT   \n",
       "4            FELONY            NaN                     NaN  N.Y. POLICE DEPT   \n",
       "...             ...            ...                     ...               ...   \n",
       "469207  MISDEMEANOR         QUEENS         RESIDENCE-HOUSE  N.Y. POLICE DEPT   \n",
       "469208       FELONY  STATEN ISLAND         RESIDENCE-HOUSE  N.Y. POLICE DEPT   \n",
       "469209       FELONY      MANHATTAN  RESIDENCE - APT. HOUSE  N.Y. POLICE DEPT   \n",
       "469210    VIOLATION      MANHATTAN                  STREET  N.Y. POLICE DEPT   \n",
       "469211  MISDEMEANOR         QUEENS         RESIDENCE-HOUSE  N.Y. POLICE DEPT   \n",
       "\n",
       "       SUSP_AGE_GROUP SUSP_RACE SUSP_SEX VIC_AGE_GROUP VIC_RACE VIC_SEX  \n",
       "0             UNKNOWN     BLACK        M           <18    BLACK       M  \n",
       "1                 NaN       NaN      NaN         45-64    WHITE       F  \n",
       "2                 NaN       NaN      NaN       UNKNOWN  UNKNOWN       E  \n",
       "3                 NaN       NaN      NaN           65+    BLACK       M  \n",
       "4               25-44     BLACK        M         45-64    BLACK       M  \n",
       "...               ...       ...      ...           ...      ...     ...  \n",
       "469207          18-24     BLACK        F         45-64    BLACK       F  \n",
       "469208            NaN       NaN      NaN         45-64    WHITE       F  \n",
       "469209            NaN       NaN      NaN         45-64    WHITE       F  \n",
       "469210        UNKNOWN     WHITE        M           <18    WHITE       F  \n",
       "469211        UNKNOWN   UNKNOWN        U         45-64    BLACK       F  \n",
       "\n",
       "[469212 rows x 14 columns]>"
      ]
     },
     "execution_count": 28,
     "metadata": {},
     "output_type": "execute_result"
    }
   ],
   "source": [
    "nypd.describe"
   ]
  },
  {
   "cell_type": "code",
   "execution_count": 35,
   "metadata": {},
   "outputs": [
    {
     "data": {
      "text/plain": [
       "PETIT LARCENY                     87715\n",
       "HARRASSMENT 2                     70943\n",
       "ASSAULT 3 & RELATED OFFENSES      53425\n",
       "CRIMINAL MISCHIEF & RELATED OF    47916\n",
       "GRAND LARCENY                     44815\n",
       "                                  ...  \n",
       "NEW YORK CITY HEALTH CODE             3\n",
       "UNLAWFUL POSS. WEAP. ON SCHOOL        2\n",
       "DISRUPTION OF A RELIGIOUS SERV        1\n",
       "ABORTION                              1\n",
       "HOMICIDE-NEGLIGENT-VEHICLE            1\n",
       "Name: OFNS_DESC, Length: 61, dtype: int64"
      ]
     },
     "execution_count": 35,
     "metadata": {},
     "output_type": "execute_result"
    }
   ],
   "source": [
    "nypd.OFNS_DESC.value_counts(dropna=False)"
   ]
  },
  {
   "cell_type": "code",
   "execution_count": 36,
   "metadata": {},
   "outputs": [
    {
     "data": {
      "text/plain": [
       "MISDEMEANOR    254109\n",
       "FELONY         143434\n",
       "VIOLATION       71669\n",
       "Name: LAW_CAT_CD, dtype: int64"
      ]
     },
     "execution_count": 36,
     "metadata": {},
     "output_type": "execute_result"
    }
   ],
   "source": [
    "nypd.LAW_CAT_CD.value_counts(dropna=False)"
   ]
  },
  {
   "cell_type": "code",
   "execution_count": 37,
   "metadata": {},
   "outputs": [
    {
     "data": {
      "text/plain": [
       "N.Y. POLICE DEPT                415823\n",
       "N.Y. HOUSING POLICE              33634\n",
       "N.Y. TRANSIT POLICE              12449\n",
       "OTHER                             3149\n",
       "PORT AUTHORITY                    2018\n",
       "DEPT OF CORRECTIONS                960\n",
       "TRI-BORO BRDG TUNNL                275\n",
       "NYC PARKS                          267\n",
       "HEALTH & HOSP CORP                 240\n",
       "N.Y. STATE POLICE                  163\n",
       "METRO NORTH                         80\n",
       "N.Y. STATE PARKS                    41\n",
       "NEW YORK CITY SHERIFF OFFICE        33\n",
       "LONG ISLAND RAILRD                  30\n",
       "STATN IS RAPID TRANS                17\n",
       "U.S. PARK POLICE                    14\n",
       "AMTRACK                             10\n",
       "NYS DEPT TAX AND FINANCE             8\n",
       "CONRAIL                              1\n",
       "Name: JURIS_DESC, dtype: int64"
      ]
     },
     "execution_count": 37,
     "metadata": {},
     "output_type": "execute_result"
    }
   ],
   "source": [
    "nypd.JURIS_DESC.value_counts(dropna=False)"
   ]
  },
  {
   "cell_type": "code",
   "execution_count": 38,
   "metadata": {},
   "outputs": [
    {
     "data": {
      "text/plain": [
       "BROOKLYN         138329\n",
       "MANHATTAN        115955\n",
       "BRONX            101802\n",
       "QUEENS            91686\n",
       "STATEN ISLAND     21124\n",
       "NaN                 316\n",
       "Name: BORO_NM, dtype: int64"
      ]
     },
     "execution_count": 38,
     "metadata": {},
     "output_type": "execute_result"
    }
   ],
   "source": [
    "nypd.BORO_NM.value_counts(dropna=False)"
   ]
  },
  {
   "cell_type": "code",
   "execution_count": 40,
   "metadata": {},
   "outputs": [
    {
     "data": {
      "text/plain": [
       "STREET                        128337\n",
       "RESIDENCE - APT. HOUSE        105873\n",
       "RESIDENCE-HOUSE                44415\n",
       "RESIDENCE - PUBLIC HOUSING     33652\n",
       "CHAIN STORE                    15218\n",
       "                               ...  \n",
       "PHOTO/COPY                        44\n",
       "CEMETERY                          41\n",
       "LOAN COMPANY                      21\n",
       "TRAMWAY                           10\n",
       "HOMELESS SHELTER                   8\n",
       "Name: PREM_TYP_DESC, Length: 74, dtype: int64"
      ]
     },
     "execution_count": 40,
     "metadata": {},
     "output_type": "execute_result"
    }
   ],
   "source": [
    "nypd.PREM_TYP_DESC.value_counts(dropna=False)"
   ]
  },
  {
   "cell_type": "code",
   "execution_count": 42,
   "metadata": {},
   "outputs": [
    {
     "data": {
      "text/plain": [
       "M      212879\n",
       "NaN    120521\n",
       "U       69647\n",
       "F       66165\n",
       "Name: SUSP_SEX, dtype: int64"
      ]
     },
     "execution_count": 42,
     "metadata": {},
     "output_type": "execute_result"
    }
   ],
   "source": [
    "nypd.SUSP_SEX.value_counts(dropna=False)"
   ]
  },
  {
   "cell_type": "code",
   "execution_count": 43,
   "metadata": {},
   "outputs": [
    {
     "data": {
      "text/plain": [
       "F    186532\n",
       "M    160990\n",
       "D     66191\n",
       "E     55498\n",
       "U         1\n",
       "Name: VIC_SEX, dtype: int64"
      ]
     },
     "execution_count": 43,
     "metadata": {},
     "output_type": "execute_result"
    }
   ],
   "source": [
    "nypd.VIC_SEX.value_counts(dropna=False)"
   ]
  },
  {
   "cell_type": "code",
   "execution_count": 44,
   "metadata": {},
   "outputs": [
    {
     "data": {
      "text/plain": [
       "UNKNOWN    127696\n",
       "NaN        120521\n",
       "25-44      117822\n",
       "45-64       44618\n",
       "18-24       42088\n",
       "<18         12472\n",
       "65+          3962\n",
       "2018           10\n",
       "1018            3\n",
       "928             2\n",
       "-941            1\n",
       "938             1\n",
       "-939            1\n",
       "948             1\n",
       "1967            1\n",
       "-974            1\n",
       "954             1\n",
       "920             1\n",
       "952             1\n",
       "-63             1\n",
       "-2              1\n",
       "-978            1\n",
       "-80             1\n",
       "922             1\n",
       "1012            1\n",
       "1017            1\n",
       "924             1\n",
       "955             1\n",
       "Name: SUSP_AGE_GROUP, dtype: int64"
      ]
     },
     "execution_count": 44,
     "metadata": {},
     "output_type": "execute_result"
    }
   ],
   "source": [
    "nypd.SUSP_AGE_GROUP.value_counts(dropna=False)"
   ]
  },
  {
   "cell_type": "code",
   "execution_count": 45,
   "metadata": {},
   "outputs": [
    {
     "data": {
      "text/plain": [
       "25-44      162582\n",
       "UNKNOWN    133431\n",
       "45-64       87810\n",
       "18-24       45261\n",
       "65+         20354\n",
       "<18         19736\n",
       "-1              2\n",
       "-956            2\n",
       "-974            2\n",
       "965             1\n",
       "970             1\n",
       "-61             1\n",
       "-958            1\n",
       "-4              1\n",
       "-5              1\n",
       "-3              1\n",
       "-948            1\n",
       "-940            1\n",
       "936             1\n",
       "953             1\n",
       "-952            1\n",
       "-970            1\n",
       "951             1\n",
       "929             1\n",
       "954             1\n",
       "-67             1\n",
       "-2              1\n",
       "922             1\n",
       "-76             1\n",
       "957             1\n",
       "-968            1\n",
       "-972            1\n",
       "1017            1\n",
       "-43             1\n",
       "-962            1\n",
       "-51             1\n",
       "-55             1\n",
       "-966            1\n",
       "-59             1\n",
       "948             1\n",
       "-955            1\n",
       "Name: VIC_AGE_GROUP, dtype: int64"
      ]
     },
     "execution_count": 45,
     "metadata": {},
     "output_type": "execute_result"
    }
   ],
   "source": [
    "nypd.VIC_AGE_GROUP.value_counts(dropna=False)"
   ]
  },
  {
   "cell_type": "markdown",
   "metadata": {},
   "source": [
    "#### Checking for null values"
   ]
  },
  {
   "cell_type": "code",
   "execution_count": 30,
   "metadata": {},
   "outputs": [
    {
     "name": "stdout",
     "output_type": "stream",
     "text": [
      "(469212, 14)\n"
     ]
    },
    {
     "data": {
      "text/plain": [
       "CMPLNT_NUM             0\n",
       "CMPLNT_FR_DT           0\n",
       "CMPLNT_FR_TM           0\n",
       "OFNS_DESC             14\n",
       "LAW_CAT_CD             0\n",
       "BORO_NM              316\n",
       "PREM_TYP_DESC       2007\n",
       "JURIS_DESC             0\n",
       "SUSP_AGE_GROUP    120521\n",
       "SUSP_RACE         120521\n",
       "SUSP_SEX          120521\n",
       "VIC_AGE_GROUP          0\n",
       "VIC_RACE               0\n",
       "VIC_SEX                0\n",
       "dtype: int64"
      ]
     },
     "execution_count": 30,
     "metadata": {},
     "output_type": "execute_result"
    }
   ],
   "source": [
    "print(nypd.shape)\n",
    "nypd.isnull().sum()"
   ]
  },
  {
   "cell_type": "markdown",
   "metadata": {},
   "source": [
    "Will need to handle nulls in these fiels\n",
    "* `OFNS_DESC`\n",
    "* `BORO_NM`\n",
    "* `PREM_TYP_DESC`\n",
    "* `SUSP_AGE_GROUP`\n",
    "* `SUSP_RACE`\n",
    "* `SUSP_SEX`\n",
    "\n",
    "25% of `SUSP_AGE_GROUP`, `SUSP_RACE`, and `SUSP_SEX` contain nulls!"
   ]
  },
  {
   "cell_type": "markdown",
   "metadata": {},
   "source": [
    "#### Quick look at the dataframe to see what other cleaning I may have to do"
   ]
  },
  {
   "cell_type": "code",
   "execution_count": 31,
   "metadata": {},
   "outputs": [
    {
     "data": {
      "text/html": [
       "<div>\n",
       "<style scoped>\n",
       "    .dataframe tbody tr th:only-of-type {\n",
       "        vertical-align: middle;\n",
       "    }\n",
       "\n",
       "    .dataframe tbody tr th {\n",
       "        vertical-align: top;\n",
       "    }\n",
       "\n",
       "    .dataframe thead th {\n",
       "        text-align: right;\n",
       "    }\n",
       "</style>\n",
       "<table border=\"1\" class=\"dataframe\">\n",
       "  <thead>\n",
       "    <tr style=\"text-align: right;\">\n",
       "      <th></th>\n",
       "      <th>CMPLNT_NUM</th>\n",
       "      <th>CMPLNT_FR_DT</th>\n",
       "      <th>CMPLNT_FR_TM</th>\n",
       "      <th>OFNS_DESC</th>\n",
       "      <th>LAW_CAT_CD</th>\n",
       "      <th>BORO_NM</th>\n",
       "      <th>PREM_TYP_DESC</th>\n",
       "      <th>JURIS_DESC</th>\n",
       "      <th>SUSP_AGE_GROUP</th>\n",
       "      <th>SUSP_RACE</th>\n",
       "      <th>SUSP_SEX</th>\n",
       "      <th>VIC_AGE_GROUP</th>\n",
       "      <th>VIC_RACE</th>\n",
       "      <th>VIC_SEX</th>\n",
       "    </tr>\n",
       "  </thead>\n",
       "  <tbody>\n",
       "    <tr>\n",
       "      <td>0</td>\n",
       "      <td>774621657</td>\n",
       "      <td>2018-10-08</td>\n",
       "      <td>12:30:00</td>\n",
       "      <td>ROBBERY</td>\n",
       "      <td>FELONY</td>\n",
       "      <td>BRONX</td>\n",
       "      <td>BUS STOP</td>\n",
       "      <td>N.Y. POLICE DEPT</td>\n",
       "      <td>UNKNOWN</td>\n",
       "      <td>BLACK</td>\n",
       "      <td>M</td>\n",
       "      <td>&lt;18</td>\n",
       "      <td>BLACK</td>\n",
       "      <td>M</td>\n",
       "    </tr>\n",
       "    <tr>\n",
       "      <td>1</td>\n",
       "      <td>232548146</td>\n",
       "      <td>2018-08-24</td>\n",
       "      <td>11:00:00</td>\n",
       "      <td>PETIT LARCENY</td>\n",
       "      <td>MISDEMEANOR</td>\n",
       "      <td>BROOKLYN</td>\n",
       "      <td>RESIDENCE-HOUSE</td>\n",
       "      <td>N.Y. POLICE DEPT</td>\n",
       "      <td>NaN</td>\n",
       "      <td>NaN</td>\n",
       "      <td>NaN</td>\n",
       "      <td>45-64</td>\n",
       "      <td>WHITE</td>\n",
       "      <td>F</td>\n",
       "    </tr>\n",
       "    <tr>\n",
       "      <td>2</td>\n",
       "      <td>452701517</td>\n",
       "      <td>2018-03-30</td>\n",
       "      <td>16:55:00</td>\n",
       "      <td>DANGEROUS WEAPONS</td>\n",
       "      <td>FELONY</td>\n",
       "      <td>QUEENS</td>\n",
       "      <td>STREET</td>\n",
       "      <td>N.Y. POLICE DEPT</td>\n",
       "      <td>NaN</td>\n",
       "      <td>NaN</td>\n",
       "      <td>NaN</td>\n",
       "      <td>UNKNOWN</td>\n",
       "      <td>UNKNOWN</td>\n",
       "      <td>E</td>\n",
       "    </tr>\n",
       "    <tr>\n",
       "      <td>3</td>\n",
       "      <td>620357753</td>\n",
       "      <td>2018-10-02</td>\n",
       "      <td>16:00:00</td>\n",
       "      <td>PETIT LARCENY</td>\n",
       "      <td>MISDEMEANOR</td>\n",
       "      <td>QUEENS</td>\n",
       "      <td>STREET</td>\n",
       "      <td>N.Y. POLICE DEPT</td>\n",
       "      <td>NaN</td>\n",
       "      <td>NaN</td>\n",
       "      <td>NaN</td>\n",
       "      <td>65+</td>\n",
       "      <td>BLACK</td>\n",
       "      <td>M</td>\n",
       "    </tr>\n",
       "    <tr>\n",
       "      <td>4</td>\n",
       "      <td>110535568</td>\n",
       "      <td>2018-08-14</td>\n",
       "      <td>14:20:00</td>\n",
       "      <td>MURDER &amp; NON-NEGL. MANSLAUGHTER</td>\n",
       "      <td>FELONY</td>\n",
       "      <td>NaN</td>\n",
       "      <td>NaN</td>\n",
       "      <td>N.Y. POLICE DEPT</td>\n",
       "      <td>25-44</td>\n",
       "      <td>BLACK</td>\n",
       "      <td>M</td>\n",
       "      <td>45-64</td>\n",
       "      <td>BLACK</td>\n",
       "      <td>M</td>\n",
       "    </tr>\n",
       "  </tbody>\n",
       "</table>\n",
       "</div>"
      ],
      "text/plain": [
       "   CMPLNT_NUM CMPLNT_FR_DT CMPLNT_FR_TM                        OFNS_DESC  \\\n",
       "0   774621657   2018-10-08     12:30:00                          ROBBERY   \n",
       "1   232548146   2018-08-24     11:00:00                    PETIT LARCENY   \n",
       "2   452701517   2018-03-30     16:55:00                DANGEROUS WEAPONS   \n",
       "3   620357753   2018-10-02     16:00:00                    PETIT LARCENY   \n",
       "4   110535568   2018-08-14     14:20:00  MURDER & NON-NEGL. MANSLAUGHTER   \n",
       "\n",
       "    LAW_CAT_CD   BORO_NM    PREM_TYP_DESC        JURIS_DESC SUSP_AGE_GROUP  \\\n",
       "0       FELONY     BRONX         BUS STOP  N.Y. POLICE DEPT        UNKNOWN   \n",
       "1  MISDEMEANOR  BROOKLYN  RESIDENCE-HOUSE  N.Y. POLICE DEPT            NaN   \n",
       "2       FELONY    QUEENS           STREET  N.Y. POLICE DEPT            NaN   \n",
       "3  MISDEMEANOR    QUEENS           STREET  N.Y. POLICE DEPT            NaN   \n",
       "4       FELONY       NaN              NaN  N.Y. POLICE DEPT          25-44   \n",
       "\n",
       "  SUSP_RACE SUSP_SEX VIC_AGE_GROUP VIC_RACE VIC_SEX  \n",
       "0     BLACK        M           <18    BLACK       M  \n",
       "1       NaN      NaN         45-64    WHITE       F  \n",
       "2       NaN      NaN       UNKNOWN  UNKNOWN       E  \n",
       "3       NaN      NaN           65+    BLACK       M  \n",
       "4     BLACK        M         45-64    BLACK       M  "
      ]
     },
     "execution_count": 31,
     "metadata": {},
     "output_type": "execute_result"
    }
   ],
   "source": [
    "nypd.head(5)"
   ]
  },
  {
   "cell_type": "code",
   "execution_count": 32,
   "metadata": {},
   "outputs": [
    {
     "data": {
      "text/plain": [
       "CMPLNT_NUM         int64\n",
       "CMPLNT_FR_DT      object\n",
       "CMPLNT_FR_TM      object\n",
       "OFNS_DESC         object\n",
       "LAW_CAT_CD        object\n",
       "BORO_NM           object\n",
       "PREM_TYP_DESC     object\n",
       "JURIS_DESC        object\n",
       "SUSP_AGE_GROUP    object\n",
       "SUSP_RACE         object\n",
       "SUSP_SEX          object\n",
       "VIC_AGE_GROUP     object\n",
       "VIC_RACE          object\n",
       "VIC_SEX           object\n",
       "dtype: object"
      ]
     },
     "execution_count": 32,
     "metadata": {},
     "output_type": "execute_result"
    }
   ],
   "source": [
    "nypd.dtypes"
   ]
  },
  {
   "cell_type": "markdown",
   "metadata": {},
   "source": [
    "## Cleaning and Data Prep needed\n",
    "\n",
    "* Set new index (TBD)\n",
    "* Handle nulls in these fields\n",
    " * `OFNS_DESC`\n",
    " * `BORO_NM`\n",
    " * `PREM_TYPE_DESC`\n",
    " * `SUSP_AGE_GROUP`\n",
    " * `SUSP_RACE`\n",
    " * `SUSP_SEX`\n",
    "* Convert these fields to Timestamp\n",
    " * `CMPLNT_FR_DT`\n",
    " * `CMPLNT_FR_TM`\n",
    "\n",
    "\n",
    "\n",
    "Optional\n",
    "* Combine `CMPLNT_FR_DT` and `CMPLNT_FR_TM` into one field\n",
    "* Create month, week, day, day of week columns for `CMPLNT_FR_DT`\n",
    "* Create hour column for `CMPLNT_FR_TM`\n"
   ]
  },
  {
   "cell_type": "markdown",
   "metadata": {},
   "source": [
    "## Framing the problem\n",
    "\n",
    "* Start *framing* the problem -- This is Step 1 of the Data Science Workflow\n",
    "\n",
    " * Make a list of **what you know**\n",
    " * Make a list of **what you don't know**\n",
    " * Make a list of possible problem statements\n",
    "   * Try to come up with *5-10* of them if possible\n",
    "   * You will decide on which ones to explore later, but for now brainstorm as much as you can.\n",
    "   \n",
    "\n",
    "#### What I know\n",
    "* All complaints are from 2018\n",
    "* Complaints are timestamped and we have the level of detail down to month, day, year, hour, minute\n",
    "* `OFNS_DESC` is an important field that tells us what each complaint was\n",
    "* Each offense occurs within a borough of NYC, defined as `BORO_NM`\n",
    "* Complaints are categorized under `LAW_CAT_CD` as either a felony, misdemeanor, or violation\n",
    "* Different jurisdictions are responsible for handling each complaint. The police department is not responsible for all complaints\n",
    "* Victim and suspect demo (age, sex, race) may be available for each offense\n",
    "\n",
    "\n",
    "\n",
    "#### What I don't know\n",
    "* The most popular or highest volume of offenses overall in 2018\n",
    "* Seasonal trends, if any, in offenses\n",
    "* Other time-based trends in offenses, down to month, day of the week, and hour of the day\n",
    "* If some boroughs in New York City have more complaints than other boroughs\n",
    "* If certain types of offenses are more prevalent in some boroughs versus others\n",
    "* Which offenses are deemed a felony vs. misdemeanor vs. violation\n",
    "* What complaints is each jurisdiction primarily responsible for handling\n",
    "* If there’s a relationship between victim demo and suspect demo\n",
    "\n",
    "\n",
    "#### Possible problem statements\n",
    "1. More crimes occur during the warmer months of the year\n",
    "- Criminal activity is more common during times of the day when there are more people around or active, i.e. commute times, meal times. Criminal activity is also more likely to occur when suspects believe they won’t be seen or caught, i.e. late night\n",
    "- Racial bias may exist, with victims having a tendency to file complaints against specific races\n",
    "- Criminal activity in NYC aligns with known correlations of [criminal behavior](https://en.wikipedia.org/wiki/Statistical_correlations_of_criminal_behaviour#Gender_and_biology) **\n",
    "- Each borough of NYC has roughly the same volume of complaints as other boroughs, when comparing per capita\n",
    "\n",
    "<font size=1.5>** Crime occurs most frequently during the second and third decades of life. Males commit more crime overall and more violent crime than females. They commit more property crime except shoplifting, which is about equally distributed between the genders.</font>\n"
   ]
  }
 ],
 "metadata": {
  "kernelspec": {
   "display_name": "Python 3",
   "language": "python",
   "name": "python3"
  },
  "language_info": {
   "codemirror_mode": {
    "name": "ipython",
    "version": 3
   },
   "file_extension": ".py",
   "mimetype": "text/x-python",
   "name": "python",
   "nbconvert_exporter": "python",
   "pygments_lexer": "ipython3",
   "version": "3.7.4"
  }
 },
 "nbformat": 4,
 "nbformat_minor": 2
}
