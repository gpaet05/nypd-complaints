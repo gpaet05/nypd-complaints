{
 "cells": [
  {
   "cell_type": "markdown",
   "metadata": {},
   "source": [
    "# Final Project Exploratory Data Analysis"
   ]
  },
  {
   "cell_type": "markdown",
   "metadata": {},
   "source": [
    "#### Import pandas, matplotlib"
   ]
  },
  {
   "cell_type": "code",
   "execution_count": 381,
   "metadata": {},
   "outputs": [],
   "source": [
    "import pandas as pd\n",
    "import numpy as np\n",
    "import matplotlib.pyplot as plt\n",
    "import seaborn as sns"
   ]
  },
  {
   "cell_type": "code",
   "execution_count": 382,
   "metadata": {},
   "outputs": [],
   "source": [
    "plt.rcParams['figure.figsize'] = (9, 8)\n",
    "plt.rcParams['font.size'] = 12"
   ]
  },
  {
   "cell_type": "code",
   "execution_count": 383,
   "metadata": {},
   "outputs": [
    {
     "name": "stdout",
     "output_type": "stream",
     "text": [
      "NYPD_Complaint_Data_2018.csv\r\n"
     ]
    }
   ],
   "source": [
    "ls data"
   ]
  },
  {
   "cell_type": "markdown",
   "metadata": {},
   "source": [
    "Original source file here https://data.cityofnewyork.us/Public-Safety/NYPD-Complaint-Data-Historic/qgea-i56i  I dropped several columns and only filtered down to records from 2018, in the interest of conserving CSV filesize."
   ]
  },
  {
   "cell_type": "markdown",
   "metadata": {},
   "source": [
    "#### Read in CSV file"
   ]
  },
  {
   "cell_type": "code",
   "execution_count": 384,
   "metadata": {},
   "outputs": [],
   "source": [
    "nypd = pd.read_csv('data/NYPD_Complaint_Data_2018.csv')"
   ]
  },
  {
   "cell_type": "markdown",
   "metadata": {},
   "source": [
    "Reference data dictionary [here](https://git.generalassemb.ly/gracepaet/nypd-complaints)\n",
    "\n",
    "*Change this to a relative reference to a repo file or consider having the data dictionary expand out*"
   ]
  },
  {
   "cell_type": "markdown",
   "metadata": {},
   "source": [
    "Display all columns"
   ]
  },
  {
   "cell_type": "code",
   "execution_count": 385,
   "metadata": {},
   "outputs": [],
   "source": [
    "pd.set_option('display.max_columns', None)\n",
    "pd.set_option('display.max_rows', 50)"
   ]
  },
  {
   "cell_type": "code",
   "execution_count": 386,
   "metadata": {},
   "outputs": [
    {
     "data": {
      "text/plain": [
       "(466295, 15)"
      ]
     },
     "execution_count": 386,
     "metadata": {},
     "output_type": "execute_result"
    }
   ],
   "source": [
    "nypd.shape"
   ]
  },
  {
   "cell_type": "code",
   "execution_count": 387,
   "metadata": {},
   "outputs": [
    {
     "data": {
      "text/html": [
       "<div>\n",
       "<style scoped>\n",
       "    .dataframe tbody tr th:only-of-type {\n",
       "        vertical-align: middle;\n",
       "    }\n",
       "\n",
       "    .dataframe tbody tr th {\n",
       "        vertical-align: top;\n",
       "    }\n",
       "\n",
       "    .dataframe thead th {\n",
       "        text-align: right;\n",
       "    }\n",
       "</style>\n",
       "<table border=\"1\" class=\"dataframe\">\n",
       "  <thead>\n",
       "    <tr style=\"text-align: right;\">\n",
       "      <th></th>\n",
       "      <th>CMPLNT_NUM</th>\n",
       "      <th>CMPLNT_FR_DT</th>\n",
       "      <th>CMPLNT_FR_TM</th>\n",
       "      <th>OFNS_DESC</th>\n",
       "      <th>LAW_CAT_CD</th>\n",
       "      <th>BORO_NM</th>\n",
       "      <th>PREM_TYP_DESC</th>\n",
       "      <th>JURIS_DESC</th>\n",
       "      <th>SUSP_AGE_GROUP</th>\n",
       "      <th>SUSP_RACE</th>\n",
       "      <th>SUSP_SEX</th>\n",
       "      <th>VIC_AGE_GROUP</th>\n",
       "      <th>VIC_RACE</th>\n",
       "      <th>VIC_SEX</th>\n",
       "      <th>CMPLNT_FR_DT_YEAR</th>\n",
       "    </tr>\n",
       "  </thead>\n",
       "  <tbody>\n",
       "    <tr>\n",
       "      <td>0</td>\n",
       "      <td>774621657</td>\n",
       "      <td>2018-10-08</td>\n",
       "      <td>12:30:00</td>\n",
       "      <td>ROBBERY</td>\n",
       "      <td>FELONY</td>\n",
       "      <td>BRONX</td>\n",
       "      <td>BUS STOP</td>\n",
       "      <td>N.Y. POLICE DEPT</td>\n",
       "      <td>UNKNOWN</td>\n",
       "      <td>BLACK</td>\n",
       "      <td>M</td>\n",
       "      <td>&lt;18</td>\n",
       "      <td>BLACK</td>\n",
       "      <td>M</td>\n",
       "      <td>2018</td>\n",
       "    </tr>\n",
       "    <tr>\n",
       "      <td>1</td>\n",
       "      <td>232548146</td>\n",
       "      <td>2018-08-24</td>\n",
       "      <td>11:00:00</td>\n",
       "      <td>PETIT LARCENY</td>\n",
       "      <td>MISDEMEANOR</td>\n",
       "      <td>BROOKLYN</td>\n",
       "      <td>RESIDENCE-HOUSE</td>\n",
       "      <td>N.Y. POLICE DEPT</td>\n",
       "      <td>NaN</td>\n",
       "      <td>NaN</td>\n",
       "      <td>NaN</td>\n",
       "      <td>45-64</td>\n",
       "      <td>WHITE</td>\n",
       "      <td>F</td>\n",
       "      <td>2018</td>\n",
       "    </tr>\n",
       "    <tr>\n",
       "      <td>2</td>\n",
       "      <td>452701517</td>\n",
       "      <td>2018-03-30</td>\n",
       "      <td>16:55:00</td>\n",
       "      <td>DANGEROUS WEAPONS</td>\n",
       "      <td>FELONY</td>\n",
       "      <td>QUEENS</td>\n",
       "      <td>STREET</td>\n",
       "      <td>N.Y. POLICE DEPT</td>\n",
       "      <td>NaN</td>\n",
       "      <td>NaN</td>\n",
       "      <td>NaN</td>\n",
       "      <td>UNKNOWN</td>\n",
       "      <td>UNKNOWN</td>\n",
       "      <td>E</td>\n",
       "      <td>2018</td>\n",
       "    </tr>\n",
       "    <tr>\n",
       "      <td>3</td>\n",
       "      <td>620357753</td>\n",
       "      <td>2018-10-02</td>\n",
       "      <td>16:00:00</td>\n",
       "      <td>PETIT LARCENY</td>\n",
       "      <td>MISDEMEANOR</td>\n",
       "      <td>QUEENS</td>\n",
       "      <td>STREET</td>\n",
       "      <td>N.Y. POLICE DEPT</td>\n",
       "      <td>NaN</td>\n",
       "      <td>NaN</td>\n",
       "      <td>NaN</td>\n",
       "      <td>65+</td>\n",
       "      <td>BLACK</td>\n",
       "      <td>M</td>\n",
       "      <td>2018</td>\n",
       "    </tr>\n",
       "    <tr>\n",
       "      <td>4</td>\n",
       "      <td>110535568</td>\n",
       "      <td>2018-08-14</td>\n",
       "      <td>14:20:00</td>\n",
       "      <td>MURDER &amp; NON-NEGL. MANSLAUGHTER</td>\n",
       "      <td>FELONY</td>\n",
       "      <td>NaN</td>\n",
       "      <td>NaN</td>\n",
       "      <td>N.Y. POLICE DEPT</td>\n",
       "      <td>25-44</td>\n",
       "      <td>BLACK</td>\n",
       "      <td>M</td>\n",
       "      <td>45-64</td>\n",
       "      <td>BLACK</td>\n",
       "      <td>M</td>\n",
       "      <td>2018</td>\n",
       "    </tr>\n",
       "  </tbody>\n",
       "</table>\n",
       "</div>"
      ],
      "text/plain": [
       "   CMPLNT_NUM CMPLNT_FR_DT CMPLNT_FR_TM                        OFNS_DESC  \\\n",
       "0   774621657   2018-10-08     12:30:00                          ROBBERY   \n",
       "1   232548146   2018-08-24     11:00:00                    PETIT LARCENY   \n",
       "2   452701517   2018-03-30     16:55:00                DANGEROUS WEAPONS   \n",
       "3   620357753   2018-10-02     16:00:00                    PETIT LARCENY   \n",
       "4   110535568   2018-08-14     14:20:00  MURDER & NON-NEGL. MANSLAUGHTER   \n",
       "\n",
       "    LAW_CAT_CD   BORO_NM    PREM_TYP_DESC        JURIS_DESC SUSP_AGE_GROUP  \\\n",
       "0       FELONY     BRONX         BUS STOP  N.Y. POLICE DEPT        UNKNOWN   \n",
       "1  MISDEMEANOR  BROOKLYN  RESIDENCE-HOUSE  N.Y. POLICE DEPT            NaN   \n",
       "2       FELONY    QUEENS           STREET  N.Y. POLICE DEPT            NaN   \n",
       "3  MISDEMEANOR    QUEENS           STREET  N.Y. POLICE DEPT            NaN   \n",
       "4       FELONY       NaN              NaN  N.Y. POLICE DEPT          25-44   \n",
       "\n",
       "  SUSP_RACE SUSP_SEX VIC_AGE_GROUP VIC_RACE VIC_SEX  CMPLNT_FR_DT_YEAR  \n",
       "0     BLACK        M           <18    BLACK       M               2018  \n",
       "1       NaN      NaN         45-64    WHITE       F               2018  \n",
       "2       NaN      NaN       UNKNOWN  UNKNOWN       E               2018  \n",
       "3       NaN      NaN           65+    BLACK       M               2018  \n",
       "4     BLACK        M         45-64    BLACK       M               2018  "
      ]
     },
     "execution_count": 387,
     "metadata": {},
     "output_type": "execute_result"
    }
   ],
   "source": [
    "nypd.head()"
   ]
  },
  {
   "cell_type": "code",
   "execution_count": 388,
   "metadata": {},
   "outputs": [
    {
     "data": {
      "text/plain": [
       "Index(['CMPLNT_NUM', 'CMPLNT_FR_DT', 'CMPLNT_FR_TM', 'OFNS_DESC', 'LAW_CAT_CD',\n",
       "       'BORO_NM', 'PREM_TYP_DESC', 'JURIS_DESC', 'SUSP_AGE_GROUP', 'SUSP_RACE',\n",
       "       'SUSP_SEX', 'VIC_AGE_GROUP', 'VIC_RACE', 'VIC_SEX',\n",
       "       'CMPLNT_FR_DT_YEAR'],\n",
       "      dtype='object')"
      ]
     },
     "execution_count": 388,
     "metadata": {},
     "output_type": "execute_result"
    }
   ],
   "source": [
    "nypd.columns"
   ]
  },
  {
   "cell_type": "code",
   "execution_count": 389,
   "metadata": {},
   "outputs": [
    {
     "data": {
      "text/plain": [
       "CMPLNT_NUM            int64\n",
       "CMPLNT_FR_DT         object\n",
       "CMPLNT_FR_TM         object\n",
       "OFNS_DESC            object\n",
       "LAW_CAT_CD           object\n",
       "BORO_NM              object\n",
       "PREM_TYP_DESC        object\n",
       "JURIS_DESC           object\n",
       "SUSP_AGE_GROUP       object\n",
       "SUSP_RACE            object\n",
       "SUSP_SEX             object\n",
       "VIC_AGE_GROUP        object\n",
       "VIC_RACE             object\n",
       "VIC_SEX              object\n",
       "CMPLNT_FR_DT_YEAR     int64\n",
       "dtype: object"
      ]
     },
     "execution_count": 389,
     "metadata": {},
     "output_type": "execute_result"
    }
   ],
   "source": [
    "nypd.dtypes"
   ]
  },
  {
   "cell_type": "markdown",
   "metadata": {},
   "source": [
    "#### Confirm all records are from 2018"
   ]
  },
  {
   "cell_type": "code",
   "execution_count": 390,
   "metadata": {},
   "outputs": [
    {
     "data": {
      "text/plain": [
       "2018    466295\n",
       "Name: CMPLNT_FR_DT_YEAR, dtype: int64"
      ]
     },
     "execution_count": 390,
     "metadata": {},
     "output_type": "execute_result"
    }
   ],
   "source": [
    "nypd.CMPLNT_FR_DT_YEAR.value_counts(dropna=False)"
   ]
  },
  {
   "cell_type": "markdown",
   "metadata": {},
   "source": [
    "#### Drop CMPLNT_FR_DT_YEAR from dataframe"
   ]
  },
  {
   "cell_type": "code",
   "execution_count": 391,
   "metadata": {},
   "outputs": [],
   "source": [
    "nypd.drop('CMPLNT_FR_DT_YEAR', inplace=True, axis=1)"
   ]
  },
  {
   "cell_type": "markdown",
   "metadata": {},
   "source": [
    "# Exploring the dataframe"
   ]
  },
  {
   "cell_type": "code",
   "execution_count": 392,
   "metadata": {},
   "outputs": [
    {
     "data": {
      "text/plain": [
       "Index(['CMPLNT_NUM', 'CMPLNT_FR_DT', 'CMPLNT_FR_TM', 'OFNS_DESC', 'LAW_CAT_CD',\n",
       "       'BORO_NM', 'PREM_TYP_DESC', 'JURIS_DESC', 'SUSP_AGE_GROUP', 'SUSP_RACE',\n",
       "       'SUSP_SEX', 'VIC_AGE_GROUP', 'VIC_RACE', 'VIC_SEX'],\n",
       "      dtype='object')"
      ]
     },
     "execution_count": 392,
     "metadata": {},
     "output_type": "execute_result"
    }
   ],
   "source": [
    "nypd.columns"
   ]
  },
  {
   "cell_type": "code",
   "execution_count": 393,
   "metadata": {},
   "outputs": [
    {
     "data": {
      "text/plain": [
       "CMPLNT_NUM         int64\n",
       "CMPLNT_FR_DT      object\n",
       "CMPLNT_FR_TM      object\n",
       "OFNS_DESC         object\n",
       "LAW_CAT_CD        object\n",
       "BORO_NM           object\n",
       "PREM_TYP_DESC     object\n",
       "JURIS_DESC        object\n",
       "SUSP_AGE_GROUP    object\n",
       "SUSP_RACE         object\n",
       "SUSP_SEX          object\n",
       "VIC_AGE_GROUP     object\n",
       "VIC_RACE          object\n",
       "VIC_SEX           object\n",
       "dtype: object"
      ]
     },
     "execution_count": 393,
     "metadata": {},
     "output_type": "execute_result"
    }
   ],
   "source": [
    "nypd.dtypes"
   ]
  },
  {
   "cell_type": "code",
   "execution_count": 394,
   "metadata": {},
   "outputs": [
    {
     "data": {
      "text/plain": [
       "<bound method NDFrame.describe of         CMPLNT_NUM CMPLNT_FR_DT CMPLNT_FR_TM                        OFNS_DESC  \\\n",
       "0        774621657   2018-10-08     12:30:00                          ROBBERY   \n",
       "1        232548146   2018-08-24     11:00:00                    PETIT LARCENY   \n",
       "2        452701517   2018-03-30     16:55:00                DANGEROUS WEAPONS   \n",
       "3        620357753   2018-10-02     16:00:00                    PETIT LARCENY   \n",
       "4        110535568   2018-08-14     14:20:00  MURDER & NON-NEGL. MANSLAUGHTER   \n",
       "...            ...          ...          ...                              ...   \n",
       "466290   341791124   2018-12-11     20:00:00                    PETIT LARCENY   \n",
       "466291   791474790   2018-11-06     00:00:00                           FRAUDS   \n",
       "466292   584053940   2018-12-31     18:00:00   CRIMINAL MISCHIEF & RELATED OF   \n",
       "466293   495559106   2018-12-31     13:20:00          MISCELLANEOUS PENAL LAW   \n",
       "466294   782076755   2018-12-22     16:06:00                    HARRASSMENT 2   \n",
       "\n",
       "         LAW_CAT_CD   BORO_NM               PREM_TYP_DESC  \\\n",
       "0            FELONY     BRONX                    BUS STOP   \n",
       "1       MISDEMEANOR  BROOKLYN             RESIDENCE-HOUSE   \n",
       "2            FELONY    QUEENS                      STREET   \n",
       "3       MISDEMEANOR    QUEENS                      STREET   \n",
       "4            FELONY       NaN                         NaN   \n",
       "...             ...       ...                         ...   \n",
       "466290  MISDEMEANOR     BRONX  RESIDENCE - PUBLIC HOUSING   \n",
       "466291  MISDEMEANOR     BRONX  RESIDENCE - PUBLIC HOUSING   \n",
       "466292  MISDEMEANOR     BRONX  RESIDENCE - PUBLIC HOUSING   \n",
       "466293       FELONY     BRONX  RESIDENCE - PUBLIC HOUSING   \n",
       "466294    VIOLATION     BRONX  RESIDENCE - PUBLIC HOUSING   \n",
       "\n",
       "                 JURIS_DESC SUSP_AGE_GROUP       SUSP_RACE SUSP_SEX  \\\n",
       "0          N.Y. POLICE DEPT        UNKNOWN           BLACK        M   \n",
       "1          N.Y. POLICE DEPT            NaN             NaN      NaN   \n",
       "2          N.Y. POLICE DEPT            NaN             NaN      NaN   \n",
       "3          N.Y. POLICE DEPT            NaN             NaN      NaN   \n",
       "4          N.Y. POLICE DEPT          25-44           BLACK        M   \n",
       "...                     ...            ...             ...      ...   \n",
       "466290  N.Y. HOUSING POLICE            <18  BLACK HISPANIC        M   \n",
       "466291     N.Y. POLICE DEPT            NaN             NaN      NaN   \n",
       "466292  N.Y. HOUSING POLICE            NaN             NaN      NaN   \n",
       "466293  N.Y. HOUSING POLICE          25-44           BLACK        F   \n",
       "466294  N.Y. HOUSING POLICE          25-44  WHITE HISPANIC        M   \n",
       "\n",
       "       VIC_AGE_GROUP        VIC_RACE VIC_SEX  \n",
       "0                <18           BLACK       M  \n",
       "1              45-64           WHITE       F  \n",
       "2            UNKNOWN         UNKNOWN       E  \n",
       "3                65+           BLACK       M  \n",
       "4              45-64           BLACK       M  \n",
       "...              ...             ...     ...  \n",
       "466290         25-44  BLACK HISPANIC       F  \n",
       "466291           65+           BLACK       M  \n",
       "466292         45-64  BLACK HISPANIC       F  \n",
       "466293         25-44  BLACK HISPANIC       F  \n",
       "466294         18-24  WHITE HISPANIC       F  \n",
       "\n",
       "[466295 rows x 14 columns]>"
      ]
     },
     "execution_count": 394,
     "metadata": {},
     "output_type": "execute_result"
    }
   ],
   "source": [
    "nypd.describe"
   ]
  },
  {
   "cell_type": "code",
   "execution_count": 395,
   "metadata": {},
   "outputs": [
    {
     "data": {
      "text/plain": [
       "PETIT LARCENY                     87063\n",
       "HARRASSMENT 2                     70627\n",
       "ASSAULT 3 & RELATED OFFENSES      53323\n",
       "CRIMINAL MISCHIEF & RELATED OF    47627\n",
       "GRAND LARCENY                     44214\n",
       "                                  ...  \n",
       "NEW YORK CITY HEALTH CODE             3\n",
       "UNLAWFUL POSS. WEAP. ON SCHOOL        2\n",
       "DISRUPTION OF A RELIGIOUS SERV        1\n",
       "HOMICIDE-NEGLIGENT-VEHICLE            1\n",
       "ABORTION                              1\n",
       "Name: OFNS_DESC, Length: 61, dtype: int64"
      ]
     },
     "execution_count": 395,
     "metadata": {},
     "output_type": "execute_result"
    }
   ],
   "source": [
    "nypd.OFNS_DESC.value_counts(dropna=False)"
   ]
  },
  {
   "cell_type": "code",
   "execution_count": 396,
   "metadata": {},
   "outputs": [
    {
     "data": {
      "text/plain": [
       "MISDEMEANOR    252735\n",
       "FELONY         142209\n",
       "VIOLATION       71351\n",
       "Name: LAW_CAT_CD, dtype: int64"
      ]
     },
     "execution_count": 396,
     "metadata": {},
     "output_type": "execute_result"
    }
   ],
   "source": [
    "nypd.LAW_CAT_CD.value_counts(dropna=False)"
   ]
  },
  {
   "cell_type": "code",
   "execution_count": 397,
   "metadata": {},
   "outputs": [
    {
     "data": {
      "text/plain": [
       "N.Y. POLICE DEPT                413192\n",
       "N.Y. HOUSING POLICE              33506\n",
       "N.Y. TRANSIT POLICE              12343\n",
       "OTHER                             3122\n",
       "PORT AUTHORITY                    2014\n",
       "DEPT OF CORRECTIONS                943\n",
       "TRI-BORO BRDG TUNNL                275\n",
       "NYC PARKS                          266\n",
       "HEALTH & HOSP CORP                 239\n",
       "N.Y. STATE POLICE                  163\n",
       "METRO NORTH                         79\n",
       "N.Y. STATE PARKS                    41\n",
       "NEW YORK CITY SHERIFF OFFICE        33\n",
       "LONG ISLAND RAILRD                  29\n",
       "STATN IS RAPID TRANS                17\n",
       "U.S. PARK POLICE                    14\n",
       "AMTRACK                             10\n",
       "NYS DEPT TAX AND FINANCE             8\n",
       "CONRAIL                              1\n",
       "Name: JURIS_DESC, dtype: int64"
      ]
     },
     "execution_count": 397,
     "metadata": {},
     "output_type": "execute_result"
    }
   ],
   "source": [
    "nypd.JURIS_DESC.value_counts(dropna=False)"
   ]
  },
  {
   "cell_type": "code",
   "execution_count": 398,
   "metadata": {},
   "outputs": [
    {
     "data": {
      "text/plain": [
       "BROOKLYN         137426\n",
       "MANHATTAN        115195\n",
       "BRONX            101316\n",
       "QUEENS            91055\n",
       "STATEN ISLAND     20991\n",
       "NaN                 312\n",
       "Name: BORO_NM, dtype: int64"
      ]
     },
     "execution_count": 398,
     "metadata": {},
     "output_type": "execute_result"
    }
   ],
   "source": [
    "nypd.BORO_NM.value_counts(dropna=False)"
   ]
  },
  {
   "cell_type": "code",
   "execution_count": 399,
   "metadata": {},
   "outputs": [
    {
     "data": {
      "text/plain": [
       "STREET                        127944\n",
       "RESIDENCE - APT. HOUSE        104889\n",
       "RESIDENCE-HOUSE                43991\n",
       "RESIDENCE - PUBLIC HOUSING     33525\n",
       "CHAIN STORE                    15168\n",
       "                               ...  \n",
       "PHOTO/COPY                        44\n",
       "CEMETERY                          41\n",
       "LOAN COMPANY                      21\n",
       "TRAMWAY                           10\n",
       "HOMELESS SHELTER                   6\n",
       "Name: PREM_TYP_DESC, Length: 74, dtype: int64"
      ]
     },
     "execution_count": 399,
     "metadata": {},
     "output_type": "execute_result"
    }
   ],
   "source": [
    "nypd.PREM_TYP_DESC.value_counts(dropna=False)"
   ]
  },
  {
   "cell_type": "code",
   "execution_count": 400,
   "metadata": {},
   "outputs": [
    {
     "data": {
      "text/plain": [
       "M      212025\n",
       "NaN    119399\n",
       "U       69030\n",
       "F       65841\n",
       "Name: SUSP_SEX, dtype: int64"
      ]
     },
     "execution_count": 400,
     "metadata": {},
     "output_type": "execute_result"
    }
   ],
   "source": [
    "nypd.SUSP_SEX.value_counts(dropna=False)"
   ]
  },
  {
   "cell_type": "code",
   "execution_count": 401,
   "metadata": {},
   "outputs": [
    {
     "data": {
      "text/plain": [
       "F    185201\n",
       "M    160039\n",
       "D     65773\n",
       "E     55281\n",
       "U         1\n",
       "Name: VIC_SEX, dtype: int64"
      ]
     },
     "execution_count": 401,
     "metadata": {},
     "output_type": "execute_result"
    }
   ],
   "source": [
    "nypd.VIC_SEX.value_counts(dropna=False)"
   ]
  },
  {
   "cell_type": "code",
   "execution_count": 402,
   "metadata": {},
   "outputs": [
    {
     "data": {
      "text/plain": [
       "UNKNOWN    126810\n",
       "NaN        119399\n",
       "25-44      117279\n",
       "45-64       44451\n",
       "18-24       41938\n",
       "<18         12437\n",
       "65+          3948\n",
       "2018           10\n",
       "1018            3\n",
       "928             2\n",
       "924             1\n",
       "-941            1\n",
       "-974            1\n",
       "1012            1\n",
       "-2              1\n",
       "-80             1\n",
       "948             1\n",
       "955             1\n",
       "-939            1\n",
       "1967            1\n",
       "922             1\n",
       "920             1\n",
       "954             1\n",
       "952             1\n",
       "-63             1\n",
       "-978            1\n",
       "1017            1\n",
       "938             1\n",
       "Name: SUSP_AGE_GROUP, dtype: int64"
      ]
     },
     "execution_count": 402,
     "metadata": {},
     "output_type": "execute_result"
    }
   ],
   "source": [
    "nypd.SUSP_AGE_GROUP.value_counts(dropna=False)"
   ]
  },
  {
   "cell_type": "code",
   "execution_count": 403,
   "metadata": {},
   "outputs": [
    {
     "data": {
      "text/plain": [
       "25-44      161564\n",
       "UNKNOWN    132730\n",
       "45-64       87168\n",
       "18-24       45048\n",
       "65+         20130\n",
       "<18         19617\n",
       "-1              2\n",
       "-956            2\n",
       "-974            2\n",
       "957             1\n",
       "953             1\n",
       "-61             1\n",
       "970             1\n",
       "-2              1\n",
       "936             1\n",
       "-51             1\n",
       "-55             1\n",
       "-966            1\n",
       "-76             1\n",
       "965             1\n",
       "-970            1\n",
       "929             1\n",
       "922             1\n",
       "-948            1\n",
       "-972            1\n",
       "948             1\n",
       "-968            1\n",
       "-43             1\n",
       "1017            1\n",
       "-3              1\n",
       "-940            1\n",
       "-59             1\n",
       "-4              1\n",
       "-952            1\n",
       "-962            1\n",
       "951             1\n",
       "-958            1\n",
       "954             1\n",
       "-955            1\n",
       "-67             1\n",
       "-5              1\n",
       "Name: VIC_AGE_GROUP, dtype: int64"
      ]
     },
     "execution_count": 403,
     "metadata": {},
     "output_type": "execute_result"
    }
   ],
   "source": [
    "nypd.VIC_AGE_GROUP.value_counts(dropna=False)"
   ]
  },
  {
   "cell_type": "markdown",
   "metadata": {},
   "source": [
    "#### Checking for null values"
   ]
  },
  {
   "cell_type": "code",
   "execution_count": 404,
   "metadata": {},
   "outputs": [
    {
     "name": "stdout",
     "output_type": "stream",
     "text": [
      "(466295, 14)\n"
     ]
    },
    {
     "data": {
      "text/plain": [
       "CMPLNT_NUM             0\n",
       "CMPLNT_FR_DT           0\n",
       "CMPLNT_FR_TM           0\n",
       "OFNS_DESC             14\n",
       "LAW_CAT_CD             0\n",
       "BORO_NM              312\n",
       "PREM_TYP_DESC       1992\n",
       "JURIS_DESC             0\n",
       "SUSP_AGE_GROUP    119399\n",
       "SUSP_RACE         119399\n",
       "SUSP_SEX          119399\n",
       "VIC_AGE_GROUP          0\n",
       "VIC_RACE               0\n",
       "VIC_SEX                0\n",
       "dtype: int64"
      ]
     },
     "execution_count": 404,
     "metadata": {},
     "output_type": "execute_result"
    }
   ],
   "source": [
    "print(nypd.shape)\n",
    "nypd.isnull().sum()"
   ]
  },
  {
   "cell_type": "markdown",
   "metadata": {},
   "source": [
    "Will need to handle nulls in these fiels\n",
    "* `OFNS_DESC`\n",
    "* `BORO_NM`\n",
    "* `PREM_TYP_DESC`\n",
    "* `SUSP_AGE_GROUP`\n",
    "* `SUSP_RACE`\n",
    "* `SUSP_SEX`\n",
    "\n",
    "25% of `SUSP_AGE_GROUP`, `SUSP_RACE`, and `SUSP_SEX` contain nulls!"
   ]
  },
  {
   "cell_type": "markdown",
   "metadata": {},
   "source": [
    "#### Quick look at the dataframe to see what other cleaning I may have to do"
   ]
  },
  {
   "cell_type": "code",
   "execution_count": 405,
   "metadata": {},
   "outputs": [
    {
     "data": {
      "text/html": [
       "<div>\n",
       "<style scoped>\n",
       "    .dataframe tbody tr th:only-of-type {\n",
       "        vertical-align: middle;\n",
       "    }\n",
       "\n",
       "    .dataframe tbody tr th {\n",
       "        vertical-align: top;\n",
       "    }\n",
       "\n",
       "    .dataframe thead th {\n",
       "        text-align: right;\n",
       "    }\n",
       "</style>\n",
       "<table border=\"1\" class=\"dataframe\">\n",
       "  <thead>\n",
       "    <tr style=\"text-align: right;\">\n",
       "      <th></th>\n",
       "      <th>CMPLNT_NUM</th>\n",
       "      <th>CMPLNT_FR_DT</th>\n",
       "      <th>CMPLNT_FR_TM</th>\n",
       "      <th>OFNS_DESC</th>\n",
       "      <th>LAW_CAT_CD</th>\n",
       "      <th>BORO_NM</th>\n",
       "      <th>PREM_TYP_DESC</th>\n",
       "      <th>JURIS_DESC</th>\n",
       "      <th>SUSP_AGE_GROUP</th>\n",
       "      <th>SUSP_RACE</th>\n",
       "      <th>SUSP_SEX</th>\n",
       "      <th>VIC_AGE_GROUP</th>\n",
       "      <th>VIC_RACE</th>\n",
       "      <th>VIC_SEX</th>\n",
       "    </tr>\n",
       "  </thead>\n",
       "  <tbody>\n",
       "    <tr>\n",
       "      <td>0</td>\n",
       "      <td>774621657</td>\n",
       "      <td>2018-10-08</td>\n",
       "      <td>12:30:00</td>\n",
       "      <td>ROBBERY</td>\n",
       "      <td>FELONY</td>\n",
       "      <td>BRONX</td>\n",
       "      <td>BUS STOP</td>\n",
       "      <td>N.Y. POLICE DEPT</td>\n",
       "      <td>UNKNOWN</td>\n",
       "      <td>BLACK</td>\n",
       "      <td>M</td>\n",
       "      <td>&lt;18</td>\n",
       "      <td>BLACK</td>\n",
       "      <td>M</td>\n",
       "    </tr>\n",
       "    <tr>\n",
       "      <td>1</td>\n",
       "      <td>232548146</td>\n",
       "      <td>2018-08-24</td>\n",
       "      <td>11:00:00</td>\n",
       "      <td>PETIT LARCENY</td>\n",
       "      <td>MISDEMEANOR</td>\n",
       "      <td>BROOKLYN</td>\n",
       "      <td>RESIDENCE-HOUSE</td>\n",
       "      <td>N.Y. POLICE DEPT</td>\n",
       "      <td>NaN</td>\n",
       "      <td>NaN</td>\n",
       "      <td>NaN</td>\n",
       "      <td>45-64</td>\n",
       "      <td>WHITE</td>\n",
       "      <td>F</td>\n",
       "    </tr>\n",
       "    <tr>\n",
       "      <td>2</td>\n",
       "      <td>452701517</td>\n",
       "      <td>2018-03-30</td>\n",
       "      <td>16:55:00</td>\n",
       "      <td>DANGEROUS WEAPONS</td>\n",
       "      <td>FELONY</td>\n",
       "      <td>QUEENS</td>\n",
       "      <td>STREET</td>\n",
       "      <td>N.Y. POLICE DEPT</td>\n",
       "      <td>NaN</td>\n",
       "      <td>NaN</td>\n",
       "      <td>NaN</td>\n",
       "      <td>UNKNOWN</td>\n",
       "      <td>UNKNOWN</td>\n",
       "      <td>E</td>\n",
       "    </tr>\n",
       "    <tr>\n",
       "      <td>3</td>\n",
       "      <td>620357753</td>\n",
       "      <td>2018-10-02</td>\n",
       "      <td>16:00:00</td>\n",
       "      <td>PETIT LARCENY</td>\n",
       "      <td>MISDEMEANOR</td>\n",
       "      <td>QUEENS</td>\n",
       "      <td>STREET</td>\n",
       "      <td>N.Y. POLICE DEPT</td>\n",
       "      <td>NaN</td>\n",
       "      <td>NaN</td>\n",
       "      <td>NaN</td>\n",
       "      <td>65+</td>\n",
       "      <td>BLACK</td>\n",
       "      <td>M</td>\n",
       "    </tr>\n",
       "    <tr>\n",
       "      <td>4</td>\n",
       "      <td>110535568</td>\n",
       "      <td>2018-08-14</td>\n",
       "      <td>14:20:00</td>\n",
       "      <td>MURDER &amp; NON-NEGL. MANSLAUGHTER</td>\n",
       "      <td>FELONY</td>\n",
       "      <td>NaN</td>\n",
       "      <td>NaN</td>\n",
       "      <td>N.Y. POLICE DEPT</td>\n",
       "      <td>25-44</td>\n",
       "      <td>BLACK</td>\n",
       "      <td>M</td>\n",
       "      <td>45-64</td>\n",
       "      <td>BLACK</td>\n",
       "      <td>M</td>\n",
       "    </tr>\n",
       "  </tbody>\n",
       "</table>\n",
       "</div>"
      ],
      "text/plain": [
       "   CMPLNT_NUM CMPLNT_FR_DT CMPLNT_FR_TM                        OFNS_DESC  \\\n",
       "0   774621657   2018-10-08     12:30:00                          ROBBERY   \n",
       "1   232548146   2018-08-24     11:00:00                    PETIT LARCENY   \n",
       "2   452701517   2018-03-30     16:55:00                DANGEROUS WEAPONS   \n",
       "3   620357753   2018-10-02     16:00:00                    PETIT LARCENY   \n",
       "4   110535568   2018-08-14     14:20:00  MURDER & NON-NEGL. MANSLAUGHTER   \n",
       "\n",
       "    LAW_CAT_CD   BORO_NM    PREM_TYP_DESC        JURIS_DESC SUSP_AGE_GROUP  \\\n",
       "0       FELONY     BRONX         BUS STOP  N.Y. POLICE DEPT        UNKNOWN   \n",
       "1  MISDEMEANOR  BROOKLYN  RESIDENCE-HOUSE  N.Y. POLICE DEPT            NaN   \n",
       "2       FELONY    QUEENS           STREET  N.Y. POLICE DEPT            NaN   \n",
       "3  MISDEMEANOR    QUEENS           STREET  N.Y. POLICE DEPT            NaN   \n",
       "4       FELONY       NaN              NaN  N.Y. POLICE DEPT          25-44   \n",
       "\n",
       "  SUSP_RACE SUSP_SEX VIC_AGE_GROUP VIC_RACE VIC_SEX  \n",
       "0     BLACK        M           <18    BLACK       M  \n",
       "1       NaN      NaN         45-64    WHITE       F  \n",
       "2       NaN      NaN       UNKNOWN  UNKNOWN       E  \n",
       "3       NaN      NaN           65+    BLACK       M  \n",
       "4     BLACK        M         45-64    BLACK       M  "
      ]
     },
     "execution_count": 405,
     "metadata": {},
     "output_type": "execute_result"
    }
   ],
   "source": [
    "nypd.head(5)"
   ]
  },
  {
   "cell_type": "code",
   "execution_count": 406,
   "metadata": {},
   "outputs": [
    {
     "data": {
      "text/plain": [
       "AMERICAN INDIAN/ALASKAN NATIVE      1170\n",
       "ASIAN / PACIFIC ISLANDER           13132\n",
       "BLACK                             131560\n",
       "BLACK HISPANIC                     19375\n",
       "UNKNOWN                            83750\n",
       "WHITE                              35922\n",
       "WHITE HISPANIC                     61987\n",
       "Name: SUSP_RACE, dtype: int64"
      ]
     },
     "execution_count": 406,
     "metadata": {},
     "output_type": "execute_result"
    }
   ],
   "source": [
    "# pd.DataFrame(nypd.SUSP_RACE.value_counts())\n",
    "nypd.SUSP_RACE.value_counts().sort_index() # Sort by susp_race"
   ]
  },
  {
   "cell_type": "code",
   "execution_count": 407,
   "metadata": {},
   "outputs": [
    {
     "data": {
      "text/html": [
       "<div>\n",
       "<style scoped>\n",
       "    .dataframe tbody tr th:only-of-type {\n",
       "        vertical-align: middle;\n",
       "    }\n",
       "\n",
       "    .dataframe tbody tr th {\n",
       "        vertical-align: top;\n",
       "    }\n",
       "\n",
       "    .dataframe thead th {\n",
       "        text-align: right;\n",
       "    }\n",
       "</style>\n",
       "<table border=\"1\" class=\"dataframe\">\n",
       "  <thead>\n",
       "    <tr style=\"text-align: right;\">\n",
       "      <th></th>\n",
       "      <th>VIC_RACE</th>\n",
       "    </tr>\n",
       "  </thead>\n",
       "  <tbody>\n",
       "    <tr>\n",
       "      <td>WHITE HISPANIC</td>\n",
       "      <td>26234</td>\n",
       "    </tr>\n",
       "    <tr>\n",
       "      <td>UNKNOWN</td>\n",
       "      <td>19811</td>\n",
       "    </tr>\n",
       "    <tr>\n",
       "      <td>BLACK</td>\n",
       "      <td>5765</td>\n",
       "    </tr>\n",
       "    <tr>\n",
       "      <td>WHITE</td>\n",
       "      <td>5118</td>\n",
       "    </tr>\n",
       "    <tr>\n",
       "      <td>BLACK HISPANIC</td>\n",
       "      <td>2802</td>\n",
       "    </tr>\n",
       "    <tr>\n",
       "      <td>ASIAN / PACIFIC ISLANDER</td>\n",
       "      <td>2123</td>\n",
       "    </tr>\n",
       "    <tr>\n",
       "      <td>AMERICAN INDIAN/ALASKAN NATIVE</td>\n",
       "      <td>134</td>\n",
       "    </tr>\n",
       "  </tbody>\n",
       "</table>\n",
       "</div>"
      ],
      "text/plain": [
       "                                VIC_RACE\n",
       "WHITE HISPANIC                     26234\n",
       "UNKNOWN                            19811\n",
       "BLACK                               5765\n",
       "WHITE                               5118\n",
       "BLACK HISPANIC                      2802\n",
       "ASIAN / PACIFIC ISLANDER            2123\n",
       "AMERICAN INDIAN/ALASKAN NATIVE       134"
      ]
     },
     "execution_count": 407,
     "metadata": {},
     "output_type": "execute_result"
    }
   ],
   "source": [
    "# Filtering\n",
    "# nypd[nypd['SUSP_RACE'] == 'WHITE HISPANIC']\n",
    "\n",
    "# Filtering the dataframe for all records where the susp_race is white hispanic, show the \n",
    "# vic_race and do value counts \n",
    "pd.DataFrame(nypd[nypd['SUSP_RACE'] == 'WHITE HISPANIC']['VIC_RACE'].value_counts())"
   ]
  },
  {
   "cell_type": "code",
   "execution_count": 408,
   "metadata": {},
   "outputs": [
    {
     "name": "stdout",
     "output_type": "stream",
     "text": [
      "None\n"
     ]
    }
   ],
   "source": [
    "print(nypd.index.name)"
   ]
  },
  {
   "cell_type": "markdown",
   "metadata": {},
   "source": [
    "# Cleaning the data"
   ]
  },
  {
   "cell_type": "code",
   "execution_count": 409,
   "metadata": {},
   "outputs": [
    {
     "data": {
      "text/html": [
       "<div>\n",
       "<style scoped>\n",
       "    .dataframe tbody tr th:only-of-type {\n",
       "        vertical-align: middle;\n",
       "    }\n",
       "\n",
       "    .dataframe tbody tr th {\n",
       "        vertical-align: top;\n",
       "    }\n",
       "\n",
       "    .dataframe thead th {\n",
       "        text-align: right;\n",
       "    }\n",
       "</style>\n",
       "<table border=\"1\" class=\"dataframe\">\n",
       "  <thead>\n",
       "    <tr style=\"text-align: right;\">\n",
       "      <th></th>\n",
       "      <th>CMPLNT_NUM</th>\n",
       "      <th>CMPLNT_FR_DT</th>\n",
       "      <th>CMPLNT_FR_TM</th>\n",
       "      <th>OFNS_DESC</th>\n",
       "      <th>LAW_CAT_CD</th>\n",
       "      <th>BORO_NM</th>\n",
       "      <th>PREM_TYP_DESC</th>\n",
       "      <th>JURIS_DESC</th>\n",
       "      <th>SUSP_AGE_GROUP</th>\n",
       "      <th>SUSP_RACE</th>\n",
       "      <th>SUSP_SEX</th>\n",
       "      <th>VIC_AGE_GROUP</th>\n",
       "      <th>VIC_RACE</th>\n",
       "      <th>VIC_SEX</th>\n",
       "    </tr>\n",
       "  </thead>\n",
       "  <tbody>\n",
       "    <tr>\n",
       "      <td>0</td>\n",
       "      <td>774621657</td>\n",
       "      <td>2018-10-08</td>\n",
       "      <td>12:30:00</td>\n",
       "      <td>ROBBERY</td>\n",
       "      <td>FELONY</td>\n",
       "      <td>BRONX</td>\n",
       "      <td>BUS STOP</td>\n",
       "      <td>N.Y. POLICE DEPT</td>\n",
       "      <td>UNKNOWN</td>\n",
       "      <td>BLACK</td>\n",
       "      <td>M</td>\n",
       "      <td>&lt;18</td>\n",
       "      <td>BLACK</td>\n",
       "      <td>M</td>\n",
       "    </tr>\n",
       "    <tr>\n",
       "      <td>1</td>\n",
       "      <td>232548146</td>\n",
       "      <td>2018-08-24</td>\n",
       "      <td>11:00:00</td>\n",
       "      <td>PETIT LARCENY</td>\n",
       "      <td>MISDEMEANOR</td>\n",
       "      <td>BROOKLYN</td>\n",
       "      <td>RESIDENCE-HOUSE</td>\n",
       "      <td>N.Y. POLICE DEPT</td>\n",
       "      <td>NaN</td>\n",
       "      <td>NaN</td>\n",
       "      <td>NaN</td>\n",
       "      <td>45-64</td>\n",
       "      <td>WHITE</td>\n",
       "      <td>F</td>\n",
       "    </tr>\n",
       "    <tr>\n",
       "      <td>2</td>\n",
       "      <td>452701517</td>\n",
       "      <td>2018-03-30</td>\n",
       "      <td>16:55:00</td>\n",
       "      <td>DANGEROUS WEAPONS</td>\n",
       "      <td>FELONY</td>\n",
       "      <td>QUEENS</td>\n",
       "      <td>STREET</td>\n",
       "      <td>N.Y. POLICE DEPT</td>\n",
       "      <td>NaN</td>\n",
       "      <td>NaN</td>\n",
       "      <td>NaN</td>\n",
       "      <td>UNKNOWN</td>\n",
       "      <td>UNKNOWN</td>\n",
       "      <td>E</td>\n",
       "    </tr>\n",
       "    <tr>\n",
       "      <td>3</td>\n",
       "      <td>620357753</td>\n",
       "      <td>2018-10-02</td>\n",
       "      <td>16:00:00</td>\n",
       "      <td>PETIT LARCENY</td>\n",
       "      <td>MISDEMEANOR</td>\n",
       "      <td>QUEENS</td>\n",
       "      <td>STREET</td>\n",
       "      <td>N.Y. POLICE DEPT</td>\n",
       "      <td>NaN</td>\n",
       "      <td>NaN</td>\n",
       "      <td>NaN</td>\n",
       "      <td>65+</td>\n",
       "      <td>BLACK</td>\n",
       "      <td>M</td>\n",
       "    </tr>\n",
       "    <tr>\n",
       "      <td>4</td>\n",
       "      <td>110535568</td>\n",
       "      <td>2018-08-14</td>\n",
       "      <td>14:20:00</td>\n",
       "      <td>MURDER &amp; NON-NEGL. MANSLAUGHTER</td>\n",
       "      <td>FELONY</td>\n",
       "      <td>NaN</td>\n",
       "      <td>NaN</td>\n",
       "      <td>N.Y. POLICE DEPT</td>\n",
       "      <td>25-44</td>\n",
       "      <td>BLACK</td>\n",
       "      <td>M</td>\n",
       "      <td>45-64</td>\n",
       "      <td>BLACK</td>\n",
       "      <td>M</td>\n",
       "    </tr>\n",
       "  </tbody>\n",
       "</table>\n",
       "</div>"
      ],
      "text/plain": [
       "   CMPLNT_NUM CMPLNT_FR_DT CMPLNT_FR_TM                        OFNS_DESC  \\\n",
       "0   774621657   2018-10-08     12:30:00                          ROBBERY   \n",
       "1   232548146   2018-08-24     11:00:00                    PETIT LARCENY   \n",
       "2   452701517   2018-03-30     16:55:00                DANGEROUS WEAPONS   \n",
       "3   620357753   2018-10-02     16:00:00                    PETIT LARCENY   \n",
       "4   110535568   2018-08-14     14:20:00  MURDER & NON-NEGL. MANSLAUGHTER   \n",
       "\n",
       "    LAW_CAT_CD   BORO_NM    PREM_TYP_DESC        JURIS_DESC SUSP_AGE_GROUP  \\\n",
       "0       FELONY     BRONX         BUS STOP  N.Y. POLICE DEPT        UNKNOWN   \n",
       "1  MISDEMEANOR  BROOKLYN  RESIDENCE-HOUSE  N.Y. POLICE DEPT            NaN   \n",
       "2       FELONY    QUEENS           STREET  N.Y. POLICE DEPT            NaN   \n",
       "3  MISDEMEANOR    QUEENS           STREET  N.Y. POLICE DEPT            NaN   \n",
       "4       FELONY       NaN              NaN  N.Y. POLICE DEPT          25-44   \n",
       "\n",
       "  SUSP_RACE SUSP_SEX VIC_AGE_GROUP VIC_RACE VIC_SEX  \n",
       "0     BLACK        M           <18    BLACK       M  \n",
       "1       NaN      NaN         45-64    WHITE       F  \n",
       "2       NaN      NaN       UNKNOWN  UNKNOWN       E  \n",
       "3       NaN      NaN           65+    BLACK       M  \n",
       "4     BLACK        M         45-64    BLACK       M  "
      ]
     },
     "execution_count": 409,
     "metadata": {},
     "output_type": "execute_result"
    }
   ],
   "source": [
    "nypd.head(5)"
   ]
  },
  {
   "cell_type": "code",
   "execution_count": 410,
   "metadata": {},
   "outputs": [
    {
     "name": "stdout",
     "output_type": "stream",
     "text": [
      "(466295, 14)\n"
     ]
    },
    {
     "data": {
      "text/plain": [
       "CMPLNT_NUM             0\n",
       "CMPLNT_FR_DT           0\n",
       "CMPLNT_FR_TM           0\n",
       "OFNS_DESC             14\n",
       "LAW_CAT_CD             0\n",
       "BORO_NM              312\n",
       "PREM_TYP_DESC       1992\n",
       "JURIS_DESC             0\n",
       "SUSP_AGE_GROUP    119399\n",
       "SUSP_RACE         119399\n",
       "SUSP_SEX          119399\n",
       "VIC_AGE_GROUP          0\n",
       "VIC_RACE               0\n",
       "VIC_SEX                0\n",
       "dtype: int64"
      ]
     },
     "execution_count": 410,
     "metadata": {},
     "output_type": "execute_result"
    }
   ],
   "source": [
    "print(nypd.shape)\n",
    "nypd.isnull().sum()"
   ]
  },
  {
   "cell_type": "markdown",
   "metadata": {},
   "source": [
    "**Create new column with date and time strings combined**"
   ]
  },
  {
   "cell_type": "code",
   "execution_count": 411,
   "metadata": {},
   "outputs": [],
   "source": [
    "nypd['CMPLNT_FR'] = nypd['CMPLNT_FR'] = nypd['CMPLNT_FR_DT'] + ' ' + nypd['CMPLNT_FR_TM']"
   ]
  },
  {
   "cell_type": "code",
   "execution_count": 412,
   "metadata": {},
   "outputs": [
    {
     "data": {
      "text/html": [
       "<div>\n",
       "<style scoped>\n",
       "    .dataframe tbody tr th:only-of-type {\n",
       "        vertical-align: middle;\n",
       "    }\n",
       "\n",
       "    .dataframe tbody tr th {\n",
       "        vertical-align: top;\n",
       "    }\n",
       "\n",
       "    .dataframe thead th {\n",
       "        text-align: right;\n",
       "    }\n",
       "</style>\n",
       "<table border=\"1\" class=\"dataframe\">\n",
       "  <thead>\n",
       "    <tr style=\"text-align: right;\">\n",
       "      <th></th>\n",
       "      <th>CMPLNT_NUM</th>\n",
       "      <th>CMPLNT_FR_DT</th>\n",
       "      <th>CMPLNT_FR_TM</th>\n",
       "      <th>OFNS_DESC</th>\n",
       "      <th>LAW_CAT_CD</th>\n",
       "      <th>BORO_NM</th>\n",
       "      <th>PREM_TYP_DESC</th>\n",
       "      <th>JURIS_DESC</th>\n",
       "      <th>SUSP_AGE_GROUP</th>\n",
       "      <th>SUSP_RACE</th>\n",
       "      <th>SUSP_SEX</th>\n",
       "      <th>VIC_AGE_GROUP</th>\n",
       "      <th>VIC_RACE</th>\n",
       "      <th>VIC_SEX</th>\n",
       "      <th>CMPLNT_FR</th>\n",
       "    </tr>\n",
       "  </thead>\n",
       "  <tbody>\n",
       "    <tr>\n",
       "      <td>0</td>\n",
       "      <td>774621657</td>\n",
       "      <td>2018-10-08</td>\n",
       "      <td>12:30:00</td>\n",
       "      <td>ROBBERY</td>\n",
       "      <td>FELONY</td>\n",
       "      <td>BRONX</td>\n",
       "      <td>BUS STOP</td>\n",
       "      <td>N.Y. POLICE DEPT</td>\n",
       "      <td>UNKNOWN</td>\n",
       "      <td>BLACK</td>\n",
       "      <td>M</td>\n",
       "      <td>&lt;18</td>\n",
       "      <td>BLACK</td>\n",
       "      <td>M</td>\n",
       "      <td>2018-10-08 12:30:00</td>\n",
       "    </tr>\n",
       "    <tr>\n",
       "      <td>1</td>\n",
       "      <td>232548146</td>\n",
       "      <td>2018-08-24</td>\n",
       "      <td>11:00:00</td>\n",
       "      <td>PETIT LARCENY</td>\n",
       "      <td>MISDEMEANOR</td>\n",
       "      <td>BROOKLYN</td>\n",
       "      <td>RESIDENCE-HOUSE</td>\n",
       "      <td>N.Y. POLICE DEPT</td>\n",
       "      <td>NaN</td>\n",
       "      <td>NaN</td>\n",
       "      <td>NaN</td>\n",
       "      <td>45-64</td>\n",
       "      <td>WHITE</td>\n",
       "      <td>F</td>\n",
       "      <td>2018-08-24 11:00:00</td>\n",
       "    </tr>\n",
       "    <tr>\n",
       "      <td>2</td>\n",
       "      <td>452701517</td>\n",
       "      <td>2018-03-30</td>\n",
       "      <td>16:55:00</td>\n",
       "      <td>DANGEROUS WEAPONS</td>\n",
       "      <td>FELONY</td>\n",
       "      <td>QUEENS</td>\n",
       "      <td>STREET</td>\n",
       "      <td>N.Y. POLICE DEPT</td>\n",
       "      <td>NaN</td>\n",
       "      <td>NaN</td>\n",
       "      <td>NaN</td>\n",
       "      <td>UNKNOWN</td>\n",
       "      <td>UNKNOWN</td>\n",
       "      <td>E</td>\n",
       "      <td>2018-03-30 16:55:00</td>\n",
       "    </tr>\n",
       "    <tr>\n",
       "      <td>3</td>\n",
       "      <td>620357753</td>\n",
       "      <td>2018-10-02</td>\n",
       "      <td>16:00:00</td>\n",
       "      <td>PETIT LARCENY</td>\n",
       "      <td>MISDEMEANOR</td>\n",
       "      <td>QUEENS</td>\n",
       "      <td>STREET</td>\n",
       "      <td>N.Y. POLICE DEPT</td>\n",
       "      <td>NaN</td>\n",
       "      <td>NaN</td>\n",
       "      <td>NaN</td>\n",
       "      <td>65+</td>\n",
       "      <td>BLACK</td>\n",
       "      <td>M</td>\n",
       "      <td>2018-10-02 16:00:00</td>\n",
       "    </tr>\n",
       "    <tr>\n",
       "      <td>4</td>\n",
       "      <td>110535568</td>\n",
       "      <td>2018-08-14</td>\n",
       "      <td>14:20:00</td>\n",
       "      <td>MURDER &amp; NON-NEGL. MANSLAUGHTER</td>\n",
       "      <td>FELONY</td>\n",
       "      <td>NaN</td>\n",
       "      <td>NaN</td>\n",
       "      <td>N.Y. POLICE DEPT</td>\n",
       "      <td>25-44</td>\n",
       "      <td>BLACK</td>\n",
       "      <td>M</td>\n",
       "      <td>45-64</td>\n",
       "      <td>BLACK</td>\n",
       "      <td>M</td>\n",
       "      <td>2018-08-14 14:20:00</td>\n",
       "    </tr>\n",
       "  </tbody>\n",
       "</table>\n",
       "</div>"
      ],
      "text/plain": [
       "   CMPLNT_NUM CMPLNT_FR_DT CMPLNT_FR_TM                        OFNS_DESC  \\\n",
       "0   774621657   2018-10-08     12:30:00                          ROBBERY   \n",
       "1   232548146   2018-08-24     11:00:00                    PETIT LARCENY   \n",
       "2   452701517   2018-03-30     16:55:00                DANGEROUS WEAPONS   \n",
       "3   620357753   2018-10-02     16:00:00                    PETIT LARCENY   \n",
       "4   110535568   2018-08-14     14:20:00  MURDER & NON-NEGL. MANSLAUGHTER   \n",
       "\n",
       "    LAW_CAT_CD   BORO_NM    PREM_TYP_DESC        JURIS_DESC SUSP_AGE_GROUP  \\\n",
       "0       FELONY     BRONX         BUS STOP  N.Y. POLICE DEPT        UNKNOWN   \n",
       "1  MISDEMEANOR  BROOKLYN  RESIDENCE-HOUSE  N.Y. POLICE DEPT            NaN   \n",
       "2       FELONY    QUEENS           STREET  N.Y. POLICE DEPT            NaN   \n",
       "3  MISDEMEANOR    QUEENS           STREET  N.Y. POLICE DEPT            NaN   \n",
       "4       FELONY       NaN              NaN  N.Y. POLICE DEPT          25-44   \n",
       "\n",
       "  SUSP_RACE SUSP_SEX VIC_AGE_GROUP VIC_RACE VIC_SEX            CMPLNT_FR  \n",
       "0     BLACK        M           <18    BLACK       M  2018-10-08 12:30:00  \n",
       "1       NaN      NaN         45-64    WHITE       F  2018-08-24 11:00:00  \n",
       "2       NaN      NaN       UNKNOWN  UNKNOWN       E  2018-03-30 16:55:00  \n",
       "3       NaN      NaN           65+    BLACK       M  2018-10-02 16:00:00  \n",
       "4     BLACK        M         45-64    BLACK       M  2018-08-14 14:20:00  "
      ]
     },
     "execution_count": 412,
     "metadata": {},
     "output_type": "execute_result"
    }
   ],
   "source": [
    "nypd.head()"
   ]
  },
  {
   "cell_type": "code",
   "execution_count": 413,
   "metadata": {},
   "outputs": [],
   "source": [
    "nypd['CMPLNT_FR'] = pd.to_datetime(nypd['CMPLNT_FR'])"
   ]
  },
  {
   "cell_type": "code",
   "execution_count": 414,
   "metadata": {},
   "outputs": [
    {
     "data": {
      "text/plain": [
       "CMPLNT_NUM                 int64\n",
       "CMPLNT_FR_DT              object\n",
       "CMPLNT_FR_TM              object\n",
       "OFNS_DESC                 object\n",
       "LAW_CAT_CD                object\n",
       "BORO_NM                   object\n",
       "PREM_TYP_DESC             object\n",
       "JURIS_DESC                object\n",
       "SUSP_AGE_GROUP            object\n",
       "SUSP_RACE                 object\n",
       "SUSP_SEX                  object\n",
       "VIC_AGE_GROUP             object\n",
       "VIC_RACE                  object\n",
       "VIC_SEX                   object\n",
       "CMPLNT_FR         datetime64[ns]\n",
       "dtype: object"
      ]
     },
     "execution_count": 414,
     "metadata": {},
     "output_type": "execute_result"
    }
   ],
   "source": [
    "nypd.dtypes"
   ]
  },
  {
   "cell_type": "markdown",
   "metadata": {},
   "source": [
    "**Create month, week, day of week, hour columns**"
   ]
  },
  {
   "cell_type": "code",
   "execution_count": 415,
   "metadata": {},
   "outputs": [],
   "source": [
    "nypd['CMPLNT_FR_MONTH'] = nypd['CMPLNT_FR'].dt.month"
   ]
  },
  {
   "cell_type": "code",
   "execution_count": 416,
   "metadata": {},
   "outputs": [],
   "source": [
    "nypd['CMPLNT_FR_WEEK'] = nypd['CMPLNT_FR'].dt.weekofyear"
   ]
  },
  {
   "cell_type": "code",
   "execution_count": 417,
   "metadata": {},
   "outputs": [],
   "source": [
    "nypd['CMPLNT_FR_DAY_OF_WEEK'] = nypd['CMPLNT_FR'].dt.dayofweek"
   ]
  },
  {
   "cell_type": "code",
   "execution_count": 418,
   "metadata": {},
   "outputs": [
    {
     "data": {
      "text/html": [
       "<div>\n",
       "<style scoped>\n",
       "    .dataframe tbody tr th:only-of-type {\n",
       "        vertical-align: middle;\n",
       "    }\n",
       "\n",
       "    .dataframe tbody tr th {\n",
       "        vertical-align: top;\n",
       "    }\n",
       "\n",
       "    .dataframe thead th {\n",
       "        text-align: right;\n",
       "    }\n",
       "</style>\n",
       "<table border=\"1\" class=\"dataframe\">\n",
       "  <thead>\n",
       "    <tr style=\"text-align: right;\">\n",
       "      <th></th>\n",
       "      <th>CMPLNT_NUM</th>\n",
       "      <th>CMPLNT_FR_DT</th>\n",
       "      <th>CMPLNT_FR_TM</th>\n",
       "      <th>OFNS_DESC</th>\n",
       "      <th>LAW_CAT_CD</th>\n",
       "      <th>BORO_NM</th>\n",
       "      <th>PREM_TYP_DESC</th>\n",
       "      <th>JURIS_DESC</th>\n",
       "      <th>SUSP_AGE_GROUP</th>\n",
       "      <th>SUSP_RACE</th>\n",
       "      <th>SUSP_SEX</th>\n",
       "      <th>VIC_AGE_GROUP</th>\n",
       "      <th>VIC_RACE</th>\n",
       "      <th>VIC_SEX</th>\n",
       "      <th>CMPLNT_FR</th>\n",
       "      <th>CMPLNT_FR_MONTH</th>\n",
       "      <th>CMPLNT_FR_WEEK</th>\n",
       "      <th>CMPLNT_FR_DAY_OF_WEEK</th>\n",
       "    </tr>\n",
       "  </thead>\n",
       "  <tbody>\n",
       "    <tr>\n",
       "      <td>0</td>\n",
       "      <td>774621657</td>\n",
       "      <td>2018-10-08</td>\n",
       "      <td>12:30:00</td>\n",
       "      <td>ROBBERY</td>\n",
       "      <td>FELONY</td>\n",
       "      <td>BRONX</td>\n",
       "      <td>BUS STOP</td>\n",
       "      <td>N.Y. POLICE DEPT</td>\n",
       "      <td>UNKNOWN</td>\n",
       "      <td>BLACK</td>\n",
       "      <td>M</td>\n",
       "      <td>&lt;18</td>\n",
       "      <td>BLACK</td>\n",
       "      <td>M</td>\n",
       "      <td>2018-10-08 12:30:00</td>\n",
       "      <td>10</td>\n",
       "      <td>41</td>\n",
       "      <td>0</td>\n",
       "    </tr>\n",
       "    <tr>\n",
       "      <td>1</td>\n",
       "      <td>232548146</td>\n",
       "      <td>2018-08-24</td>\n",
       "      <td>11:00:00</td>\n",
       "      <td>PETIT LARCENY</td>\n",
       "      <td>MISDEMEANOR</td>\n",
       "      <td>BROOKLYN</td>\n",
       "      <td>RESIDENCE-HOUSE</td>\n",
       "      <td>N.Y. POLICE DEPT</td>\n",
       "      <td>NaN</td>\n",
       "      <td>NaN</td>\n",
       "      <td>NaN</td>\n",
       "      <td>45-64</td>\n",
       "      <td>WHITE</td>\n",
       "      <td>F</td>\n",
       "      <td>2018-08-24 11:00:00</td>\n",
       "      <td>8</td>\n",
       "      <td>34</td>\n",
       "      <td>4</td>\n",
       "    </tr>\n",
       "    <tr>\n",
       "      <td>2</td>\n",
       "      <td>452701517</td>\n",
       "      <td>2018-03-30</td>\n",
       "      <td>16:55:00</td>\n",
       "      <td>DANGEROUS WEAPONS</td>\n",
       "      <td>FELONY</td>\n",
       "      <td>QUEENS</td>\n",
       "      <td>STREET</td>\n",
       "      <td>N.Y. POLICE DEPT</td>\n",
       "      <td>NaN</td>\n",
       "      <td>NaN</td>\n",
       "      <td>NaN</td>\n",
       "      <td>UNKNOWN</td>\n",
       "      <td>UNKNOWN</td>\n",
       "      <td>E</td>\n",
       "      <td>2018-03-30 16:55:00</td>\n",
       "      <td>3</td>\n",
       "      <td>13</td>\n",
       "      <td>4</td>\n",
       "    </tr>\n",
       "    <tr>\n",
       "      <td>3</td>\n",
       "      <td>620357753</td>\n",
       "      <td>2018-10-02</td>\n",
       "      <td>16:00:00</td>\n",
       "      <td>PETIT LARCENY</td>\n",
       "      <td>MISDEMEANOR</td>\n",
       "      <td>QUEENS</td>\n",
       "      <td>STREET</td>\n",
       "      <td>N.Y. POLICE DEPT</td>\n",
       "      <td>NaN</td>\n",
       "      <td>NaN</td>\n",
       "      <td>NaN</td>\n",
       "      <td>65+</td>\n",
       "      <td>BLACK</td>\n",
       "      <td>M</td>\n",
       "      <td>2018-10-02 16:00:00</td>\n",
       "      <td>10</td>\n",
       "      <td>40</td>\n",
       "      <td>1</td>\n",
       "    </tr>\n",
       "    <tr>\n",
       "      <td>4</td>\n",
       "      <td>110535568</td>\n",
       "      <td>2018-08-14</td>\n",
       "      <td>14:20:00</td>\n",
       "      <td>MURDER &amp; NON-NEGL. MANSLAUGHTER</td>\n",
       "      <td>FELONY</td>\n",
       "      <td>NaN</td>\n",
       "      <td>NaN</td>\n",
       "      <td>N.Y. POLICE DEPT</td>\n",
       "      <td>25-44</td>\n",
       "      <td>BLACK</td>\n",
       "      <td>M</td>\n",
       "      <td>45-64</td>\n",
       "      <td>BLACK</td>\n",
       "      <td>M</td>\n",
       "      <td>2018-08-14 14:20:00</td>\n",
       "      <td>8</td>\n",
       "      <td>33</td>\n",
       "      <td>1</td>\n",
       "    </tr>\n",
       "  </tbody>\n",
       "</table>\n",
       "</div>"
      ],
      "text/plain": [
       "   CMPLNT_NUM CMPLNT_FR_DT CMPLNT_FR_TM                        OFNS_DESC  \\\n",
       "0   774621657   2018-10-08     12:30:00                          ROBBERY   \n",
       "1   232548146   2018-08-24     11:00:00                    PETIT LARCENY   \n",
       "2   452701517   2018-03-30     16:55:00                DANGEROUS WEAPONS   \n",
       "3   620357753   2018-10-02     16:00:00                    PETIT LARCENY   \n",
       "4   110535568   2018-08-14     14:20:00  MURDER & NON-NEGL. MANSLAUGHTER   \n",
       "\n",
       "    LAW_CAT_CD   BORO_NM    PREM_TYP_DESC        JURIS_DESC SUSP_AGE_GROUP  \\\n",
       "0       FELONY     BRONX         BUS STOP  N.Y. POLICE DEPT        UNKNOWN   \n",
       "1  MISDEMEANOR  BROOKLYN  RESIDENCE-HOUSE  N.Y. POLICE DEPT            NaN   \n",
       "2       FELONY    QUEENS           STREET  N.Y. POLICE DEPT            NaN   \n",
       "3  MISDEMEANOR    QUEENS           STREET  N.Y. POLICE DEPT            NaN   \n",
       "4       FELONY       NaN              NaN  N.Y. POLICE DEPT          25-44   \n",
       "\n",
       "  SUSP_RACE SUSP_SEX VIC_AGE_GROUP VIC_RACE VIC_SEX           CMPLNT_FR  \\\n",
       "0     BLACK        M           <18    BLACK       M 2018-10-08 12:30:00   \n",
       "1       NaN      NaN         45-64    WHITE       F 2018-08-24 11:00:00   \n",
       "2       NaN      NaN       UNKNOWN  UNKNOWN       E 2018-03-30 16:55:00   \n",
       "3       NaN      NaN           65+    BLACK       M 2018-10-02 16:00:00   \n",
       "4     BLACK        M         45-64    BLACK       M 2018-08-14 14:20:00   \n",
       "\n",
       "   CMPLNT_FR_MONTH  CMPLNT_FR_WEEK  CMPLNT_FR_DAY_OF_WEEK  \n",
       "0               10              41                      0  \n",
       "1                8              34                      4  \n",
       "2                3              13                      4  \n",
       "3               10              40                      1  \n",
       "4                8              33                      1  "
      ]
     },
     "execution_count": 418,
     "metadata": {},
     "output_type": "execute_result"
    }
   ],
   "source": [
    "nypd.head()"
   ]
  },
  {
   "cell_type": "code",
   "execution_count": 419,
   "metadata": {},
   "outputs": [],
   "source": [
    "nypd['CMPLNT_FR_HOUR'] = nypd['CMPLNT_FR'].dt.hour"
   ]
  },
  {
   "cell_type": "code",
   "execution_count": 420,
   "metadata": {},
   "outputs": [],
   "source": [
    "nypd['CMPLNT_FR_DATE'] = nypd['CMPLNT_FR'].dt.date"
   ]
  },
  {
   "cell_type": "markdown",
   "metadata": {},
   "source": [
    "### Now that we created all the datetime columns we needed, we can drop the `CMPLNT_FR_DT` and `CMPLNT_FR_TM` columns. We can handle that later"
   ]
  },
  {
   "cell_type": "code",
   "execution_count": 421,
   "metadata": {},
   "outputs": [
    {
     "data": {
      "text/html": [
       "<div>\n",
       "<style scoped>\n",
       "    .dataframe tbody tr th:only-of-type {\n",
       "        vertical-align: middle;\n",
       "    }\n",
       "\n",
       "    .dataframe tbody tr th {\n",
       "        vertical-align: top;\n",
       "    }\n",
       "\n",
       "    .dataframe thead th {\n",
       "        text-align: right;\n",
       "    }\n",
       "</style>\n",
       "<table border=\"1\" class=\"dataframe\">\n",
       "  <thead>\n",
       "    <tr style=\"text-align: right;\">\n",
       "      <th></th>\n",
       "      <th>Count of Nulls</th>\n",
       "    </tr>\n",
       "    <tr>\n",
       "      <th>Column</th>\n",
       "      <th></th>\n",
       "    </tr>\n",
       "  </thead>\n",
       "  <tbody>\n",
       "    <tr>\n",
       "      <td>SUSP_SEX</td>\n",
       "      <td>119399</td>\n",
       "    </tr>\n",
       "    <tr>\n",
       "      <td>SUSP_AGE_GROUP</td>\n",
       "      <td>119399</td>\n",
       "    </tr>\n",
       "    <tr>\n",
       "      <td>SUSP_RACE</td>\n",
       "      <td>119399</td>\n",
       "    </tr>\n",
       "    <tr>\n",
       "      <td>PREM_TYP_DESC</td>\n",
       "      <td>1992</td>\n",
       "    </tr>\n",
       "    <tr>\n",
       "      <td>BORO_NM</td>\n",
       "      <td>312</td>\n",
       "    </tr>\n",
       "    <tr>\n",
       "      <td>OFNS_DESC</td>\n",
       "      <td>14</td>\n",
       "    </tr>\n",
       "    <tr>\n",
       "      <td>VIC_SEX</td>\n",
       "      <td>0</td>\n",
       "    </tr>\n",
       "    <tr>\n",
       "      <td>CMPLNT_FR_HOUR</td>\n",
       "      <td>0</td>\n",
       "    </tr>\n",
       "    <tr>\n",
       "      <td>CMPLNT_FR_DAY_OF_WEEK</td>\n",
       "      <td>0</td>\n",
       "    </tr>\n",
       "    <tr>\n",
       "      <td>CMPLNT_FR_WEEK</td>\n",
       "      <td>0</td>\n",
       "    </tr>\n",
       "    <tr>\n",
       "      <td>CMPLNT_FR_MONTH</td>\n",
       "      <td>0</td>\n",
       "    </tr>\n",
       "    <tr>\n",
       "      <td>CMPLNT_FR</td>\n",
       "      <td>0</td>\n",
       "    </tr>\n",
       "    <tr>\n",
       "      <td>CMPLNT_NUM</td>\n",
       "      <td>0</td>\n",
       "    </tr>\n",
       "    <tr>\n",
       "      <td>VIC_RACE</td>\n",
       "      <td>0</td>\n",
       "    </tr>\n",
       "    <tr>\n",
       "      <td>VIC_AGE_GROUP</td>\n",
       "      <td>0</td>\n",
       "    </tr>\n",
       "    <tr>\n",
       "      <td>CMPLNT_FR_DT</td>\n",
       "      <td>0</td>\n",
       "    </tr>\n",
       "    <tr>\n",
       "      <td>JURIS_DESC</td>\n",
       "      <td>0</td>\n",
       "    </tr>\n",
       "    <tr>\n",
       "      <td>LAW_CAT_CD</td>\n",
       "      <td>0</td>\n",
       "    </tr>\n",
       "    <tr>\n",
       "      <td>CMPLNT_FR_TM</td>\n",
       "      <td>0</td>\n",
       "    </tr>\n",
       "    <tr>\n",
       "      <td>CMPLNT_FR_DATE</td>\n",
       "      <td>0</td>\n",
       "    </tr>\n",
       "  </tbody>\n",
       "</table>\n",
       "</div>"
      ],
      "text/plain": [
       "                       Count of Nulls\n",
       "Column                               \n",
       "SUSP_SEX                       119399\n",
       "SUSP_AGE_GROUP                 119399\n",
       "SUSP_RACE                      119399\n",
       "PREM_TYP_DESC                    1992\n",
       "BORO_NM                           312\n",
       "OFNS_DESC                          14\n",
       "VIC_SEX                             0\n",
       "CMPLNT_FR_HOUR                      0\n",
       "CMPLNT_FR_DAY_OF_WEEK               0\n",
       "CMPLNT_FR_WEEK                      0\n",
       "CMPLNT_FR_MONTH                     0\n",
       "CMPLNT_FR                           0\n",
       "CMPLNT_NUM                          0\n",
       "VIC_RACE                            0\n",
       "VIC_AGE_GROUP                       0\n",
       "CMPLNT_FR_DT                        0\n",
       "JURIS_DESC                          0\n",
       "LAW_CAT_CD                          0\n",
       "CMPLNT_FR_TM                        0\n",
       "CMPLNT_FR_DATE                      0"
      ]
     },
     "execution_count": 421,
     "metadata": {},
     "output_type": "execute_result"
    }
   ],
   "source": [
    "null_df = pd.DataFrame(nypd.isnull().sum(), columns=['Count of Nulls'])\n",
    "null_df.index.name = 'Column'\n",
    "null_df.sort_values('Count of Nulls', ascending=False, inplace=True)\n",
    "null_df.head(30)"
   ]
  },
  {
   "cell_type": "markdown",
   "metadata": {},
   "source": [
    "**Show all rows where `OFNS_DESC` is null**"
   ]
  },
  {
   "cell_type": "code",
   "execution_count": 422,
   "metadata": {},
   "outputs": [
    {
     "data": {
      "text/html": [
       "<div>\n",
       "<style scoped>\n",
       "    .dataframe tbody tr th:only-of-type {\n",
       "        vertical-align: middle;\n",
       "    }\n",
       "\n",
       "    .dataframe tbody tr th {\n",
       "        vertical-align: top;\n",
       "    }\n",
       "\n",
       "    .dataframe thead th {\n",
       "        text-align: right;\n",
       "    }\n",
       "</style>\n",
       "<table border=\"1\" class=\"dataframe\">\n",
       "  <thead>\n",
       "    <tr style=\"text-align: right;\">\n",
       "      <th>Column</th>\n",
       "      <th>CMPLNT_NUM</th>\n",
       "      <th>CMPLNT_FR_DT</th>\n",
       "      <th>CMPLNT_FR_TM</th>\n",
       "      <th>OFNS_DESC</th>\n",
       "      <th>LAW_CAT_CD</th>\n",
       "      <th>BORO_NM</th>\n",
       "      <th>PREM_TYP_DESC</th>\n",
       "      <th>JURIS_DESC</th>\n",
       "      <th>SUSP_AGE_GROUP</th>\n",
       "      <th>SUSP_RACE</th>\n",
       "      <th>SUSP_SEX</th>\n",
       "      <th>VIC_AGE_GROUP</th>\n",
       "      <th>VIC_RACE</th>\n",
       "      <th>VIC_SEX</th>\n",
       "      <th>CMPLNT_FR</th>\n",
       "      <th>CMPLNT_FR_MONTH</th>\n",
       "      <th>CMPLNT_FR_WEEK</th>\n",
       "      <th>CMPLNT_FR_DAY_OF_WEEK</th>\n",
       "      <th>CMPLNT_FR_HOUR</th>\n",
       "      <th>CMPLNT_FR_DATE</th>\n",
       "    </tr>\n",
       "  </thead>\n",
       "  <tbody>\n",
       "    <tr>\n",
       "      <td>1289</td>\n",
       "      <td>123155015</td>\n",
       "      <td>2018-02-01</td>\n",
       "      <td>22:45:00</td>\n",
       "      <td>NaN</td>\n",
       "      <td>FELONY</td>\n",
       "      <td>BRONX</td>\n",
       "      <td>RESIDENCE - PUBLIC HOUSING</td>\n",
       "      <td>N.Y. HOUSING POLICE</td>\n",
       "      <td>25-44</td>\n",
       "      <td>BLACK</td>\n",
       "      <td>M</td>\n",
       "      <td>25-44</td>\n",
       "      <td>BLACK</td>\n",
       "      <td>M</td>\n",
       "      <td>2018-02-01 22:45:00</td>\n",
       "      <td>2</td>\n",
       "      <td>5</td>\n",
       "      <td>3</td>\n",
       "      <td>22</td>\n",
       "      <td>2018-02-01</td>\n",
       "    </tr>\n",
       "    <tr>\n",
       "      <td>123137</td>\n",
       "      <td>281923211</td>\n",
       "      <td>2018-06-13</td>\n",
       "      <td>17:00:00</td>\n",
       "      <td>NaN</td>\n",
       "      <td>FELONY</td>\n",
       "      <td>BRONX</td>\n",
       "      <td>COMMERCIAL BUILDING</td>\n",
       "      <td>N.Y. POLICE DEPT</td>\n",
       "      <td>45-64</td>\n",
       "      <td>BLACK HISPANIC</td>\n",
       "      <td>M</td>\n",
       "      <td>&lt;18</td>\n",
       "      <td>WHITE HISPANIC</td>\n",
       "      <td>F</td>\n",
       "      <td>2018-06-13 17:00:00</td>\n",
       "      <td>6</td>\n",
       "      <td>24</td>\n",
       "      <td>2</td>\n",
       "      <td>17</td>\n",
       "      <td>2018-06-13</td>\n",
       "    </tr>\n",
       "    <tr>\n",
       "      <td>333765</td>\n",
       "      <td>802300948</td>\n",
       "      <td>2018-08-20</td>\n",
       "      <td>08:00:00</td>\n",
       "      <td>NaN</td>\n",
       "      <td>FELONY</td>\n",
       "      <td>BROOKLYN</td>\n",
       "      <td>RESIDENCE - APT. HOUSE</td>\n",
       "      <td>N.Y. POLICE DEPT</td>\n",
       "      <td>25-44</td>\n",
       "      <td>WHITE</td>\n",
       "      <td>M</td>\n",
       "      <td>UNKNOWN</td>\n",
       "      <td>UNKNOWN</td>\n",
       "      <td>E</td>\n",
       "      <td>2018-08-20 08:00:00</td>\n",
       "      <td>8</td>\n",
       "      <td>34</td>\n",
       "      <td>0</td>\n",
       "      <td>8</td>\n",
       "      <td>2018-08-20</td>\n",
       "    </tr>\n",
       "    <tr>\n",
       "      <td>339070</td>\n",
       "      <td>826244669</td>\n",
       "      <td>2018-02-13</td>\n",
       "      <td>07:30:00</td>\n",
       "      <td>NaN</td>\n",
       "      <td>FELONY</td>\n",
       "      <td>BROOKLYN</td>\n",
       "      <td>PUBLIC SCHOOL</td>\n",
       "      <td>N.Y. POLICE DEPT</td>\n",
       "      <td>UNKNOWN</td>\n",
       "      <td>UNKNOWN</td>\n",
       "      <td>M</td>\n",
       "      <td>UNKNOWN</td>\n",
       "      <td>UNKNOWN</td>\n",
       "      <td>E</td>\n",
       "      <td>2018-02-13 07:30:00</td>\n",
       "      <td>2</td>\n",
       "      <td>7</td>\n",
       "      <td>1</td>\n",
       "      <td>7</td>\n",
       "      <td>2018-02-13</td>\n",
       "    </tr>\n",
       "    <tr>\n",
       "      <td>348494</td>\n",
       "      <td>996957479</td>\n",
       "      <td>2018-04-08</td>\n",
       "      <td>13:00:00</td>\n",
       "      <td>NaN</td>\n",
       "      <td>FELONY</td>\n",
       "      <td>STATEN ISLAND</td>\n",
       "      <td>RESIDENCE-HOUSE</td>\n",
       "      <td>N.Y. POLICE DEPT</td>\n",
       "      <td>&lt;18</td>\n",
       "      <td>WHITE</td>\n",
       "      <td>M</td>\n",
       "      <td>UNKNOWN</td>\n",
       "      <td>UNKNOWN</td>\n",
       "      <td>E</td>\n",
       "      <td>2018-04-08 13:00:00</td>\n",
       "      <td>4</td>\n",
       "      <td>14</td>\n",
       "      <td>6</td>\n",
       "      <td>13</td>\n",
       "      <td>2018-04-08</td>\n",
       "    </tr>\n",
       "    <tr>\n",
       "      <td>351092</td>\n",
       "      <td>641518495</td>\n",
       "      <td>2018-08-13</td>\n",
       "      <td>10:07:00</td>\n",
       "      <td>NaN</td>\n",
       "      <td>FELONY</td>\n",
       "      <td>MANHATTAN</td>\n",
       "      <td>BUS TERMINAL</td>\n",
       "      <td>PORT AUTHORITY</td>\n",
       "      <td>25-44</td>\n",
       "      <td>BLACK</td>\n",
       "      <td>M</td>\n",
       "      <td>UNKNOWN</td>\n",
       "      <td>UNKNOWN</td>\n",
       "      <td>E</td>\n",
       "      <td>2018-08-13 10:07:00</td>\n",
       "      <td>8</td>\n",
       "      <td>33</td>\n",
       "      <td>0</td>\n",
       "      <td>10</td>\n",
       "      <td>2018-08-13</td>\n",
       "    </tr>\n",
       "    <tr>\n",
       "      <td>453041</td>\n",
       "      <td>803987554</td>\n",
       "      <td>2018-09-25</td>\n",
       "      <td>09:00:00</td>\n",
       "      <td>NaN</td>\n",
       "      <td>FELONY</td>\n",
       "      <td>MANHATTAN</td>\n",
       "      <td>RESIDENCE - APT. HOUSE</td>\n",
       "      <td>N.Y. POLICE DEPT</td>\n",
       "      <td>25-44</td>\n",
       "      <td>BLACK</td>\n",
       "      <td>M</td>\n",
       "      <td>UNKNOWN</td>\n",
       "      <td>UNKNOWN</td>\n",
       "      <td>E</td>\n",
       "      <td>2018-09-25 09:00:00</td>\n",
       "      <td>9</td>\n",
       "      <td>39</td>\n",
       "      <td>1</td>\n",
       "      <td>9</td>\n",
       "      <td>2018-09-25</td>\n",
       "    </tr>\n",
       "    <tr>\n",
       "      <td>453393</td>\n",
       "      <td>288975395</td>\n",
       "      <td>2018-10-16</td>\n",
       "      <td>02:37:00</td>\n",
       "      <td>NaN</td>\n",
       "      <td>FELONY</td>\n",
       "      <td>BROOKLYN</td>\n",
       "      <td>RESIDENCE - APT. HOUSE</td>\n",
       "      <td>N.Y. POLICE DEPT</td>\n",
       "      <td>65+</td>\n",
       "      <td>WHITE</td>\n",
       "      <td>M</td>\n",
       "      <td>UNKNOWN</td>\n",
       "      <td>UNKNOWN</td>\n",
       "      <td>E</td>\n",
       "      <td>2018-10-16 02:37:00</td>\n",
       "      <td>10</td>\n",
       "      <td>42</td>\n",
       "      <td>1</td>\n",
       "      <td>2</td>\n",
       "      <td>2018-10-16</td>\n",
       "    </tr>\n",
       "    <tr>\n",
       "      <td>455258</td>\n",
       "      <td>313776880</td>\n",
       "      <td>2018-12-01</td>\n",
       "      <td>00:01:00</td>\n",
       "      <td>NaN</td>\n",
       "      <td>FELONY</td>\n",
       "      <td>MANHATTAN</td>\n",
       "      <td>NaN</td>\n",
       "      <td>N.Y. POLICE DEPT</td>\n",
       "      <td>25-44</td>\n",
       "      <td>BLACK</td>\n",
       "      <td>M</td>\n",
       "      <td>&lt;18</td>\n",
       "      <td>WHITE HISPANIC</td>\n",
       "      <td>F</td>\n",
       "      <td>2018-12-01 00:01:00</td>\n",
       "      <td>12</td>\n",
       "      <td>48</td>\n",
       "      <td>5</td>\n",
       "      <td>0</td>\n",
       "      <td>2018-12-01</td>\n",
       "    </tr>\n",
       "    <tr>\n",
       "      <td>455379</td>\n",
       "      <td>188714222</td>\n",
       "      <td>2018-12-01</td>\n",
       "      <td>00:01:00</td>\n",
       "      <td>NaN</td>\n",
       "      <td>FELONY</td>\n",
       "      <td>MANHATTAN</td>\n",
       "      <td>PRIVATE/PAROCHIAL SCHOOL</td>\n",
       "      <td>N.Y. POLICE DEPT</td>\n",
       "      <td>25-44</td>\n",
       "      <td>BLACK</td>\n",
       "      <td>M</td>\n",
       "      <td>&lt;18</td>\n",
       "      <td>WHITE HISPANIC</td>\n",
       "      <td>F</td>\n",
       "      <td>2018-12-01 00:01:00</td>\n",
       "      <td>12</td>\n",
       "      <td>48</td>\n",
       "      <td>5</td>\n",
       "      <td>0</td>\n",
       "      <td>2018-12-01</td>\n",
       "    </tr>\n",
       "    <tr>\n",
       "      <td>460935</td>\n",
       "      <td>288975395</td>\n",
       "      <td>2018-10-16</td>\n",
       "      <td>02:37:00</td>\n",
       "      <td>NaN</td>\n",
       "      <td>FELONY</td>\n",
       "      <td>BROOKLYN</td>\n",
       "      <td>RESIDENCE - APT. HOUSE</td>\n",
       "      <td>N.Y. POLICE DEPT</td>\n",
       "      <td>65+</td>\n",
       "      <td>WHITE</td>\n",
       "      <td>M</td>\n",
       "      <td>UNKNOWN</td>\n",
       "      <td>UNKNOWN</td>\n",
       "      <td>E</td>\n",
       "      <td>2018-10-16 02:37:00</td>\n",
       "      <td>10</td>\n",
       "      <td>42</td>\n",
       "      <td>1</td>\n",
       "      <td>2</td>\n",
       "      <td>2018-10-16</td>\n",
       "    </tr>\n",
       "    <tr>\n",
       "      <td>463524</td>\n",
       "      <td>313776880</td>\n",
       "      <td>2018-12-01</td>\n",
       "      <td>00:01:00</td>\n",
       "      <td>NaN</td>\n",
       "      <td>FELONY</td>\n",
       "      <td>MANHATTAN</td>\n",
       "      <td>NaN</td>\n",
       "      <td>N.Y. POLICE DEPT</td>\n",
       "      <td>25-44</td>\n",
       "      <td>BLACK</td>\n",
       "      <td>M</td>\n",
       "      <td>&lt;18</td>\n",
       "      <td>WHITE HISPANIC</td>\n",
       "      <td>F</td>\n",
       "      <td>2018-12-01 00:01:00</td>\n",
       "      <td>12</td>\n",
       "      <td>48</td>\n",
       "      <td>5</td>\n",
       "      <td>0</td>\n",
       "      <td>2018-12-01</td>\n",
       "    </tr>\n",
       "    <tr>\n",
       "      <td>463576</td>\n",
       "      <td>188714222</td>\n",
       "      <td>2018-12-01</td>\n",
       "      <td>00:01:00</td>\n",
       "      <td>NaN</td>\n",
       "      <td>FELONY</td>\n",
       "      <td>MANHATTAN</td>\n",
       "      <td>PRIVATE/PAROCHIAL SCHOOL</td>\n",
       "      <td>N.Y. POLICE DEPT</td>\n",
       "      <td>25-44</td>\n",
       "      <td>BLACK</td>\n",
       "      <td>M</td>\n",
       "      <td>&lt;18</td>\n",
       "      <td>WHITE HISPANIC</td>\n",
       "      <td>F</td>\n",
       "      <td>2018-12-01 00:01:00</td>\n",
       "      <td>12</td>\n",
       "      <td>48</td>\n",
       "      <td>5</td>\n",
       "      <td>0</td>\n",
       "      <td>2018-12-01</td>\n",
       "    </tr>\n",
       "    <tr>\n",
       "      <td>465791</td>\n",
       "      <td>803987554</td>\n",
       "      <td>2018-09-25</td>\n",
       "      <td>09:00:00</td>\n",
       "      <td>NaN</td>\n",
       "      <td>FELONY</td>\n",
       "      <td>MANHATTAN</td>\n",
       "      <td>RESIDENCE - APT. HOUSE</td>\n",
       "      <td>N.Y. POLICE DEPT</td>\n",
       "      <td>25-44</td>\n",
       "      <td>BLACK</td>\n",
       "      <td>M</td>\n",
       "      <td>UNKNOWN</td>\n",
       "      <td>UNKNOWN</td>\n",
       "      <td>E</td>\n",
       "      <td>2018-09-25 09:00:00</td>\n",
       "      <td>9</td>\n",
       "      <td>39</td>\n",
       "      <td>1</td>\n",
       "      <td>9</td>\n",
       "      <td>2018-09-25</td>\n",
       "    </tr>\n",
       "  </tbody>\n",
       "</table>\n",
       "</div>"
      ],
      "text/plain": [
       "Column  CMPLNT_NUM CMPLNT_FR_DT CMPLNT_FR_TM OFNS_DESC LAW_CAT_CD  \\\n",
       "1289     123155015   2018-02-01     22:45:00       NaN     FELONY   \n",
       "123137   281923211   2018-06-13     17:00:00       NaN     FELONY   \n",
       "333765   802300948   2018-08-20     08:00:00       NaN     FELONY   \n",
       "339070   826244669   2018-02-13     07:30:00       NaN     FELONY   \n",
       "348494   996957479   2018-04-08     13:00:00       NaN     FELONY   \n",
       "351092   641518495   2018-08-13     10:07:00       NaN     FELONY   \n",
       "453041   803987554   2018-09-25     09:00:00       NaN     FELONY   \n",
       "453393   288975395   2018-10-16     02:37:00       NaN     FELONY   \n",
       "455258   313776880   2018-12-01     00:01:00       NaN     FELONY   \n",
       "455379   188714222   2018-12-01     00:01:00       NaN     FELONY   \n",
       "460935   288975395   2018-10-16     02:37:00       NaN     FELONY   \n",
       "463524   313776880   2018-12-01     00:01:00       NaN     FELONY   \n",
       "463576   188714222   2018-12-01     00:01:00       NaN     FELONY   \n",
       "465791   803987554   2018-09-25     09:00:00       NaN     FELONY   \n",
       "\n",
       "Column        BORO_NM               PREM_TYP_DESC           JURIS_DESC  \\\n",
       "1289            BRONX  RESIDENCE - PUBLIC HOUSING  N.Y. HOUSING POLICE   \n",
       "123137          BRONX         COMMERCIAL BUILDING     N.Y. POLICE DEPT   \n",
       "333765       BROOKLYN      RESIDENCE - APT. HOUSE     N.Y. POLICE DEPT   \n",
       "339070       BROOKLYN               PUBLIC SCHOOL     N.Y. POLICE DEPT   \n",
       "348494  STATEN ISLAND             RESIDENCE-HOUSE     N.Y. POLICE DEPT   \n",
       "351092      MANHATTAN                BUS TERMINAL       PORT AUTHORITY   \n",
       "453041      MANHATTAN      RESIDENCE - APT. HOUSE     N.Y. POLICE DEPT   \n",
       "453393       BROOKLYN      RESIDENCE - APT. HOUSE     N.Y. POLICE DEPT   \n",
       "455258      MANHATTAN                         NaN     N.Y. POLICE DEPT   \n",
       "455379      MANHATTAN    PRIVATE/PAROCHIAL SCHOOL     N.Y. POLICE DEPT   \n",
       "460935       BROOKLYN      RESIDENCE - APT. HOUSE     N.Y. POLICE DEPT   \n",
       "463524      MANHATTAN                         NaN     N.Y. POLICE DEPT   \n",
       "463576      MANHATTAN    PRIVATE/PAROCHIAL SCHOOL     N.Y. POLICE DEPT   \n",
       "465791      MANHATTAN      RESIDENCE - APT. HOUSE     N.Y. POLICE DEPT   \n",
       "\n",
       "Column SUSP_AGE_GROUP       SUSP_RACE SUSP_SEX VIC_AGE_GROUP        VIC_RACE  \\\n",
       "1289            25-44           BLACK        M         25-44           BLACK   \n",
       "123137          45-64  BLACK HISPANIC        M           <18  WHITE HISPANIC   \n",
       "333765          25-44           WHITE        M       UNKNOWN         UNKNOWN   \n",
       "339070        UNKNOWN         UNKNOWN        M       UNKNOWN         UNKNOWN   \n",
       "348494            <18           WHITE        M       UNKNOWN         UNKNOWN   \n",
       "351092          25-44           BLACK        M       UNKNOWN         UNKNOWN   \n",
       "453041          25-44           BLACK        M       UNKNOWN         UNKNOWN   \n",
       "453393            65+           WHITE        M       UNKNOWN         UNKNOWN   \n",
       "455258          25-44           BLACK        M           <18  WHITE HISPANIC   \n",
       "455379          25-44           BLACK        M           <18  WHITE HISPANIC   \n",
       "460935            65+           WHITE        M       UNKNOWN         UNKNOWN   \n",
       "463524          25-44           BLACK        M           <18  WHITE HISPANIC   \n",
       "463576          25-44           BLACK        M           <18  WHITE HISPANIC   \n",
       "465791          25-44           BLACK        M       UNKNOWN         UNKNOWN   \n",
       "\n",
       "Column VIC_SEX           CMPLNT_FR  CMPLNT_FR_MONTH  CMPLNT_FR_WEEK  \\\n",
       "1289         M 2018-02-01 22:45:00                2               5   \n",
       "123137       F 2018-06-13 17:00:00                6              24   \n",
       "333765       E 2018-08-20 08:00:00                8              34   \n",
       "339070       E 2018-02-13 07:30:00                2               7   \n",
       "348494       E 2018-04-08 13:00:00                4              14   \n",
       "351092       E 2018-08-13 10:07:00                8              33   \n",
       "453041       E 2018-09-25 09:00:00                9              39   \n",
       "453393       E 2018-10-16 02:37:00               10              42   \n",
       "455258       F 2018-12-01 00:01:00               12              48   \n",
       "455379       F 2018-12-01 00:01:00               12              48   \n",
       "460935       E 2018-10-16 02:37:00               10              42   \n",
       "463524       F 2018-12-01 00:01:00               12              48   \n",
       "463576       F 2018-12-01 00:01:00               12              48   \n",
       "465791       E 2018-09-25 09:00:00                9              39   \n",
       "\n",
       "Column  CMPLNT_FR_DAY_OF_WEEK  CMPLNT_FR_HOUR CMPLNT_FR_DATE  \n",
       "1289                        3              22     2018-02-01  \n",
       "123137                      2              17     2018-06-13  \n",
       "333765                      0               8     2018-08-20  \n",
       "339070                      1               7     2018-02-13  \n",
       "348494                      6              13     2018-04-08  \n",
       "351092                      0              10     2018-08-13  \n",
       "453041                      1               9     2018-09-25  \n",
       "453393                      1               2     2018-10-16  \n",
       "455258                      5               0     2018-12-01  \n",
       "455379                      5               0     2018-12-01  \n",
       "460935                      1               2     2018-10-16  \n",
       "463524                      5               0     2018-12-01  \n",
       "463576                      5               0     2018-12-01  \n",
       "465791                      1               9     2018-09-25  "
      ]
     },
     "execution_count": 422,
     "metadata": {},
     "output_type": "execute_result"
    }
   ],
   "source": [
    "nypd[nypd['OFNS_DESC'].isnull()]"
   ]
  },
  {
   "cell_type": "markdown",
   "metadata": {},
   "source": [
    "14 records where `OFNS_DESC` is null"
   ]
  },
  {
   "cell_type": "code",
   "execution_count": 423,
   "metadata": {},
   "outputs": [
    {
     "data": {
      "text/plain": [
       "(466295, 20)"
      ]
     },
     "execution_count": 423,
     "metadata": {},
     "output_type": "execute_result"
    }
   ],
   "source": [
    "nypd.shape"
   ]
  },
  {
   "cell_type": "markdown",
   "metadata": {},
   "source": [
    "**Drop rows where `OFNS_DESC` is null**"
   ]
  },
  {
   "cell_type": "code",
   "execution_count": 424,
   "metadata": {},
   "outputs": [],
   "source": [
    "nypd_ofns_nulls_dropped = nypd.dropna(subset=['OFNS_DESC'], inplace=True)"
   ]
  },
  {
   "cell_type": "code",
   "execution_count": 425,
   "metadata": {},
   "outputs": [
    {
     "data": {
      "text/plain": [
       "(466281, 20)"
      ]
     },
     "execution_count": 425,
     "metadata": {},
     "output_type": "execute_result"
    }
   ],
   "source": [
    "nypd.shape"
   ]
  },
  {
   "cell_type": "code",
   "execution_count": 426,
   "metadata": {},
   "outputs": [
    {
     "data": {
      "text/html": [
       "<div>\n",
       "<style scoped>\n",
       "    .dataframe tbody tr th:only-of-type {\n",
       "        vertical-align: middle;\n",
       "    }\n",
       "\n",
       "    .dataframe tbody tr th {\n",
       "        vertical-align: top;\n",
       "    }\n",
       "\n",
       "    .dataframe thead th {\n",
       "        text-align: right;\n",
       "    }\n",
       "</style>\n",
       "<table border=\"1\" class=\"dataframe\">\n",
       "  <thead>\n",
       "    <tr style=\"text-align: right;\">\n",
       "      <th></th>\n",
       "      <th>Count of Nulls</th>\n",
       "    </tr>\n",
       "    <tr>\n",
       "      <th>Column</th>\n",
       "      <th></th>\n",
       "    </tr>\n",
       "  </thead>\n",
       "  <tbody>\n",
       "    <tr>\n",
       "      <td>SUSP_SEX</td>\n",
       "      <td>119399</td>\n",
       "    </tr>\n",
       "    <tr>\n",
       "      <td>SUSP_AGE_GROUP</td>\n",
       "      <td>119399</td>\n",
       "    </tr>\n",
       "    <tr>\n",
       "      <td>SUSP_RACE</td>\n",
       "      <td>119399</td>\n",
       "    </tr>\n",
       "    <tr>\n",
       "      <td>PREM_TYP_DESC</td>\n",
       "      <td>1990</td>\n",
       "    </tr>\n",
       "    <tr>\n",
       "      <td>BORO_NM</td>\n",
       "      <td>312</td>\n",
       "    </tr>\n",
       "    <tr>\n",
       "      <td>VIC_RACE</td>\n",
       "      <td>0</td>\n",
       "    </tr>\n",
       "    <tr>\n",
       "      <td>CMPLNT_FR_HOUR</td>\n",
       "      <td>0</td>\n",
       "    </tr>\n",
       "    <tr>\n",
       "      <td>CMPLNT_FR_DAY_OF_WEEK</td>\n",
       "      <td>0</td>\n",
       "    </tr>\n",
       "    <tr>\n",
       "      <td>CMPLNT_FR_WEEK</td>\n",
       "      <td>0</td>\n",
       "    </tr>\n",
       "    <tr>\n",
       "      <td>CMPLNT_FR_MONTH</td>\n",
       "      <td>0</td>\n",
       "    </tr>\n",
       "    <tr>\n",
       "      <td>CMPLNT_FR</td>\n",
       "      <td>0</td>\n",
       "    </tr>\n",
       "    <tr>\n",
       "      <td>VIC_SEX</td>\n",
       "      <td>0</td>\n",
       "    </tr>\n",
       "    <tr>\n",
       "      <td>CMPLNT_NUM</td>\n",
       "      <td>0</td>\n",
       "    </tr>\n",
       "    <tr>\n",
       "      <td>VIC_AGE_GROUP</td>\n",
       "      <td>0</td>\n",
       "    </tr>\n",
       "    <tr>\n",
       "      <td>CMPLNT_FR_DT</td>\n",
       "      <td>0</td>\n",
       "    </tr>\n",
       "    <tr>\n",
       "      <td>JURIS_DESC</td>\n",
       "      <td>0</td>\n",
       "    </tr>\n",
       "    <tr>\n",
       "      <td>LAW_CAT_CD</td>\n",
       "      <td>0</td>\n",
       "    </tr>\n",
       "    <tr>\n",
       "      <td>OFNS_DESC</td>\n",
       "      <td>0</td>\n",
       "    </tr>\n",
       "    <tr>\n",
       "      <td>CMPLNT_FR_TM</td>\n",
       "      <td>0</td>\n",
       "    </tr>\n",
       "    <tr>\n",
       "      <td>CMPLNT_FR_DATE</td>\n",
       "      <td>0</td>\n",
       "    </tr>\n",
       "  </tbody>\n",
       "</table>\n",
       "</div>"
      ],
      "text/plain": [
       "                       Count of Nulls\n",
       "Column                               \n",
       "SUSP_SEX                       119399\n",
       "SUSP_AGE_GROUP                 119399\n",
       "SUSP_RACE                      119399\n",
       "PREM_TYP_DESC                    1990\n",
       "BORO_NM                           312\n",
       "VIC_RACE                            0\n",
       "CMPLNT_FR_HOUR                      0\n",
       "CMPLNT_FR_DAY_OF_WEEK               0\n",
       "CMPLNT_FR_WEEK                      0\n",
       "CMPLNT_FR_MONTH                     0\n",
       "CMPLNT_FR                           0\n",
       "VIC_SEX                             0\n",
       "CMPLNT_NUM                          0\n",
       "VIC_AGE_GROUP                       0\n",
       "CMPLNT_FR_DT                        0\n",
       "JURIS_DESC                          0\n",
       "LAW_CAT_CD                          0\n",
       "OFNS_DESC                           0\n",
       "CMPLNT_FR_TM                        0\n",
       "CMPLNT_FR_DATE                      0"
      ]
     },
     "execution_count": 426,
     "metadata": {},
     "output_type": "execute_result"
    }
   ],
   "source": [
    "null_df = pd.DataFrame(nypd.isnull().sum(), columns=['Count of Nulls'])\n",
    "null_df.index.name = 'Column'\n",
    "null_df.sort_values('Count of Nulls', ascending=False, inplace=True)\n",
    "null_df.head(30)"
   ]
  },
  {
   "cell_type": "code",
   "execution_count": 427,
   "metadata": {},
   "outputs": [
    {
     "data": {
      "text/html": [
       "<div>\n",
       "<style scoped>\n",
       "    .dataframe tbody tr th:only-of-type {\n",
       "        vertical-align: middle;\n",
       "    }\n",
       "\n",
       "    .dataframe tbody tr th {\n",
       "        vertical-align: top;\n",
       "    }\n",
       "\n",
       "    .dataframe thead th {\n",
       "        text-align: right;\n",
       "    }\n",
       "</style>\n",
       "<table border=\"1\" class=\"dataframe\">\n",
       "  <thead>\n",
       "    <tr style=\"text-align: right;\">\n",
       "      <th>Column</th>\n",
       "      <th>CMPLNT_NUM</th>\n",
       "      <th>CMPLNT_FR_DT</th>\n",
       "      <th>CMPLNT_FR_TM</th>\n",
       "      <th>OFNS_DESC</th>\n",
       "      <th>LAW_CAT_CD</th>\n",
       "      <th>BORO_NM</th>\n",
       "      <th>PREM_TYP_DESC</th>\n",
       "      <th>JURIS_DESC</th>\n",
       "      <th>SUSP_AGE_GROUP</th>\n",
       "      <th>SUSP_RACE</th>\n",
       "      <th>SUSP_SEX</th>\n",
       "      <th>VIC_AGE_GROUP</th>\n",
       "      <th>VIC_RACE</th>\n",
       "      <th>VIC_SEX</th>\n",
       "      <th>CMPLNT_FR</th>\n",
       "      <th>CMPLNT_FR_MONTH</th>\n",
       "      <th>CMPLNT_FR_WEEK</th>\n",
       "      <th>CMPLNT_FR_DAY_OF_WEEK</th>\n",
       "      <th>CMPLNT_FR_HOUR</th>\n",
       "      <th>CMPLNT_FR_DATE</th>\n",
       "    </tr>\n",
       "  </thead>\n",
       "  <tbody>\n",
       "    <tr>\n",
       "      <td>4</td>\n",
       "      <td>110535568</td>\n",
       "      <td>2018-08-14</td>\n",
       "      <td>14:20:00</td>\n",
       "      <td>MURDER &amp; NON-NEGL. MANSLAUGHTER</td>\n",
       "      <td>FELONY</td>\n",
       "      <td>NaN</td>\n",
       "      <td>NaN</td>\n",
       "      <td>N.Y. POLICE DEPT</td>\n",
       "      <td>25-44</td>\n",
       "      <td>BLACK</td>\n",
       "      <td>M</td>\n",
       "      <td>45-64</td>\n",
       "      <td>BLACK</td>\n",
       "      <td>M</td>\n",
       "      <td>2018-08-14 14:20:00</td>\n",
       "      <td>8</td>\n",
       "      <td>33</td>\n",
       "      <td>1</td>\n",
       "      <td>14</td>\n",
       "      <td>2018-08-14</td>\n",
       "    </tr>\n",
       "    <tr>\n",
       "      <td>14</td>\n",
       "      <td>151092061</td>\n",
       "      <td>2018-09-26</td>\n",
       "      <td>20:15:00</td>\n",
       "      <td>MURDER &amp; NON-NEGL. MANSLAUGHTER</td>\n",
       "      <td>FELONY</td>\n",
       "      <td>NaN</td>\n",
       "      <td>NaN</td>\n",
       "      <td>N.Y. POLICE DEPT</td>\n",
       "      <td>NaN</td>\n",
       "      <td>NaN</td>\n",
       "      <td>NaN</td>\n",
       "      <td>25-44</td>\n",
       "      <td>BLACK</td>\n",
       "      <td>M</td>\n",
       "      <td>2018-09-26 20:15:00</td>\n",
       "      <td>9</td>\n",
       "      <td>39</td>\n",
       "      <td>2</td>\n",
       "      <td>20</td>\n",
       "      <td>2018-09-26</td>\n",
       "    </tr>\n",
       "    <tr>\n",
       "      <td>39</td>\n",
       "      <td>537944545</td>\n",
       "      <td>2018-02-02</td>\n",
       "      <td>18:30:00</td>\n",
       "      <td>MURDER &amp; NON-NEGL. MANSLAUGHTER</td>\n",
       "      <td>FELONY</td>\n",
       "      <td>NaN</td>\n",
       "      <td>NaN</td>\n",
       "      <td>N.Y. POLICE DEPT</td>\n",
       "      <td>18-24</td>\n",
       "      <td>WHITE HISPANIC</td>\n",
       "      <td>M</td>\n",
       "      <td>18-24</td>\n",
       "      <td>WHITE HISPANIC</td>\n",
       "      <td>M</td>\n",
       "      <td>2018-02-02 18:30:00</td>\n",
       "      <td>2</td>\n",
       "      <td>5</td>\n",
       "      <td>4</td>\n",
       "      <td>18</td>\n",
       "      <td>2018-02-02</td>\n",
       "    </tr>\n",
       "    <tr>\n",
       "      <td>41</td>\n",
       "      <td>849357488</td>\n",
       "      <td>2018-05-16</td>\n",
       "      <td>03:00:00</td>\n",
       "      <td>MURDER &amp; NON-NEGL. MANSLAUGHTER</td>\n",
       "      <td>FELONY</td>\n",
       "      <td>NaN</td>\n",
       "      <td>NaN</td>\n",
       "      <td>N.Y. HOUSING POLICE</td>\n",
       "      <td>45-64</td>\n",
       "      <td>BLACK</td>\n",
       "      <td>M</td>\n",
       "      <td>25-44</td>\n",
       "      <td>BLACK</td>\n",
       "      <td>M</td>\n",
       "      <td>2018-05-16 03:00:00</td>\n",
       "      <td>5</td>\n",
       "      <td>20</td>\n",
       "      <td>2</td>\n",
       "      <td>3</td>\n",
       "      <td>2018-05-16</td>\n",
       "    </tr>\n",
       "    <tr>\n",
       "      <td>74</td>\n",
       "      <td>614396339</td>\n",
       "      <td>2018-03-03</td>\n",
       "      <td>18:10:00</td>\n",
       "      <td>MURDER &amp; NON-NEGL. MANSLAUGHTER</td>\n",
       "      <td>FELONY</td>\n",
       "      <td>NaN</td>\n",
       "      <td>NaN</td>\n",
       "      <td>N.Y. POLICE DEPT</td>\n",
       "      <td>25-44</td>\n",
       "      <td>BLACK</td>\n",
       "      <td>M</td>\n",
       "      <td>18-24</td>\n",
       "      <td>BLACK</td>\n",
       "      <td>M</td>\n",
       "      <td>2018-03-03 18:10:00</td>\n",
       "      <td>3</td>\n",
       "      <td>9</td>\n",
       "      <td>5</td>\n",
       "      <td>18</td>\n",
       "      <td>2018-03-03</td>\n",
       "    </tr>\n",
       "    <tr>\n",
       "      <td>92</td>\n",
       "      <td>514585000</td>\n",
       "      <td>2018-07-30</td>\n",
       "      <td>20:53:00</td>\n",
       "      <td>MURDER &amp; NON-NEGL. MANSLAUGHTER</td>\n",
       "      <td>FELONY</td>\n",
       "      <td>NaN</td>\n",
       "      <td>NaN</td>\n",
       "      <td>N.Y. POLICE DEPT</td>\n",
       "      <td>25-44</td>\n",
       "      <td>WHITE</td>\n",
       "      <td>M</td>\n",
       "      <td>25-44</td>\n",
       "      <td>WHITE</td>\n",
       "      <td>F</td>\n",
       "      <td>2018-07-30 20:53:00</td>\n",
       "      <td>7</td>\n",
       "      <td>31</td>\n",
       "      <td>0</td>\n",
       "      <td>20</td>\n",
       "      <td>2018-07-30</td>\n",
       "    </tr>\n",
       "    <tr>\n",
       "      <td>105</td>\n",
       "      <td>971606705</td>\n",
       "      <td>2018-07-11</td>\n",
       "      <td>13:50:00</td>\n",
       "      <td>MURDER &amp; NON-NEGL. MANSLAUGHTER</td>\n",
       "      <td>FELONY</td>\n",
       "      <td>NaN</td>\n",
       "      <td>NaN</td>\n",
       "      <td>N.Y. POLICE DEPT</td>\n",
       "      <td>&lt;18</td>\n",
       "      <td>BLACK</td>\n",
       "      <td>M</td>\n",
       "      <td>&lt;18</td>\n",
       "      <td>BLACK</td>\n",
       "      <td>M</td>\n",
       "      <td>2018-07-11 13:50:00</td>\n",
       "      <td>7</td>\n",
       "      <td>28</td>\n",
       "      <td>2</td>\n",
       "      <td>13</td>\n",
       "      <td>2018-07-11</td>\n",
       "    </tr>\n",
       "    <tr>\n",
       "      <td>138</td>\n",
       "      <td>900687456</td>\n",
       "      <td>2018-09-28</td>\n",
       "      <td>17:55:00</td>\n",
       "      <td>MURDER &amp; NON-NEGL. MANSLAUGHTER</td>\n",
       "      <td>FELONY</td>\n",
       "      <td>NaN</td>\n",
       "      <td>NaN</td>\n",
       "      <td>N.Y. POLICE DEPT</td>\n",
       "      <td>25-44</td>\n",
       "      <td>BLACK</td>\n",
       "      <td>M</td>\n",
       "      <td>45-64</td>\n",
       "      <td>BLACK</td>\n",
       "      <td>M</td>\n",
       "      <td>2018-09-28 17:55:00</td>\n",
       "      <td>9</td>\n",
       "      <td>39</td>\n",
       "      <td>4</td>\n",
       "      <td>17</td>\n",
       "      <td>2018-09-28</td>\n",
       "    </tr>\n",
       "    <tr>\n",
       "      <td>195</td>\n",
       "      <td>327270181</td>\n",
       "      <td>2018-05-13</td>\n",
       "      <td>16:50:00</td>\n",
       "      <td>MURDER &amp; NON-NEGL. MANSLAUGHTER</td>\n",
       "      <td>FELONY</td>\n",
       "      <td>NaN</td>\n",
       "      <td>NaN</td>\n",
       "      <td>N.Y. HOUSING POLICE</td>\n",
       "      <td>NaN</td>\n",
       "      <td>NaN</td>\n",
       "      <td>NaN</td>\n",
       "      <td>45-64</td>\n",
       "      <td>BLACK</td>\n",
       "      <td>M</td>\n",
       "      <td>2018-05-13 16:50:00</td>\n",
       "      <td>5</td>\n",
       "      <td>19</td>\n",
       "      <td>6</td>\n",
       "      <td>16</td>\n",
       "      <td>2018-05-13</td>\n",
       "    </tr>\n",
       "    <tr>\n",
       "      <td>212</td>\n",
       "      <td>198301916</td>\n",
       "      <td>2018-01-15</td>\n",
       "      <td>23:39:00</td>\n",
       "      <td>MURDER &amp; NON-NEGL. MANSLAUGHTER</td>\n",
       "      <td>FELONY</td>\n",
       "      <td>NaN</td>\n",
       "      <td>NaN</td>\n",
       "      <td>N.Y. POLICE DEPT</td>\n",
       "      <td>18-24</td>\n",
       "      <td>BLACK</td>\n",
       "      <td>M</td>\n",
       "      <td>25-44</td>\n",
       "      <td>BLACK</td>\n",
       "      <td>F</td>\n",
       "      <td>2018-01-15 23:39:00</td>\n",
       "      <td>1</td>\n",
       "      <td>3</td>\n",
       "      <td>0</td>\n",
       "      <td>23</td>\n",
       "      <td>2018-01-15</td>\n",
       "    </tr>\n",
       "  </tbody>\n",
       "</table>\n",
       "</div>"
      ],
      "text/plain": [
       "Column  CMPLNT_NUM CMPLNT_FR_DT CMPLNT_FR_TM                        OFNS_DESC  \\\n",
       "4        110535568   2018-08-14     14:20:00  MURDER & NON-NEGL. MANSLAUGHTER   \n",
       "14       151092061   2018-09-26     20:15:00  MURDER & NON-NEGL. MANSLAUGHTER   \n",
       "39       537944545   2018-02-02     18:30:00  MURDER & NON-NEGL. MANSLAUGHTER   \n",
       "41       849357488   2018-05-16     03:00:00  MURDER & NON-NEGL. MANSLAUGHTER   \n",
       "74       614396339   2018-03-03     18:10:00  MURDER & NON-NEGL. MANSLAUGHTER   \n",
       "92       514585000   2018-07-30     20:53:00  MURDER & NON-NEGL. MANSLAUGHTER   \n",
       "105      971606705   2018-07-11     13:50:00  MURDER & NON-NEGL. MANSLAUGHTER   \n",
       "138      900687456   2018-09-28     17:55:00  MURDER & NON-NEGL. MANSLAUGHTER   \n",
       "195      327270181   2018-05-13     16:50:00  MURDER & NON-NEGL. MANSLAUGHTER   \n",
       "212      198301916   2018-01-15     23:39:00  MURDER & NON-NEGL. MANSLAUGHTER   \n",
       "\n",
       "Column LAW_CAT_CD BORO_NM PREM_TYP_DESC           JURIS_DESC SUSP_AGE_GROUP  \\\n",
       "4          FELONY     NaN           NaN     N.Y. POLICE DEPT          25-44   \n",
       "14         FELONY     NaN           NaN     N.Y. POLICE DEPT            NaN   \n",
       "39         FELONY     NaN           NaN     N.Y. POLICE DEPT          18-24   \n",
       "41         FELONY     NaN           NaN  N.Y. HOUSING POLICE          45-64   \n",
       "74         FELONY     NaN           NaN     N.Y. POLICE DEPT          25-44   \n",
       "92         FELONY     NaN           NaN     N.Y. POLICE DEPT          25-44   \n",
       "105        FELONY     NaN           NaN     N.Y. POLICE DEPT            <18   \n",
       "138        FELONY     NaN           NaN     N.Y. POLICE DEPT          25-44   \n",
       "195        FELONY     NaN           NaN  N.Y. HOUSING POLICE            NaN   \n",
       "212        FELONY     NaN           NaN     N.Y. POLICE DEPT          18-24   \n",
       "\n",
       "Column       SUSP_RACE SUSP_SEX VIC_AGE_GROUP        VIC_RACE VIC_SEX  \\\n",
       "4                BLACK        M         45-64           BLACK       M   \n",
       "14                 NaN      NaN         25-44           BLACK       M   \n",
       "39      WHITE HISPANIC        M         18-24  WHITE HISPANIC       M   \n",
       "41               BLACK        M         25-44           BLACK       M   \n",
       "74               BLACK        M         18-24           BLACK       M   \n",
       "92               WHITE        M         25-44           WHITE       F   \n",
       "105              BLACK        M           <18           BLACK       M   \n",
       "138              BLACK        M         45-64           BLACK       M   \n",
       "195                NaN      NaN         45-64           BLACK       M   \n",
       "212              BLACK        M         25-44           BLACK       F   \n",
       "\n",
       "Column           CMPLNT_FR  CMPLNT_FR_MONTH  CMPLNT_FR_WEEK  \\\n",
       "4      2018-08-14 14:20:00                8              33   \n",
       "14     2018-09-26 20:15:00                9              39   \n",
       "39     2018-02-02 18:30:00                2               5   \n",
       "41     2018-05-16 03:00:00                5              20   \n",
       "74     2018-03-03 18:10:00                3               9   \n",
       "92     2018-07-30 20:53:00                7              31   \n",
       "105    2018-07-11 13:50:00                7              28   \n",
       "138    2018-09-28 17:55:00                9              39   \n",
       "195    2018-05-13 16:50:00                5              19   \n",
       "212    2018-01-15 23:39:00                1               3   \n",
       "\n",
       "Column  CMPLNT_FR_DAY_OF_WEEK  CMPLNT_FR_HOUR CMPLNT_FR_DATE  \n",
       "4                           1              14     2018-08-14  \n",
       "14                          2              20     2018-09-26  \n",
       "39                          4              18     2018-02-02  \n",
       "41                          2               3     2018-05-16  \n",
       "74                          5              18     2018-03-03  \n",
       "92                          0              20     2018-07-30  \n",
       "105                         2              13     2018-07-11  \n",
       "138                         4              17     2018-09-28  \n",
       "195                         6              16     2018-05-13  \n",
       "212                         0              23     2018-01-15  "
      ]
     },
     "execution_count": 427,
     "metadata": {},
     "output_type": "execute_result"
    }
   ],
   "source": [
    "nypd[nypd['BORO_NM'].isnull()].head(10)"
   ]
  },
  {
   "cell_type": "markdown",
   "metadata": {},
   "source": [
    "#### Wow, huge number of the rows where `BORO_NM` is null are MURDER & NON NEGL. MANSLAUGHTER offenses. Is the boro not being reported because they're trying to hide murder rates? Possibly dig into this later if I have time"
   ]
  },
  {
   "cell_type": "code",
   "execution_count": 428,
   "metadata": {},
   "outputs": [
    {
     "data": {
      "text/plain": [
       "BROOKLYN         137422\n",
       "MANHATTAN        115188\n",
       "BRONX            101314\n",
       "QUEENS            91055\n",
       "STATEN ISLAND     20990\n",
       "NaN                 312\n",
       "Name: BORO_NM, dtype: int64"
      ]
     },
     "execution_count": 428,
     "metadata": {},
     "output_type": "execute_result"
    }
   ],
   "source": [
    "nypd.BORO_NM.value_counts(dropna=False)"
   ]
  },
  {
   "cell_type": "markdown",
   "metadata": {},
   "source": [
    "**Change all nulls in BORO_NM to UNKNOWN**"
   ]
  },
  {
   "cell_type": "code",
   "execution_count": 429,
   "metadata": {},
   "outputs": [],
   "source": [
    "nypd.fillna(value={'BORO_NM': 'UNKNOWN'}, inplace=True)"
   ]
  },
  {
   "cell_type": "code",
   "execution_count": 430,
   "metadata": {},
   "outputs": [
    {
     "data": {
      "text/plain": [
       "BROOKLYN         137422\n",
       "MANHATTAN        115188\n",
       "BRONX            101314\n",
       "QUEENS            91055\n",
       "STATEN ISLAND     20990\n",
       "UNKNOWN             312\n",
       "Name: BORO_NM, dtype: int64"
      ]
     },
     "execution_count": 430,
     "metadata": {},
     "output_type": "execute_result"
    }
   ],
   "source": [
    "nypd.BORO_NM.value_counts(dropna=False)"
   ]
  },
  {
   "cell_type": "markdown",
   "metadata": {},
   "source": [
    "**Examine `SUSP_AGE_GROUP`, `VIC_AGE_GROUP`, `SUSP_RACE`, `VIC_RACE`, `SUSP_SEX`, `VIC_SEX` for the values we see there. Need to determine what we'll do with the nulls and for the values that don't make sense**"
   ]
  },
  {
   "cell_type": "code",
   "execution_count": 431,
   "metadata": {},
   "outputs": [
    {
     "data": {
      "text/plain": [
       "UNKNOWN    126809\n",
       "NaN        119399\n",
       "25-44      117270\n",
       "45-64       44450\n",
       "18-24       41938\n",
       "<18         12436\n",
       "65+          3946\n",
       "2018           10\n",
       "1018            3\n",
       "928             2\n",
       "924             1\n",
       "-941            1\n",
       "-974            1\n",
       "1012            1\n",
       "-2              1\n",
       "-80             1\n",
       "948             1\n",
       "955             1\n",
       "-939            1\n",
       "1967            1\n",
       "922             1\n",
       "920             1\n",
       "954             1\n",
       "952             1\n",
       "-63             1\n",
       "-978            1\n",
       "1017            1\n",
       "938             1\n",
       "Name: SUSP_AGE_GROUP, dtype: int64"
      ]
     },
     "execution_count": 431,
     "metadata": {},
     "output_type": "execute_result"
    }
   ],
   "source": [
    "nypd.SUSP_AGE_GROUP.value_counts(dropna=False)"
   ]
  },
  {
   "cell_type": "code",
   "execution_count": 432,
   "metadata": {},
   "outputs": [
    {
     "data": {
      "text/plain": [
       "25-44      161563\n",
       "UNKNOWN    132722\n",
       "45-64       87168\n",
       "18-24       45048\n",
       "65+         20130\n",
       "<18         19612\n",
       "-1              2\n",
       "-956            2\n",
       "-974            2\n",
       "957             1\n",
       "953             1\n",
       "-61             1\n",
       "970             1\n",
       "-2              1\n",
       "936             1\n",
       "-51             1\n",
       "-55             1\n",
       "-966            1\n",
       "-76             1\n",
       "965             1\n",
       "-970            1\n",
       "929             1\n",
       "922             1\n",
       "-948            1\n",
       "-972            1\n",
       "948             1\n",
       "-968            1\n",
       "-43             1\n",
       "1017            1\n",
       "-3              1\n",
       "-940            1\n",
       "-59             1\n",
       "-4              1\n",
       "-952            1\n",
       "-962            1\n",
       "951             1\n",
       "-958            1\n",
       "954             1\n",
       "-955            1\n",
       "-67             1\n",
       "-5              1\n",
       "Name: VIC_AGE_GROUP, dtype: int64"
      ]
     },
     "execution_count": 432,
     "metadata": {},
     "output_type": "execute_result"
    }
   ],
   "source": [
    "nypd.VIC_AGE_GROUP.value_counts(dropna=False)"
   ]
  },
  {
   "cell_type": "code",
   "execution_count": 433,
   "metadata": {},
   "outputs": [
    {
     "data": {
      "text/plain": [
       "BLACK                             131552\n",
       "NaN                               119399\n",
       "UNKNOWN                            83749\n",
       "WHITE HISPANIC                     61987\n",
       "WHITE                              35918\n",
       "BLACK HISPANIC                     19374\n",
       "ASIAN / PACIFIC ISLANDER           13132\n",
       "AMERICAN INDIAN/ALASKAN NATIVE      1170\n",
       "Name: SUSP_RACE, dtype: int64"
      ]
     },
     "execution_count": 433,
     "metadata": {},
     "output_type": "execute_result"
    }
   ],
   "source": [
    "nypd.SUSP_RACE.value_counts(dropna=False)"
   ]
  },
  {
   "cell_type": "code",
   "execution_count": 434,
   "metadata": {},
   "outputs": [
    {
     "data": {
      "text/plain": [
       "UNKNOWN                           141643\n",
       "BLACK                             116690\n",
       "WHITE HISPANIC                     79718\n",
       "WHITE                              74929\n",
       "ASIAN / PACIFIC ISLANDER           32707\n",
       "BLACK HISPANIC                     17990\n",
       "AMERICAN INDIAN/ALASKAN NATIVE      2604\n",
       "Name: VIC_RACE, dtype: int64"
      ]
     },
     "execution_count": 434,
     "metadata": {},
     "output_type": "execute_result"
    }
   ],
   "source": [
    "nypd.VIC_RACE.value_counts(dropna=False)"
   ]
  },
  {
   "cell_type": "code",
   "execution_count": 435,
   "metadata": {},
   "outputs": [
    {
     "data": {
      "text/plain": [
       "M      212011\n",
       "NaN    119399\n",
       "U       69030\n",
       "F       65841\n",
       "Name: SUSP_SEX, dtype: int64"
      ]
     },
     "execution_count": 435,
     "metadata": {},
     "output_type": "execute_result"
    }
   ],
   "source": [
    "nypd.SUSP_SEX.value_counts(dropna=False)"
   ]
  },
  {
   "cell_type": "code",
   "execution_count": 436,
   "metadata": {},
   "outputs": [
    {
     "data": {
      "text/plain": [
       "F    185196\n",
       "M    160038\n",
       "D     65773\n",
       "E     55273\n",
       "U         1\n",
       "Name: VIC_SEX, dtype: int64"
      ]
     },
     "execution_count": 436,
     "metadata": {},
     "output_type": "execute_result"
    }
   ],
   "source": [
    "nypd.VIC_SEX.value_counts(dropna=False)"
   ]
  },
  {
   "cell_type": "markdown",
   "metadata": {},
   "source": [
    "**E and D explained here https://jmc2392.github.io/exploratory2.html**"
   ]
  },
  {
   "cell_type": "markdown",
   "metadata": {},
   "source": [
    "#### Let's start handling more nulls\n",
    "* Any nulls in the `SUSP_AGE_GROUP` we'll change to UNKNOWN\n",
    "* Any nulls in the `SUSP_RACE` we'll change to UNKNOWN"
   ]
  },
  {
   "cell_type": "code",
   "execution_count": 437,
   "metadata": {},
   "outputs": [],
   "source": [
    "nypd.fillna(value={'SUSP_AGE_GROUP': 'UNKNOWN', 'SUSP_RACE': 'UNKNOWN'}, inplace=True)"
   ]
  },
  {
   "cell_type": "markdown",
   "metadata": {},
   "source": [
    "**Checking count of nulls here now**"
   ]
  },
  {
   "cell_type": "code",
   "execution_count": 438,
   "metadata": {},
   "outputs": [
    {
     "data": {
      "text/plain": [
       "UNKNOWN    246208\n",
       "25-44      117270\n",
       "45-64       44450\n",
       "18-24       41938\n",
       "<18         12436\n",
       "65+          3946\n",
       "2018           10\n",
       "1018            3\n",
       "928             2\n",
       "-974            1\n",
       "1012            1\n",
       "-2              1\n",
       "-80             1\n",
       "924             1\n",
       "955             1\n",
       "954             1\n",
       "922             1\n",
       "938             1\n",
       "920             1\n",
       "952             1\n",
       "-63             1\n",
       "1017            1\n",
       "-939            1\n",
       "-978            1\n",
       "1967            1\n",
       "948             1\n",
       "-941            1\n",
       "Name: SUSP_AGE_GROUP, dtype: int64"
      ]
     },
     "execution_count": 438,
     "metadata": {},
     "output_type": "execute_result"
    }
   ],
   "source": [
    "nypd.SUSP_AGE_GROUP.value_counts(dropna=False)"
   ]
  },
  {
   "cell_type": "code",
   "execution_count": 439,
   "metadata": {},
   "outputs": [
    {
     "data": {
      "text/plain": [
       "UNKNOWN                           203148\n",
       "BLACK                             131552\n",
       "WHITE HISPANIC                     61987\n",
       "WHITE                              35918\n",
       "BLACK HISPANIC                     19374\n",
       "ASIAN / PACIFIC ISLANDER           13132\n",
       "AMERICAN INDIAN/ALASKAN NATIVE      1170\n",
       "Name: SUSP_RACE, dtype: int64"
      ]
     },
     "execution_count": 439,
     "metadata": {},
     "output_type": "execute_result"
    }
   ],
   "source": [
    "nypd.SUSP_RACE.value_counts(dropna=False)"
   ]
  },
  {
   "cell_type": "markdown",
   "metadata": {},
   "source": [
    "Looks good!"
   ]
  },
  {
   "cell_type": "markdown",
   "metadata": {},
   "source": [
    "#### We'll now change the nulls in `SUSP_SEX` to U"
   ]
  },
  {
   "cell_type": "code",
   "execution_count": 440,
   "metadata": {},
   "outputs": [],
   "source": [
    "nypd.fillna(value={'SUSP_SEX': 'U'}, inplace=True)"
   ]
  },
  {
   "cell_type": "markdown",
   "metadata": {},
   "source": [
    "**Let's check the count of nulls in `SUSP_SEX` now**"
   ]
  },
  {
   "cell_type": "code",
   "execution_count": 441,
   "metadata": {},
   "outputs": [
    {
     "data": {
      "text/plain": [
       "M    212011\n",
       "U    188429\n",
       "F     65841\n",
       "Name: SUSP_SEX, dtype: int64"
      ]
     },
     "execution_count": 441,
     "metadata": {},
     "output_type": "execute_result"
    }
   ],
   "source": [
    "nypd.SUSP_SEX.value_counts(dropna=False)"
   ]
  },
  {
   "cell_type": "markdown",
   "metadata": {},
   "source": [
    "**The only valid age groups should be UNKNOWN, less than 18, 18-24, 25-44, 45-64 and 65+. Let's change the other values to UNKNOWN**"
   ]
  },
  {
   "cell_type": "code",
   "execution_count": 442,
   "metadata": {},
   "outputs": [
    {
     "data": {
      "text/plain": [
       "UNKNOWN    246208\n",
       "25-44      117270\n",
       "45-64       44450\n",
       "18-24       41938\n",
       "<18         12436\n",
       "65+          3946\n",
       "2018           10\n",
       "1018            3\n",
       "928             2\n",
       "-974            1\n",
       "1012            1\n",
       "-2              1\n",
       "-80             1\n",
       "924             1\n",
       "955             1\n",
       "954             1\n",
       "922             1\n",
       "938             1\n",
       "920             1\n",
       "952             1\n",
       "-63             1\n",
       "1017            1\n",
       "-939            1\n",
       "-978            1\n",
       "1967            1\n",
       "948             1\n",
       "-941            1\n",
       "Name: SUSP_AGE_GROUP, dtype: int64"
      ]
     },
     "execution_count": 442,
     "metadata": {},
     "output_type": "execute_result"
    }
   ],
   "source": [
    "nypd.SUSP_AGE_GROUP.value_counts(dropna=False)"
   ]
  },
  {
   "cell_type": "code",
   "execution_count": 443,
   "metadata": {},
   "outputs": [
    {
     "data": {
      "text/plain": [
       "25-44      161563\n",
       "UNKNOWN    132722\n",
       "45-64       87168\n",
       "18-24       45048\n",
       "65+         20130\n",
       "<18         19612\n",
       "-1              2\n",
       "-956            2\n",
       "-974            2\n",
       "957             1\n",
       "953             1\n",
       "-61             1\n",
       "970             1\n",
       "-2              1\n",
       "936             1\n",
       "-51             1\n",
       "-55             1\n",
       "-966            1\n",
       "-76             1\n",
       "965             1\n",
       "-970            1\n",
       "929             1\n",
       "922             1\n",
       "-948            1\n",
       "-972            1\n",
       "948             1\n",
       "-968            1\n",
       "-43             1\n",
       "1017            1\n",
       "-3              1\n",
       "-940            1\n",
       "-59             1\n",
       "-4              1\n",
       "-952            1\n",
       "-962            1\n",
       "951             1\n",
       "-958            1\n",
       "954             1\n",
       "-955            1\n",
       "-67             1\n",
       "-5              1\n",
       "Name: VIC_AGE_GROUP, dtype: int64"
      ]
     },
     "execution_count": 443,
     "metadata": {},
     "output_type": "execute_result"
    }
   ],
   "source": [
    "nypd.VIC_AGE_GROUP.value_counts(dropna=False)"
   ]
  },
  {
   "cell_type": "code",
   "execution_count": 444,
   "metadata": {},
   "outputs": [],
   "source": [
    "nypd[\"SUSP_AGE_GROUP\"].replace({\n",
    "    \"954\": \"UNKNOWN\",\n",
    "    \"924\": \"UNKNOWN\",\n",
    "    \"2018\": \"UNKNOWN\",\n",
    "    \"955\": \"UNKNOWN\",\n",
    "    \"952\": \"UNKNOWN\",\n",
    "    \"920\": \"UNKNOWN\",\n",
    "    \"1018\": \"UNKNOWN\",\n",
    "    \"922\": \"UNKNOWN\",\n",
    "    \"928\": \"UNKNOWN\",\n",
    "    \"-2\": \"UNKNOWN\",\n",
    "    \"-63\": \"UNKNOWN\",\n",
    "    \"1012\": \"UNKNOWN\",\n",
    "    \"1017\": \"UNKNOWN\",\n",
    "    \"-974\": \"UNKNOWN\",\n",
    "    \"-939\": \"UNKNOWN\",\n",
    "    \"-978\": \"UNKNOWN\",\n",
    "    \"-941\": \"UNKNOWN\",\n",
    "    \"938\": \"UNKNOWN\",\n",
    "    \"1967\": \"UNKNOWN\",\n",
    "    \"-80\": \"UNKNOWN\",\n",
    "    \"948\": \"UNKNOWN\"},\n",
    "    inplace=True)"
   ]
  },
  {
   "cell_type": "code",
   "execution_count": 445,
   "metadata": {},
   "outputs": [],
   "source": [
    "nypd[\"VIC_AGE_GROUP\"].replace({\n",
    "    \"-955\": \"UNKNOWN\",\n",
    "    \"-76\": \"UNKNOWN\",\n",
    "    \"-958\": \"UNKNOWN\",\n",
    "    \"-970\": \"UNKNOWN\",\n",
    "    \"-962\": \"UNKNOWN\",\n",
    "    \"-67\": \"UNKNOWN\",\n",
    "    \"953\": \"UNKNOWN\",\n",
    "    \"929\": \"UNKNOWN\",\n",
    "    \"-2\": \"UNKNOWN\",\n",
    "    \"965\": \"UNKNOWN\",\n",
    "    \"922\": \"UNKNOWN\",\n",
    "    \"-956\": \"UNKNOWN\",\n",
    "    \"948\": \"UNKNOWN\",\n",
    "    \"-61\": \"UNKNOWN\",\n",
    "    \"936\": \"UNKNOWN\",\n",
    "    \"-972\": \"UNKNOWN\",\n",
    "    \"-43\": \"UNKNOWN\",\n",
    "    \"-968\": \"UNKNOWN\",\n",
    "    \"-940\": \"UNKNOWN\",\n",
    "    \"-4\": \"UNKNOWN\",\n",
    "    \"-952\": \"UNKNOWN\",\n",
    "    \"-3\": \"UNKNOWN\",\n",
    "    \"-974\": \"UNKNOWN\",\n",
    "    \"970\": \"UNKNOWN\",\n",
    "    \"1017\": \"UNKNOWN\",\n",
    "    \"954\": \"UNKNOWN\",\n",
    "    \"-51\": \"UNKNOWN\",\n",
    "    \"-55\": \"UNKNOWN\",\n",
    "    \"951\": \"UNKNOWN\",\n",
    "    \"-966\": \"UNKNOWN\",\n",
    "    \"-1\": \"UNKNOWN\",\n",
    "    \"957\": \"UNKNOWN\",\n",
    "    \"-59\": \"UNKNOWN\",\n",
    "    \"-948\": \"UNKNOWN\",\n",
    "    \"-5\": \"UNKNOWN\"},\n",
    "    inplace=True)"
   ]
  },
  {
   "cell_type": "code",
   "execution_count": 446,
   "metadata": {},
   "outputs": [
    {
     "data": {
      "text/plain": [
       "UNKNOWN    246241\n",
       "25-44      117270\n",
       "45-64       44450\n",
       "18-24       41938\n",
       "<18         12436\n",
       "65+          3946\n",
       "Name: SUSP_AGE_GROUP, dtype: int64"
      ]
     },
     "execution_count": 446,
     "metadata": {},
     "output_type": "execute_result"
    }
   ],
   "source": [
    "nypd.SUSP_AGE_GROUP.value_counts(dropna=False)"
   ]
  },
  {
   "cell_type": "code",
   "execution_count": 447,
   "metadata": {},
   "outputs": [
    {
     "data": {
      "text/plain": [
       "25-44      161563\n",
       "UNKNOWN    132760\n",
       "45-64       87168\n",
       "18-24       45048\n",
       "65+         20130\n",
       "<18         19612\n",
       "Name: VIC_AGE_GROUP, dtype: int64"
      ]
     },
     "execution_count": 447,
     "metadata": {},
     "output_type": "execute_result"
    }
   ],
   "source": [
    "nypd.VIC_AGE_GROUP.value_counts(dropna=False)"
   ]
  },
  {
   "cell_type": "code",
   "execution_count": 448,
   "metadata": {},
   "outputs": [
    {
     "data": {
      "text/html": [
       "<div>\n",
       "<style scoped>\n",
       "    .dataframe tbody tr th:only-of-type {\n",
       "        vertical-align: middle;\n",
       "    }\n",
       "\n",
       "    .dataframe tbody tr th {\n",
       "        vertical-align: top;\n",
       "    }\n",
       "\n",
       "    .dataframe thead th {\n",
       "        text-align: right;\n",
       "    }\n",
       "</style>\n",
       "<table border=\"1\" class=\"dataframe\">\n",
       "  <thead>\n",
       "    <tr style=\"text-align: right;\">\n",
       "      <th></th>\n",
       "      <th>Count of Nulls</th>\n",
       "    </tr>\n",
       "    <tr>\n",
       "      <th>Column</th>\n",
       "      <th></th>\n",
       "    </tr>\n",
       "  </thead>\n",
       "  <tbody>\n",
       "    <tr>\n",
       "      <td>PREM_TYP_DESC</td>\n",
       "      <td>1990</td>\n",
       "    </tr>\n",
       "    <tr>\n",
       "      <td>CMPLNT_NUM</td>\n",
       "      <td>0</td>\n",
       "    </tr>\n",
       "    <tr>\n",
       "      <td>VIC_AGE_GROUP</td>\n",
       "      <td>0</td>\n",
       "    </tr>\n",
       "    <tr>\n",
       "      <td>CMPLNT_FR_HOUR</td>\n",
       "      <td>0</td>\n",
       "    </tr>\n",
       "    <tr>\n",
       "      <td>CMPLNT_FR_DAY_OF_WEEK</td>\n",
       "      <td>0</td>\n",
       "    </tr>\n",
       "    <tr>\n",
       "      <td>CMPLNT_FR_WEEK</td>\n",
       "      <td>0</td>\n",
       "    </tr>\n",
       "    <tr>\n",
       "      <td>CMPLNT_FR_MONTH</td>\n",
       "      <td>0</td>\n",
       "    </tr>\n",
       "    <tr>\n",
       "      <td>CMPLNT_FR</td>\n",
       "      <td>0</td>\n",
       "    </tr>\n",
       "    <tr>\n",
       "      <td>VIC_SEX</td>\n",
       "      <td>0</td>\n",
       "    </tr>\n",
       "    <tr>\n",
       "      <td>VIC_RACE</td>\n",
       "      <td>0</td>\n",
       "    </tr>\n",
       "    <tr>\n",
       "      <td>SUSP_SEX</td>\n",
       "      <td>0</td>\n",
       "    </tr>\n",
       "    <tr>\n",
       "      <td>CMPLNT_FR_DT</td>\n",
       "      <td>0</td>\n",
       "    </tr>\n",
       "    <tr>\n",
       "      <td>SUSP_RACE</td>\n",
       "      <td>0</td>\n",
       "    </tr>\n",
       "    <tr>\n",
       "      <td>SUSP_AGE_GROUP</td>\n",
       "      <td>0</td>\n",
       "    </tr>\n",
       "    <tr>\n",
       "      <td>JURIS_DESC</td>\n",
       "      <td>0</td>\n",
       "    </tr>\n",
       "    <tr>\n",
       "      <td>BORO_NM</td>\n",
       "      <td>0</td>\n",
       "    </tr>\n",
       "    <tr>\n",
       "      <td>LAW_CAT_CD</td>\n",
       "      <td>0</td>\n",
       "    </tr>\n",
       "    <tr>\n",
       "      <td>OFNS_DESC</td>\n",
       "      <td>0</td>\n",
       "    </tr>\n",
       "    <tr>\n",
       "      <td>CMPLNT_FR_TM</td>\n",
       "      <td>0</td>\n",
       "    </tr>\n",
       "    <tr>\n",
       "      <td>CMPLNT_FR_DATE</td>\n",
       "      <td>0</td>\n",
       "    </tr>\n",
       "  </tbody>\n",
       "</table>\n",
       "</div>"
      ],
      "text/plain": [
       "                       Count of Nulls\n",
       "Column                               \n",
       "PREM_TYP_DESC                    1990\n",
       "CMPLNT_NUM                          0\n",
       "VIC_AGE_GROUP                       0\n",
       "CMPLNT_FR_HOUR                      0\n",
       "CMPLNT_FR_DAY_OF_WEEK               0\n",
       "CMPLNT_FR_WEEK                      0\n",
       "CMPLNT_FR_MONTH                     0\n",
       "CMPLNT_FR                           0\n",
       "VIC_SEX                             0\n",
       "VIC_RACE                            0\n",
       "SUSP_SEX                            0\n",
       "CMPLNT_FR_DT                        0\n",
       "SUSP_RACE                           0\n",
       "SUSP_AGE_GROUP                      0\n",
       "JURIS_DESC                          0\n",
       "BORO_NM                             0\n",
       "LAW_CAT_CD                          0\n",
       "OFNS_DESC                           0\n",
       "CMPLNT_FR_TM                        0\n",
       "CMPLNT_FR_DATE                      0"
      ]
     },
     "execution_count": 448,
     "metadata": {},
     "output_type": "execute_result"
    }
   ],
   "source": [
    "null_df = pd.DataFrame(nypd.isnull().sum(), columns=['Count of Nulls'])\n",
    "null_df.index.name = 'Column'\n",
    "null_df.sort_values('Count of Nulls', ascending=False, inplace=True)\n",
    "null_df.head(30)"
   ]
  },
  {
   "cell_type": "markdown",
   "metadata": {},
   "source": [
    "# Analyzing the data"
   ]
  },
  {
   "cell_type": "markdown",
   "metadata": {},
   "source": [
    "## First, let's look at complaints by time"
   ]
  },
  {
   "cell_type": "code",
   "execution_count": 449,
   "metadata": {},
   "outputs": [
    {
     "data": {
      "text/html": [
       "<div>\n",
       "<style scoped>\n",
       "    .dataframe tbody tr th:only-of-type {\n",
       "        vertical-align: middle;\n",
       "    }\n",
       "\n",
       "    .dataframe tbody tr th {\n",
       "        vertical-align: top;\n",
       "    }\n",
       "\n",
       "    .dataframe thead th {\n",
       "        text-align: right;\n",
       "    }\n",
       "</style>\n",
       "<table border=\"1\" class=\"dataframe\">\n",
       "  <thead>\n",
       "    <tr style=\"text-align: right;\">\n",
       "      <th>Column</th>\n",
       "      <th>CMPLNT_NUM</th>\n",
       "      <th>CMPLNT_FR_DT</th>\n",
       "      <th>CMPLNT_FR_TM</th>\n",
       "      <th>OFNS_DESC</th>\n",
       "      <th>LAW_CAT_CD</th>\n",
       "      <th>BORO_NM</th>\n",
       "      <th>PREM_TYP_DESC</th>\n",
       "      <th>JURIS_DESC</th>\n",
       "      <th>SUSP_AGE_GROUP</th>\n",
       "      <th>SUSP_RACE</th>\n",
       "      <th>SUSP_SEX</th>\n",
       "      <th>VIC_AGE_GROUP</th>\n",
       "      <th>VIC_RACE</th>\n",
       "      <th>VIC_SEX</th>\n",
       "      <th>CMPLNT_FR</th>\n",
       "      <th>CMPLNT_FR_MONTH</th>\n",
       "      <th>CMPLNT_FR_WEEK</th>\n",
       "      <th>CMPLNT_FR_DAY_OF_WEEK</th>\n",
       "      <th>CMPLNT_FR_HOUR</th>\n",
       "      <th>CMPLNT_FR_DATE</th>\n",
       "    </tr>\n",
       "  </thead>\n",
       "  <tbody>\n",
       "    <tr>\n",
       "      <td>0</td>\n",
       "      <td>774621657</td>\n",
       "      <td>2018-10-08</td>\n",
       "      <td>12:30:00</td>\n",
       "      <td>ROBBERY</td>\n",
       "      <td>FELONY</td>\n",
       "      <td>BRONX</td>\n",
       "      <td>BUS STOP</td>\n",
       "      <td>N.Y. POLICE DEPT</td>\n",
       "      <td>UNKNOWN</td>\n",
       "      <td>BLACK</td>\n",
       "      <td>M</td>\n",
       "      <td>&lt;18</td>\n",
       "      <td>BLACK</td>\n",
       "      <td>M</td>\n",
       "      <td>2018-10-08 12:30:00</td>\n",
       "      <td>10</td>\n",
       "      <td>41</td>\n",
       "      <td>0</td>\n",
       "      <td>12</td>\n",
       "      <td>2018-10-08</td>\n",
       "    </tr>\n",
       "    <tr>\n",
       "      <td>1</td>\n",
       "      <td>232548146</td>\n",
       "      <td>2018-08-24</td>\n",
       "      <td>11:00:00</td>\n",
       "      <td>PETIT LARCENY</td>\n",
       "      <td>MISDEMEANOR</td>\n",
       "      <td>BROOKLYN</td>\n",
       "      <td>RESIDENCE-HOUSE</td>\n",
       "      <td>N.Y. POLICE DEPT</td>\n",
       "      <td>UNKNOWN</td>\n",
       "      <td>UNKNOWN</td>\n",
       "      <td>U</td>\n",
       "      <td>45-64</td>\n",
       "      <td>WHITE</td>\n",
       "      <td>F</td>\n",
       "      <td>2018-08-24 11:00:00</td>\n",
       "      <td>8</td>\n",
       "      <td>34</td>\n",
       "      <td>4</td>\n",
       "      <td>11</td>\n",
       "      <td>2018-08-24</td>\n",
       "    </tr>\n",
       "    <tr>\n",
       "      <td>2</td>\n",
       "      <td>452701517</td>\n",
       "      <td>2018-03-30</td>\n",
       "      <td>16:55:00</td>\n",
       "      <td>DANGEROUS WEAPONS</td>\n",
       "      <td>FELONY</td>\n",
       "      <td>QUEENS</td>\n",
       "      <td>STREET</td>\n",
       "      <td>N.Y. POLICE DEPT</td>\n",
       "      <td>UNKNOWN</td>\n",
       "      <td>UNKNOWN</td>\n",
       "      <td>U</td>\n",
       "      <td>UNKNOWN</td>\n",
       "      <td>UNKNOWN</td>\n",
       "      <td>E</td>\n",
       "      <td>2018-03-30 16:55:00</td>\n",
       "      <td>3</td>\n",
       "      <td>13</td>\n",
       "      <td>4</td>\n",
       "      <td>16</td>\n",
       "      <td>2018-03-30</td>\n",
       "    </tr>\n",
       "    <tr>\n",
       "      <td>3</td>\n",
       "      <td>620357753</td>\n",
       "      <td>2018-10-02</td>\n",
       "      <td>16:00:00</td>\n",
       "      <td>PETIT LARCENY</td>\n",
       "      <td>MISDEMEANOR</td>\n",
       "      <td>QUEENS</td>\n",
       "      <td>STREET</td>\n",
       "      <td>N.Y. POLICE DEPT</td>\n",
       "      <td>UNKNOWN</td>\n",
       "      <td>UNKNOWN</td>\n",
       "      <td>U</td>\n",
       "      <td>65+</td>\n",
       "      <td>BLACK</td>\n",
       "      <td>M</td>\n",
       "      <td>2018-10-02 16:00:00</td>\n",
       "      <td>10</td>\n",
       "      <td>40</td>\n",
       "      <td>1</td>\n",
       "      <td>16</td>\n",
       "      <td>2018-10-02</td>\n",
       "    </tr>\n",
       "    <tr>\n",
       "      <td>4</td>\n",
       "      <td>110535568</td>\n",
       "      <td>2018-08-14</td>\n",
       "      <td>14:20:00</td>\n",
       "      <td>MURDER &amp; NON-NEGL. MANSLAUGHTER</td>\n",
       "      <td>FELONY</td>\n",
       "      <td>UNKNOWN</td>\n",
       "      <td>NaN</td>\n",
       "      <td>N.Y. POLICE DEPT</td>\n",
       "      <td>25-44</td>\n",
       "      <td>BLACK</td>\n",
       "      <td>M</td>\n",
       "      <td>45-64</td>\n",
       "      <td>BLACK</td>\n",
       "      <td>M</td>\n",
       "      <td>2018-08-14 14:20:00</td>\n",
       "      <td>8</td>\n",
       "      <td>33</td>\n",
       "      <td>1</td>\n",
       "      <td>14</td>\n",
       "      <td>2018-08-14</td>\n",
       "    </tr>\n",
       "  </tbody>\n",
       "</table>\n",
       "</div>"
      ],
      "text/plain": [
       "Column  CMPLNT_NUM CMPLNT_FR_DT CMPLNT_FR_TM                        OFNS_DESC  \\\n",
       "0        774621657   2018-10-08     12:30:00                          ROBBERY   \n",
       "1        232548146   2018-08-24     11:00:00                    PETIT LARCENY   \n",
       "2        452701517   2018-03-30     16:55:00                DANGEROUS WEAPONS   \n",
       "3        620357753   2018-10-02     16:00:00                    PETIT LARCENY   \n",
       "4        110535568   2018-08-14     14:20:00  MURDER & NON-NEGL. MANSLAUGHTER   \n",
       "\n",
       "Column   LAW_CAT_CD   BORO_NM    PREM_TYP_DESC        JURIS_DESC  \\\n",
       "0            FELONY     BRONX         BUS STOP  N.Y. POLICE DEPT   \n",
       "1       MISDEMEANOR  BROOKLYN  RESIDENCE-HOUSE  N.Y. POLICE DEPT   \n",
       "2            FELONY    QUEENS           STREET  N.Y. POLICE DEPT   \n",
       "3       MISDEMEANOR    QUEENS           STREET  N.Y. POLICE DEPT   \n",
       "4            FELONY   UNKNOWN              NaN  N.Y. POLICE DEPT   \n",
       "\n",
       "Column SUSP_AGE_GROUP SUSP_RACE SUSP_SEX VIC_AGE_GROUP VIC_RACE VIC_SEX  \\\n",
       "0             UNKNOWN     BLACK        M           <18    BLACK       M   \n",
       "1             UNKNOWN   UNKNOWN        U         45-64    WHITE       F   \n",
       "2             UNKNOWN   UNKNOWN        U       UNKNOWN  UNKNOWN       E   \n",
       "3             UNKNOWN   UNKNOWN        U           65+    BLACK       M   \n",
       "4               25-44     BLACK        M         45-64    BLACK       M   \n",
       "\n",
       "Column           CMPLNT_FR  CMPLNT_FR_MONTH  CMPLNT_FR_WEEK  \\\n",
       "0      2018-10-08 12:30:00               10              41   \n",
       "1      2018-08-24 11:00:00                8              34   \n",
       "2      2018-03-30 16:55:00                3              13   \n",
       "3      2018-10-02 16:00:00               10              40   \n",
       "4      2018-08-14 14:20:00                8              33   \n",
       "\n",
       "Column  CMPLNT_FR_DAY_OF_WEEK  CMPLNT_FR_HOUR CMPLNT_FR_DATE  \n",
       "0                           0              12     2018-10-08  \n",
       "1                           4              11     2018-08-24  \n",
       "2                           4              16     2018-03-30  \n",
       "3                           1              16     2018-10-02  \n",
       "4                           1              14     2018-08-14  "
      ]
     },
     "execution_count": 449,
     "metadata": {},
     "output_type": "execute_result"
    }
   ],
   "source": [
    "nypd.head()"
   ]
  },
  {
   "cell_type": "markdown",
   "metadata": {},
   "source": [
    "**Let's get number of complaints by day**"
   ]
  },
  {
   "cell_type": "code",
   "execution_count": 450,
   "metadata": {},
   "outputs": [
    {
     "data": {
      "text/plain": [
       "2018-01-01    2069\n",
       "2018-01-02    1089\n",
       "2018-01-03    1176\n",
       "2018-01-04     762\n",
       "2018-01-05    1072\n",
       "              ... \n",
       "2018-12-27    1137\n",
       "2018-12-28    1233\n",
       "2018-12-29    1211\n",
       "2018-12-30    1024\n",
       "2018-12-31    1110\n",
       "Name: CMPLNT_FR_DATE, Length: 365, dtype: int64"
      ]
     },
     "execution_count": 450,
     "metadata": {},
     "output_type": "execute_result"
    }
   ],
   "source": [
    "complaints_by_day = nypd['CMPLNT_FR_DATE'].value_counts().sort_index()\n",
    "complaints_by_day"
   ]
  },
  {
   "cell_type": "code",
   "execution_count": 451,
   "metadata": {},
   "outputs": [
    {
     "data": {
      "image/png": "[encoded data removed]",
      "text/plain": [
       "<Figure size 936x576 with 1 Axes>"
      ]
     },
     "metadata": {
      "needs_background": "light"
     },
     "output_type": "display_data"
    }
   ],
   "source": [
    "complaints_by_day.plot(figsize=(13,8))\n",
    "plt.ylabel('Number of Complaints')\n",
    "plt.xlabel('Date')\n",
    "plt.title('Number of Complaints, Daily Trend');"
   ]
  },
  {
   "cell_type": "code",
   "execution_count": 452,
   "metadata": {},
   "outputs": [
    {
     "data": {
      "text/html": [
       "<div>\n",
       "<style scoped>\n",
       "    .dataframe tbody tr th:only-of-type {\n",
       "        vertical-align: middle;\n",
       "    }\n",
       "\n",
       "    .dataframe tbody tr th {\n",
       "        vertical-align: top;\n",
       "    }\n",
       "\n",
       "    .dataframe thead th {\n",
       "        text-align: right;\n",
       "    }\n",
       "</style>\n",
       "<table border=\"1\" class=\"dataframe\">\n",
       "  <thead>\n",
       "    <tr style=\"text-align: right;\">\n",
       "      <th></th>\n",
       "      <th>CMPLNT_FR_DATE</th>\n",
       "    </tr>\n",
       "  </thead>\n",
       "  <tbody>\n",
       "    <tr>\n",
       "      <td>2018-01-01</td>\n",
       "      <td>2069</td>\n",
       "    </tr>\n",
       "    <tr>\n",
       "      <td>2018-09-01</td>\n",
       "      <td>1803</td>\n",
       "    </tr>\n",
       "    <tr>\n",
       "      <td>2018-11-01</td>\n",
       "      <td>1755</td>\n",
       "    </tr>\n",
       "    <tr>\n",
       "      <td>2018-06-01</td>\n",
       "      <td>1742</td>\n",
       "    </tr>\n",
       "    <tr>\n",
       "      <td>2018-08-01</td>\n",
       "      <td>1664</td>\n",
       "    </tr>\n",
       "    <tr>\n",
       "      <td>2018-07-01</td>\n",
       "      <td>1620</td>\n",
       "    </tr>\n",
       "    <tr>\n",
       "      <td>2018-10-01</td>\n",
       "      <td>1613</td>\n",
       "    </tr>\n",
       "    <tr>\n",
       "      <td>2018-12-01</td>\n",
       "      <td>1584</td>\n",
       "    </tr>\n",
       "    <tr>\n",
       "      <td>2018-05-01</td>\n",
       "      <td>1574</td>\n",
       "    </tr>\n",
       "    <tr>\n",
       "      <td>2018-03-01</td>\n",
       "      <td>1570</td>\n",
       "    </tr>\n",
       "    <tr>\n",
       "      <td>2018-07-05</td>\n",
       "      <td>1559</td>\n",
       "    </tr>\n",
       "    <tr>\n",
       "      <td>2018-02-01</td>\n",
       "      <td>1531</td>\n",
       "    </tr>\n",
       "    <tr>\n",
       "      <td>2018-05-25</td>\n",
       "      <td>1518</td>\n",
       "    </tr>\n",
       "    <tr>\n",
       "      <td>2018-07-29</td>\n",
       "      <td>1515</td>\n",
       "    </tr>\n",
       "    <tr>\n",
       "      <td>2018-04-13</td>\n",
       "      <td>1480</td>\n",
       "    </tr>\n",
       "    <tr>\n",
       "      <td>2018-10-31</td>\n",
       "      <td>1479</td>\n",
       "    </tr>\n",
       "    <tr>\n",
       "      <td>2018-06-20</td>\n",
       "      <td>1473</td>\n",
       "    </tr>\n",
       "    <tr>\n",
       "      <td>2018-02-15</td>\n",
       "      <td>1463</td>\n",
       "    </tr>\n",
       "    <tr>\n",
       "      <td>2018-05-11</td>\n",
       "      <td>1459</td>\n",
       "    </tr>\n",
       "    <tr>\n",
       "      <td>2018-05-02</td>\n",
       "      <td>1450</td>\n",
       "    </tr>\n",
       "  </tbody>\n",
       "</table>\n",
       "</div>"
      ],
      "text/plain": [
       "            CMPLNT_FR_DATE\n",
       "2018-01-01            2069\n",
       "2018-09-01            1803\n",
       "2018-11-01            1755\n",
       "2018-06-01            1742\n",
       "2018-08-01            1664\n",
       "2018-07-01            1620\n",
       "2018-10-01            1613\n",
       "2018-12-01            1584\n",
       "2018-05-01            1574\n",
       "2018-03-01            1570\n",
       "2018-07-05            1559\n",
       "2018-02-01            1531\n",
       "2018-05-25            1518\n",
       "2018-07-29            1515\n",
       "2018-04-13            1480\n",
       "2018-10-31            1479\n",
       "2018-06-20            1473\n",
       "2018-02-15            1463\n",
       "2018-05-11            1459\n",
       "2018-05-02            1450"
      ]
     },
     "execution_count": 452,
     "metadata": {},
     "output_type": "execute_result"
    }
   ],
   "source": [
    "pd.DataFrame(nypd['CMPLNT_FR_DATE'].value_counts().sort_values(ascending=False)).head(20)"
   ]
  },
  {
   "cell_type": "markdown",
   "metadata": {},
   "source": [
    "**Interesting that the days that have the most complaints are the first of the month! Why is that?**"
   ]
  },
  {
   "cell_type": "markdown",
   "metadata": {},
   "source": [
    "**Let's get number of complaints by month**"
   ]
  },
  {
   "cell_type": "code",
   "execution_count": 453,
   "metadata": {},
   "outputs": [
    {
     "data": {
      "text/plain": [
       "1     37696\n",
       "2     34689\n",
       "3     37507\n",
       "4     37617\n",
       "5     41297\n",
       "6     40048\n",
       "7     41990\n",
       "8     41669\n",
       "9     39423\n",
       "10    39614\n",
       "11    36752\n",
       "12    37979\n",
       "Name: CMPLNT_FR_MONTH, dtype: int64"
      ]
     },
     "execution_count": 453,
     "metadata": {},
     "output_type": "execute_result"
    }
   ],
   "source": [
    "complaints_by_month = nypd['CMPLNT_FR_MONTH'].value_counts().sort_index()\n",
    "complaints_by_month"
   ]
  },
  {
   "cell_type": "code",
   "execution_count": 454,
   "metadata": {},
   "outputs": [
    {
     "data": {
      "image/png": "[encoded data removed]",
      "text/plain": [
       "<Figure size 936x576 with 1 Axes>"
      ]
     },
     "metadata": {
      "needs_background": "light"
     },
     "output_type": "display_data"
    }
   ],
   "source": [
    "complaints_by_month.plot(figsize=(13,8), xticks=complaints_by_month.index)\n",
    "plt.ylabel('Number of Complaints')\n",
    "plt.xlabel('Month')\n",
    "plt.title('Number of Complaints by Month');"
   ]
  },
  {
   "cell_type": "code",
   "execution_count": 455,
   "metadata": {},
   "outputs": [
    {
     "data": {
      "text/plain": [
       "7     41990\n",
       "8     41669\n",
       "5     41297\n",
       "6     40048\n",
       "10    39614\n",
       "9     39423\n",
       "12    37979\n",
       "1     37696\n",
       "4     37617\n",
       "3     37507\n",
       "11    36752\n",
       "2     34689\n",
       "Name: CMPLNT_FR_MONTH, dtype: int64"
      ]
     },
     "execution_count": 455,
     "metadata": {},
     "output_type": "execute_result"
    }
   ],
   "source": [
    "nypd['CMPLNT_FR_MONTH'].value_counts().sort_values(ascending=False)"
   ]
  },
  {
   "cell_type": "markdown",
   "metadata": {},
   "source": [
    "## Conclusion #1:\n",
    "## More criminal activity happens during the warmer months of the year, summertime. Months with the highest number of complaints are May, June, July, August"
   ]
  },
  {
   "cell_type": "markdown",
   "metadata": {},
   "source": [
    "**Let's get number of complaints by hour**"
   ]
  },
  {
   "cell_type": "code",
   "execution_count": 456,
   "metadata": {},
   "outputs": [
    {
     "data": {
      "text/plain": [
       "0     23164\n",
       "1     14734\n",
       "2     12331\n",
       "3     10572\n",
       "4      9164\n",
       "5      6828\n",
       "6      7469\n",
       "7     10800\n",
       "8     16855\n",
       "9     18318\n",
       "10    19246\n",
       "11    19742\n",
       "12    27460\n",
       "13    22300\n",
       "14    24930\n",
       "15    27565\n",
       "16    27498\n",
       "17    27935\n",
       "18    27674\n",
       "19    25690\n",
       "20    24957\n",
       "21    21886\n",
       "22    20667\n",
       "23    18496\n",
       "Name: CMPLNT_FR_HOUR, dtype: int64"
      ]
     },
     "execution_count": 456,
     "metadata": {},
     "output_type": "execute_result"
    }
   ],
   "source": [
    "complaints_by_hour = nypd['CMPLNT_FR_HOUR'].value_counts().sort_index()\n",
    "complaints_by_hour"
   ]
  },
  {
   "cell_type": "code",
   "execution_count": 457,
   "metadata": {},
   "outputs": [
    {
     "data": {
      "image/png": "[encoded data removed]",
      "text/plain": [
       "<Figure size 936x576 with 1 Axes>"
      ]
     },
     "metadata": {
      "needs_background": "light"
     },
     "output_type": "display_data"
    }
   ],
   "source": [
    "complaints_by_hour.plot(figsize=(13,8), xticks=complaints_by_hour.index)\n",
    "plt.ylabel('Number of Complaints')\n",
    "plt.xlabel('Hour')\n",
    "plt.title('Number of Complaints by Hour');"
   ]
  },
  {
   "cell_type": "code",
   "execution_count": 458,
   "metadata": {},
   "outputs": [
    {
     "data": {
      "text/plain": [
       "17    27935\n",
       "18    27674\n",
       "15    27565\n",
       "16    27498\n",
       "12    27460\n",
       "19    25690\n",
       "20    24957\n",
       "14    24930\n",
       "0     23164\n",
       "13    22300\n",
       "21    21886\n",
       "22    20667\n",
       "11    19742\n",
       "10    19246\n",
       "23    18496\n",
       "9     18318\n",
       "8     16855\n",
       "1     14734\n",
       "2     12331\n",
       "7     10800\n",
       "3     10572\n",
       "4      9164\n",
       "6      7469\n",
       "5      6828\n",
       "Name: CMPLNT_FR_HOUR, dtype: int64"
      ]
     },
     "execution_count": 458,
     "metadata": {},
     "output_type": "execute_result"
    }
   ],
   "source": [
    "nypd['CMPLNT_FR_HOUR'].value_counts().sort_values(ascending=False)"
   ]
  },
  {
   "cell_type": "markdown",
   "metadata": {},
   "source": [
    "## Conclusion #2:\n",
    "## Top 5 times for complaints are 5pm, 6pm, 3pm, 4pm, and 12pm"
   ]
  },
  {
   "cell_type": "markdown",
   "metadata": {},
   "source": [
    "**Let's dive deeper and see if we see any trends by day of week and hour of day**"
   ]
  },
  {
   "cell_type": "code",
   "execution_count": 459,
   "metadata": {},
   "outputs": [
    {
     "data": {
      "text/html": [
       "<div>\n",
       "<style scoped>\n",
       "    .dataframe tbody tr th:only-of-type {\n",
       "        vertical-align: middle;\n",
       "    }\n",
       "\n",
       "    .dataframe tbody tr th {\n",
       "        vertical-align: top;\n",
       "    }\n",
       "\n",
       "    .dataframe thead th {\n",
       "        text-align: right;\n",
       "    }\n",
       "</style>\n",
       "<table border=\"1\" class=\"dataframe\">\n",
       "  <thead>\n",
       "    <tr style=\"text-align: right;\">\n",
       "      <th>Column</th>\n",
       "      <th>CMPLNT_NUM</th>\n",
       "      <th>CMPLNT_FR_DAY_OF_WEEK</th>\n",
       "      <th>CMPLNT_FR_HOUR</th>\n",
       "    </tr>\n",
       "  </thead>\n",
       "  <tbody>\n",
       "    <tr>\n",
       "      <td>0</td>\n",
       "      <td>774621657</td>\n",
       "      <td>0</td>\n",
       "      <td>12</td>\n",
       "    </tr>\n",
       "    <tr>\n",
       "      <td>1</td>\n",
       "      <td>232548146</td>\n",
       "      <td>4</td>\n",
       "      <td>11</td>\n",
       "    </tr>\n",
       "    <tr>\n",
       "      <td>2</td>\n",
       "      <td>452701517</td>\n",
       "      <td>4</td>\n",
       "      <td>16</td>\n",
       "    </tr>\n",
       "    <tr>\n",
       "      <td>3</td>\n",
       "      <td>620357753</td>\n",
       "      <td>1</td>\n",
       "      <td>16</td>\n",
       "    </tr>\n",
       "    <tr>\n",
       "      <td>4</td>\n",
       "      <td>110535568</td>\n",
       "      <td>1</td>\n",
       "      <td>14</td>\n",
       "    </tr>\n",
       "    <tr>\n",
       "      <td>5</td>\n",
       "      <td>340031034</td>\n",
       "      <td>3</td>\n",
       "      <td>23</td>\n",
       "    </tr>\n",
       "    <tr>\n",
       "      <td>6</td>\n",
       "      <td>640327678</td>\n",
       "      <td>2</td>\n",
       "      <td>16</td>\n",
       "    </tr>\n",
       "    <tr>\n",
       "      <td>7</td>\n",
       "      <td>258723058</td>\n",
       "      <td>4</td>\n",
       "      <td>17</td>\n",
       "    </tr>\n",
       "    <tr>\n",
       "      <td>8</td>\n",
       "      <td>601955785</td>\n",
       "      <td>6</td>\n",
       "      <td>8</td>\n",
       "    </tr>\n",
       "    <tr>\n",
       "      <td>9</td>\n",
       "      <td>444903438</td>\n",
       "      <td>1</td>\n",
       "      <td>14</td>\n",
       "    </tr>\n",
       "  </tbody>\n",
       "</table>\n",
       "</div>"
      ],
      "text/plain": [
       "Column  CMPLNT_NUM  CMPLNT_FR_DAY_OF_WEEK  CMPLNT_FR_HOUR\n",
       "0        774621657                      0              12\n",
       "1        232548146                      4              11\n",
       "2        452701517                      4              16\n",
       "3        620357753                      1              16\n",
       "4        110535568                      1              14\n",
       "5        340031034                      3              23\n",
       "6        640327678                      2              16\n",
       "7        258723058                      4              17\n",
       "8        601955785                      6               8\n",
       "9        444903438                      1              14"
      ]
     },
     "execution_count": 459,
     "metadata": {},
     "output_type": "execute_result"
    }
   ],
   "source": [
    "nypd[['CMPLNT_NUM', 'CMPLNT_FR_DAY_OF_WEEK', 'CMPLNT_FR_HOUR']].head(10)"
   ]
  },
  {
   "cell_type": "code",
   "execution_count": 460,
   "metadata": {},
   "outputs": [],
   "source": [
    "cmplnts_dayofweek_hour = nypd.groupby(['CMPLNT_FR_DAY_OF_WEEK', 'CMPLNT_FR_HOUR']).CMPLNT_NUM.count()"
   ]
  },
  {
   "cell_type": "markdown",
   "metadata": {},
   "source": [
    "**Doublechecking to make sure this adds up to the total number of complaints**"
   ]
  },
  {
   "cell_type": "code",
   "execution_count": 461,
   "metadata": {},
   "outputs": [
    {
     "data": {
      "text/plain": [
       "466281"
      ]
     },
     "execution_count": 461,
     "metadata": {},
     "output_type": "execute_result"
    }
   ],
   "source": [
    "cmplnts_dayofweek_hour.sum()"
   ]
  },
  {
   "cell_type": "code",
   "execution_count": 462,
   "metadata": {},
   "outputs": [
    {
     "data": {
      "text/plain": [
       "CMPLNT_FR_DAY_OF_WEEK  CMPLNT_FR_HOUR\n",
       "0                      0                 3531\n",
       "                       1                 1889\n",
       "                       2                 1537\n",
       "                       3                 1261\n",
       "                       4                 1161\n",
       "                                         ... \n",
       "6                      19                3268\n",
       "                       20                3226\n",
       "                       21                2891\n",
       "                       22                2869\n",
       "                       23                2429\n",
       "Name: CMPLNT_NUM, Length: 168, dtype: int64"
      ]
     },
     "execution_count": 462,
     "metadata": {},
     "output_type": "execute_result"
    }
   ],
   "source": [
    "cmplnts_dayofweek_hour"
   ]
  },
  {
   "cell_type": "code",
   "execution_count": 463,
   "metadata": {},
   "outputs": [],
   "source": [
    "cmplnts_dayofweek_hour = cmplnts_dayofweek_hour.unstack()"
   ]
  },
  {
   "cell_type": "code",
   "execution_count": 464,
   "metadata": {},
   "outputs": [],
   "source": [
    "cmplnts_dayofweek_hour = cmplnts_dayofweek_hour.transpose()"
   ]
  },
  {
   "cell_type": "code",
   "execution_count": 465,
   "metadata": {},
   "outputs": [
    {
     "data": {
      "text/html": [
       "<div>\n",
       "<style scoped>\n",
       "    .dataframe tbody tr th:only-of-type {\n",
       "        vertical-align: middle;\n",
       "    }\n",
       "\n",
       "    .dataframe tbody tr th {\n",
       "        vertical-align: top;\n",
       "    }\n",
       "\n",
       "    .dataframe thead th {\n",
       "        text-align: right;\n",
       "    }\n",
       "</style>\n",
       "<table border=\"1\" class=\"dataframe\">\n",
       "  <thead>\n",
       "    <tr style=\"text-align: right;\">\n",
       "      <th>CMPLNT_FR_DAY_OF_WEEK</th>\n",
       "      <th>0</th>\n",
       "      <th>1</th>\n",
       "      <th>2</th>\n",
       "      <th>3</th>\n",
       "      <th>4</th>\n",
       "      <th>5</th>\n",
       "      <th>6</th>\n",
       "    </tr>\n",
       "    <tr>\n",
       "      <th>CMPLNT_FR_HOUR</th>\n",
       "      <th></th>\n",
       "      <th></th>\n",
       "      <th></th>\n",
       "      <th></th>\n",
       "      <th></th>\n",
       "      <th></th>\n",
       "      <th></th>\n",
       "    </tr>\n",
       "  </thead>\n",
       "  <tbody>\n",
       "    <tr>\n",
       "      <td>0</td>\n",
       "      <td>3531</td>\n",
       "      <td>2715</td>\n",
       "      <td>3031</td>\n",
       "      <td>3348</td>\n",
       "      <td>3118</td>\n",
       "      <td>3844</td>\n",
       "      <td>3577</td>\n",
       "    </tr>\n",
       "    <tr>\n",
       "      <td>1</td>\n",
       "      <td>1889</td>\n",
       "      <td>1613</td>\n",
       "      <td>1708</td>\n",
       "      <td>1889</td>\n",
       "      <td>1985</td>\n",
       "      <td>2788</td>\n",
       "      <td>2862</td>\n",
       "    </tr>\n",
       "    <tr>\n",
       "      <td>2</td>\n",
       "      <td>1537</td>\n",
       "      <td>1221</td>\n",
       "      <td>1384</td>\n",
       "      <td>1444</td>\n",
       "      <td>1645</td>\n",
       "      <td>2560</td>\n",
       "      <td>2540</td>\n",
       "    </tr>\n",
       "    <tr>\n",
       "      <td>3</td>\n",
       "      <td>1261</td>\n",
       "      <td>917</td>\n",
       "      <td>1112</td>\n",
       "      <td>1179</td>\n",
       "      <td>1277</td>\n",
       "      <td>2329</td>\n",
       "      <td>2497</td>\n",
       "    </tr>\n",
       "    <tr>\n",
       "      <td>4</td>\n",
       "      <td>1161</td>\n",
       "      <td>883</td>\n",
       "      <td>906</td>\n",
       "      <td>959</td>\n",
       "      <td>1091</td>\n",
       "      <td>1961</td>\n",
       "      <td>2203</td>\n",
       "    </tr>\n",
       "    <tr>\n",
       "      <td>5</td>\n",
       "      <td>950</td>\n",
       "      <td>726</td>\n",
       "      <td>789</td>\n",
       "      <td>811</td>\n",
       "      <td>861</td>\n",
       "      <td>1298</td>\n",
       "      <td>1393</td>\n",
       "    </tr>\n",
       "    <tr>\n",
       "      <td>6</td>\n",
       "      <td>1011</td>\n",
       "      <td>1022</td>\n",
       "      <td>1103</td>\n",
       "      <td>1065</td>\n",
       "      <td>1140</td>\n",
       "      <td>1046</td>\n",
       "      <td>1082</td>\n",
       "    </tr>\n",
       "    <tr>\n",
       "      <td>7</td>\n",
       "      <td>1626</td>\n",
       "      <td>1605</td>\n",
       "      <td>1776</td>\n",
       "      <td>1805</td>\n",
       "      <td>1605</td>\n",
       "      <td>1196</td>\n",
       "      <td>1187</td>\n",
       "    </tr>\n",
       "    <tr>\n",
       "      <td>8</td>\n",
       "      <td>2786</td>\n",
       "      <td>2580</td>\n",
       "      <td>2666</td>\n",
       "      <td>2692</td>\n",
       "      <td>2606</td>\n",
       "      <td>1823</td>\n",
       "      <td>1702</td>\n",
       "    </tr>\n",
       "    <tr>\n",
       "      <td>9</td>\n",
       "      <td>2865</td>\n",
       "      <td>2850</td>\n",
       "      <td>2779</td>\n",
       "      <td>2908</td>\n",
       "      <td>2751</td>\n",
       "      <td>2173</td>\n",
       "      <td>1992</td>\n",
       "    </tr>\n",
       "    <tr>\n",
       "      <td>10</td>\n",
       "      <td>2963</td>\n",
       "      <td>2965</td>\n",
       "      <td>2897</td>\n",
       "      <td>2898</td>\n",
       "      <td>2817</td>\n",
       "      <td>2506</td>\n",
       "      <td>2200</td>\n",
       "    </tr>\n",
       "    <tr>\n",
       "      <td>11</td>\n",
       "      <td>2890</td>\n",
       "      <td>2968</td>\n",
       "      <td>3072</td>\n",
       "      <td>2978</td>\n",
       "      <td>2888</td>\n",
       "      <td>2581</td>\n",
       "      <td>2365</td>\n",
       "    </tr>\n",
       "    <tr>\n",
       "      <td>12</td>\n",
       "      <td>4288</td>\n",
       "      <td>4049</td>\n",
       "      <td>4100</td>\n",
       "      <td>4076</td>\n",
       "      <td>4074</td>\n",
       "      <td>3779</td>\n",
       "      <td>3094</td>\n",
       "    </tr>\n",
       "    <tr>\n",
       "      <td>13</td>\n",
       "      <td>3147</td>\n",
       "      <td>3273</td>\n",
       "      <td>3357</td>\n",
       "      <td>3412</td>\n",
       "      <td>3393</td>\n",
       "      <td>3051</td>\n",
       "      <td>2667</td>\n",
       "    </tr>\n",
       "    <tr>\n",
       "      <td>14</td>\n",
       "      <td>3736</td>\n",
       "      <td>3830</td>\n",
       "      <td>3809</td>\n",
       "      <td>3790</td>\n",
       "      <td>3877</td>\n",
       "      <td>3111</td>\n",
       "      <td>2777</td>\n",
       "    </tr>\n",
       "    <tr>\n",
       "      <td>15</td>\n",
       "      <td>4103</td>\n",
       "      <td>4178</td>\n",
       "      <td>4169</td>\n",
       "      <td>4195</td>\n",
       "      <td>4378</td>\n",
       "      <td>3470</td>\n",
       "      <td>3072</td>\n",
       "    </tr>\n",
       "    <tr>\n",
       "      <td>16</td>\n",
       "      <td>3949</td>\n",
       "      <td>4058</td>\n",
       "      <td>4223</td>\n",
       "      <td>4162</td>\n",
       "      <td>4210</td>\n",
       "      <td>3557</td>\n",
       "      <td>3339</td>\n",
       "    </tr>\n",
       "    <tr>\n",
       "      <td>17</td>\n",
       "      <td>3979</td>\n",
       "      <td>4101</td>\n",
       "      <td>4243</td>\n",
       "      <td>4166</td>\n",
       "      <td>4333</td>\n",
       "      <td>3625</td>\n",
       "      <td>3488</td>\n",
       "    </tr>\n",
       "    <tr>\n",
       "      <td>18</td>\n",
       "      <td>3924</td>\n",
       "      <td>4024</td>\n",
       "      <td>4259</td>\n",
       "      <td>4049</td>\n",
       "      <td>4358</td>\n",
       "      <td>3632</td>\n",
       "      <td>3428</td>\n",
       "    </tr>\n",
       "    <tr>\n",
       "      <td>19</td>\n",
       "      <td>3674</td>\n",
       "      <td>3656</td>\n",
       "      <td>3877</td>\n",
       "      <td>3644</td>\n",
       "      <td>4019</td>\n",
       "      <td>3552</td>\n",
       "      <td>3268</td>\n",
       "    </tr>\n",
       "    <tr>\n",
       "      <td>20</td>\n",
       "      <td>3540</td>\n",
       "      <td>3557</td>\n",
       "      <td>3532</td>\n",
       "      <td>3688</td>\n",
       "      <td>3881</td>\n",
       "      <td>3533</td>\n",
       "      <td>3226</td>\n",
       "    </tr>\n",
       "    <tr>\n",
       "      <td>21</td>\n",
       "      <td>2991</td>\n",
       "      <td>3115</td>\n",
       "      <td>3181</td>\n",
       "      <td>2984</td>\n",
       "      <td>3416</td>\n",
       "      <td>3308</td>\n",
       "      <td>2891</td>\n",
       "    </tr>\n",
       "    <tr>\n",
       "      <td>22</td>\n",
       "      <td>2709</td>\n",
       "      <td>2814</td>\n",
       "      <td>2897</td>\n",
       "      <td>2768</td>\n",
       "      <td>3300</td>\n",
       "      <td>3310</td>\n",
       "      <td>2869</td>\n",
       "    </tr>\n",
       "    <tr>\n",
       "      <td>23</td>\n",
       "      <td>2243</td>\n",
       "      <td>2439</td>\n",
       "      <td>2583</td>\n",
       "      <td>2558</td>\n",
       "      <td>3147</td>\n",
       "      <td>3097</td>\n",
       "      <td>2429</td>\n",
       "    </tr>\n",
       "  </tbody>\n",
       "</table>\n",
       "</div>"
      ],
      "text/plain": [
       "CMPLNT_FR_DAY_OF_WEEK     0     1     2     3     4     5     6\n",
       "CMPLNT_FR_HOUR                                                 \n",
       "0                      3531  2715  3031  3348  3118  3844  3577\n",
       "1                      1889  1613  1708  1889  1985  2788  2862\n",
       "2                      1537  1221  1384  1444  1645  2560  2540\n",
       "3                      1261   917  1112  1179  1277  2329  2497\n",
       "4                      1161   883   906   959  1091  1961  2203\n",
       "5                       950   726   789   811   861  1298  1393\n",
       "6                      1011  1022  1103  1065  1140  1046  1082\n",
       "7                      1626  1605  1776  1805  1605  1196  1187\n",
       "8                      2786  2580  2666  2692  2606  1823  1702\n",
       "9                      2865  2850  2779  2908  2751  2173  1992\n",
       "10                     2963  2965  2897  2898  2817  2506  2200\n",
       "11                     2890  2968  3072  2978  2888  2581  2365\n",
       "12                     4288  4049  4100  4076  4074  3779  3094\n",
       "13                     3147  3273  3357  3412  3393  3051  2667\n",
       "14                     3736  3830  3809  3790  3877  3111  2777\n",
       "15                     4103  4178  4169  4195  4378  3470  3072\n",
       "16                     3949  4058  4223  4162  4210  3557  3339\n",
       "17                     3979  4101  4243  4166  4333  3625  3488\n",
       "18                     3924  4024  4259  4049  4358  3632  3428\n",
       "19                     3674  3656  3877  3644  4019  3552  3268\n",
       "20                     3540  3557  3532  3688  3881  3533  3226\n",
       "21                     2991  3115  3181  2984  3416  3308  2891\n",
       "22                     2709  2814  2897  2768  3300  3310  2869\n",
       "23                     2243  2439  2583  2558  3147  3097  2429"
      ]
     },
     "execution_count": 465,
     "metadata": {},
     "output_type": "execute_result"
    }
   ],
   "source": [
    "cmplnts_dayofweek_hour"
   ]
  },
  {
   "cell_type": "code",
   "execution_count": 466,
   "metadata": {},
   "outputs": [
    {
     "data": {
      "image/png": "[encoded data removed]",
      "text/plain": [
       "<Figure size 792x1080 with 2 Axes>"
      ]
     },
     "metadata": {
      "needs_background": "light"
     },
     "output_type": "display_data"
    }
   ],
   "source": [
    "plt.figure(figsize=(11,15))\n",
    "ax = sns.heatmap(cmplnts_dayofweek_hour, annot=True, fmt=\"d\", linewidths=.5, cmap = 'Blues');\n",
    "ax.axes.set_title(\"Complaint Counts by Day and Hour of Day\", fontsize=20, y=1.01)\n",
    "ax.set(xlabel='Day of Week', ylabel='Hour');\n",
    "# plt.subplots.set_ylim(-0.5, -0.5)"
   ]
  },
  {
   "cell_type": "markdown",
   "metadata": {},
   "source": [
    "## Conclusion #3:\n",
    "## Noon, 3pm-7pm have the most criminal activity. Midnight on weekends also sees much activity"
   ]
  },
  {
   "cell_type": "code",
   "execution_count": 467,
   "metadata": {},
   "outputs": [
    {
     "data": {
      "text/html": [
       "<div>\n",
       "<style scoped>\n",
       "    .dataframe tbody tr th:only-of-type {\n",
       "        vertical-align: middle;\n",
       "    }\n",
       "\n",
       "    .dataframe tbody tr th {\n",
       "        vertical-align: top;\n",
       "    }\n",
       "\n",
       "    .dataframe thead th {\n",
       "        text-align: right;\n",
       "    }\n",
       "</style>\n",
       "<table border=\"1\" class=\"dataframe\">\n",
       "  <thead>\n",
       "    <tr style=\"text-align: right;\">\n",
       "      <th>Column</th>\n",
       "      <th>CMPLNT_NUM</th>\n",
       "      <th>CMPLNT_FR_DT</th>\n",
       "      <th>CMPLNT_FR_TM</th>\n",
       "      <th>OFNS_DESC</th>\n",
       "      <th>LAW_CAT_CD</th>\n",
       "      <th>BORO_NM</th>\n",
       "      <th>PREM_TYP_DESC</th>\n",
       "      <th>JURIS_DESC</th>\n",
       "      <th>SUSP_AGE_GROUP</th>\n",
       "      <th>SUSP_RACE</th>\n",
       "      <th>SUSP_SEX</th>\n",
       "      <th>VIC_AGE_GROUP</th>\n",
       "      <th>VIC_RACE</th>\n",
       "      <th>VIC_SEX</th>\n",
       "      <th>CMPLNT_FR</th>\n",
       "      <th>CMPLNT_FR_MONTH</th>\n",
       "      <th>CMPLNT_FR_WEEK</th>\n",
       "      <th>CMPLNT_FR_DAY_OF_WEEK</th>\n",
       "      <th>CMPLNT_FR_HOUR</th>\n",
       "      <th>CMPLNT_FR_DATE</th>\n",
       "    </tr>\n",
       "  </thead>\n",
       "  <tbody>\n",
       "    <tr>\n",
       "      <td>0</td>\n",
       "      <td>774621657</td>\n",
       "      <td>2018-10-08</td>\n",
       "      <td>12:30:00</td>\n",
       "      <td>ROBBERY</td>\n",
       "      <td>FELONY</td>\n",
       "      <td>BRONX</td>\n",
       "      <td>BUS STOP</td>\n",
       "      <td>N.Y. POLICE DEPT</td>\n",
       "      <td>UNKNOWN</td>\n",
       "      <td>BLACK</td>\n",
       "      <td>M</td>\n",
       "      <td>&lt;18</td>\n",
       "      <td>BLACK</td>\n",
       "      <td>M</td>\n",
       "      <td>2018-10-08 12:30:00</td>\n",
       "      <td>10</td>\n",
       "      <td>41</td>\n",
       "      <td>0</td>\n",
       "      <td>12</td>\n",
       "      <td>2018-10-08</td>\n",
       "    </tr>\n",
       "    <tr>\n",
       "      <td>1</td>\n",
       "      <td>232548146</td>\n",
       "      <td>2018-08-24</td>\n",
       "      <td>11:00:00</td>\n",
       "      <td>PETIT LARCENY</td>\n",
       "      <td>MISDEMEANOR</td>\n",
       "      <td>BROOKLYN</td>\n",
       "      <td>RESIDENCE-HOUSE</td>\n",
       "      <td>N.Y. POLICE DEPT</td>\n",
       "      <td>UNKNOWN</td>\n",
       "      <td>UNKNOWN</td>\n",
       "      <td>U</td>\n",
       "      <td>45-64</td>\n",
       "      <td>WHITE</td>\n",
       "      <td>F</td>\n",
       "      <td>2018-08-24 11:00:00</td>\n",
       "      <td>8</td>\n",
       "      <td>34</td>\n",
       "      <td>4</td>\n",
       "      <td>11</td>\n",
       "      <td>2018-08-24</td>\n",
       "    </tr>\n",
       "    <tr>\n",
       "      <td>2</td>\n",
       "      <td>452701517</td>\n",
       "      <td>2018-03-30</td>\n",
       "      <td>16:55:00</td>\n",
       "      <td>DANGEROUS WEAPONS</td>\n",
       "      <td>FELONY</td>\n",
       "      <td>QUEENS</td>\n",
       "      <td>STREET</td>\n",
       "      <td>N.Y. POLICE DEPT</td>\n",
       "      <td>UNKNOWN</td>\n",
       "      <td>UNKNOWN</td>\n",
       "      <td>U</td>\n",
       "      <td>UNKNOWN</td>\n",
       "      <td>UNKNOWN</td>\n",
       "      <td>E</td>\n",
       "      <td>2018-03-30 16:55:00</td>\n",
       "      <td>3</td>\n",
       "      <td>13</td>\n",
       "      <td>4</td>\n",
       "      <td>16</td>\n",
       "      <td>2018-03-30</td>\n",
       "    </tr>\n",
       "    <tr>\n",
       "      <td>3</td>\n",
       "      <td>620357753</td>\n",
       "      <td>2018-10-02</td>\n",
       "      <td>16:00:00</td>\n",
       "      <td>PETIT LARCENY</td>\n",
       "      <td>MISDEMEANOR</td>\n",
       "      <td>QUEENS</td>\n",
       "      <td>STREET</td>\n",
       "      <td>N.Y. POLICE DEPT</td>\n",
       "      <td>UNKNOWN</td>\n",
       "      <td>UNKNOWN</td>\n",
       "      <td>U</td>\n",
       "      <td>65+</td>\n",
       "      <td>BLACK</td>\n",
       "      <td>M</td>\n",
       "      <td>2018-10-02 16:00:00</td>\n",
       "      <td>10</td>\n",
       "      <td>40</td>\n",
       "      <td>1</td>\n",
       "      <td>16</td>\n",
       "      <td>2018-10-02</td>\n",
       "    </tr>\n",
       "    <tr>\n",
       "      <td>5</td>\n",
       "      <td>340031034</td>\n",
       "      <td>2018-06-07</td>\n",
       "      <td>23:30:00</td>\n",
       "      <td>ASSAULT 3 &amp; RELATED OFFENSES</td>\n",
       "      <td>MISDEMEANOR</td>\n",
       "      <td>BROOKLYN</td>\n",
       "      <td>RESIDENCE - APT. HOUSE</td>\n",
       "      <td>N.Y. POLICE DEPT</td>\n",
       "      <td>UNKNOWN</td>\n",
       "      <td>UNKNOWN</td>\n",
       "      <td>U</td>\n",
       "      <td>18-24</td>\n",
       "      <td>BLACK</td>\n",
       "      <td>F</td>\n",
       "      <td>2018-06-07 23:30:00</td>\n",
       "      <td>6</td>\n",
       "      <td>23</td>\n",
       "      <td>3</td>\n",
       "      <td>23</td>\n",
       "      <td>2018-06-07</td>\n",
       "    </tr>\n",
       "    <tr>\n",
       "      <td>...</td>\n",
       "      <td>...</td>\n",
       "      <td>...</td>\n",
       "      <td>...</td>\n",
       "      <td>...</td>\n",
       "      <td>...</td>\n",
       "      <td>...</td>\n",
       "      <td>...</td>\n",
       "      <td>...</td>\n",
       "      <td>...</td>\n",
       "      <td>...</td>\n",
       "      <td>...</td>\n",
       "      <td>...</td>\n",
       "      <td>...</td>\n",
       "      <td>...</td>\n",
       "      <td>...</td>\n",
       "      <td>...</td>\n",
       "      <td>...</td>\n",
       "      <td>...</td>\n",
       "      <td>...</td>\n",
       "      <td>...</td>\n",
       "    </tr>\n",
       "    <tr>\n",
       "      <td>466285</td>\n",
       "      <td>410465272</td>\n",
       "      <td>2018-09-13</td>\n",
       "      <td>09:00:00</td>\n",
       "      <td>GRAND LARCENY</td>\n",
       "      <td>FELONY</td>\n",
       "      <td>QUEENS</td>\n",
       "      <td>RESIDENCE - PUBLIC HOUSING</td>\n",
       "      <td>N.Y. HOUSING POLICE</td>\n",
       "      <td>UNKNOWN</td>\n",
       "      <td>UNKNOWN</td>\n",
       "      <td>U</td>\n",
       "      <td>65+</td>\n",
       "      <td>WHITE HISPANIC</td>\n",
       "      <td>F</td>\n",
       "      <td>2018-09-13 09:00:00</td>\n",
       "      <td>9</td>\n",
       "      <td>37</td>\n",
       "      <td>3</td>\n",
       "      <td>9</td>\n",
       "      <td>2018-09-13</td>\n",
       "    </tr>\n",
       "    <tr>\n",
       "      <td>466286</td>\n",
       "      <td>843436450</td>\n",
       "      <td>2018-12-25</td>\n",
       "      <td>05:00:00</td>\n",
       "      <td>GRAND LARCENY</td>\n",
       "      <td>FELONY</td>\n",
       "      <td>BROOKLYN</td>\n",
       "      <td>RESIDENCE - PUBLIC HOUSING</td>\n",
       "      <td>N.Y. HOUSING POLICE</td>\n",
       "      <td>UNKNOWN</td>\n",
       "      <td>UNKNOWN</td>\n",
       "      <td>U</td>\n",
       "      <td>18-24</td>\n",
       "      <td>WHITE HISPANIC</td>\n",
       "      <td>F</td>\n",
       "      <td>2018-12-25 05:00:00</td>\n",
       "      <td>12</td>\n",
       "      <td>52</td>\n",
       "      <td>1</td>\n",
       "      <td>5</td>\n",
       "      <td>2018-12-25</td>\n",
       "    </tr>\n",
       "    <tr>\n",
       "      <td>466287</td>\n",
       "      <td>800441646</td>\n",
       "      <td>2018-12-30</td>\n",
       "      <td>19:00:00</td>\n",
       "      <td>OFF. AGNST PUB ORD SENSBLTY &amp;</td>\n",
       "      <td>MISDEMEANOR</td>\n",
       "      <td>BRONX</td>\n",
       "      <td>RESIDENCE - PUBLIC HOUSING</td>\n",
       "      <td>N.Y. HOUSING POLICE</td>\n",
       "      <td>UNKNOWN</td>\n",
       "      <td>UNKNOWN</td>\n",
       "      <td>U</td>\n",
       "      <td>&lt;18</td>\n",
       "      <td>BLACK</td>\n",
       "      <td>F</td>\n",
       "      <td>2018-12-30 19:00:00</td>\n",
       "      <td>12</td>\n",
       "      <td>52</td>\n",
       "      <td>6</td>\n",
       "      <td>19</td>\n",
       "      <td>2018-12-30</td>\n",
       "    </tr>\n",
       "    <tr>\n",
       "      <td>466291</td>\n",
       "      <td>791474790</td>\n",
       "      <td>2018-11-06</td>\n",
       "      <td>00:00:00</td>\n",
       "      <td>FRAUDS</td>\n",
       "      <td>MISDEMEANOR</td>\n",
       "      <td>BRONX</td>\n",
       "      <td>RESIDENCE - PUBLIC HOUSING</td>\n",
       "      <td>N.Y. POLICE DEPT</td>\n",
       "      <td>UNKNOWN</td>\n",
       "      <td>UNKNOWN</td>\n",
       "      <td>U</td>\n",
       "      <td>65+</td>\n",
       "      <td>BLACK</td>\n",
       "      <td>M</td>\n",
       "      <td>2018-11-06 00:00:00</td>\n",
       "      <td>11</td>\n",
       "      <td>45</td>\n",
       "      <td>1</td>\n",
       "      <td>0</td>\n",
       "      <td>2018-11-06</td>\n",
       "    </tr>\n",
       "    <tr>\n",
       "      <td>466292</td>\n",
       "      <td>584053940</td>\n",
       "      <td>2018-12-31</td>\n",
       "      <td>18:00:00</td>\n",
       "      <td>CRIMINAL MISCHIEF &amp; RELATED OF</td>\n",
       "      <td>MISDEMEANOR</td>\n",
       "      <td>BRONX</td>\n",
       "      <td>RESIDENCE - PUBLIC HOUSING</td>\n",
       "      <td>N.Y. HOUSING POLICE</td>\n",
       "      <td>UNKNOWN</td>\n",
       "      <td>UNKNOWN</td>\n",
       "      <td>U</td>\n",
       "      <td>45-64</td>\n",
       "      <td>BLACK HISPANIC</td>\n",
       "      <td>F</td>\n",
       "      <td>2018-12-31 18:00:00</td>\n",
       "      <td>12</td>\n",
       "      <td>1</td>\n",
       "      <td>0</td>\n",
       "      <td>18</td>\n",
       "      <td>2018-12-31</td>\n",
       "    </tr>\n",
       "  </tbody>\n",
       "</table>\n",
       "<p>246241 rows × 20 columns</p>\n",
       "</div>"
      ],
      "text/plain": [
       "Column  CMPLNT_NUM CMPLNT_FR_DT CMPLNT_FR_TM                       OFNS_DESC  \\\n",
       "0        774621657   2018-10-08     12:30:00                         ROBBERY   \n",
       "1        232548146   2018-08-24     11:00:00                   PETIT LARCENY   \n",
       "2        452701517   2018-03-30     16:55:00               DANGEROUS WEAPONS   \n",
       "3        620357753   2018-10-02     16:00:00                   PETIT LARCENY   \n",
       "5        340031034   2018-06-07     23:30:00    ASSAULT 3 & RELATED OFFENSES   \n",
       "...            ...          ...          ...                             ...   \n",
       "466285   410465272   2018-09-13     09:00:00                   GRAND LARCENY   \n",
       "466286   843436450   2018-12-25     05:00:00                   GRAND LARCENY   \n",
       "466287   800441646   2018-12-30     19:00:00   OFF. AGNST PUB ORD SENSBLTY &   \n",
       "466291   791474790   2018-11-06     00:00:00                          FRAUDS   \n",
       "466292   584053940   2018-12-31     18:00:00  CRIMINAL MISCHIEF & RELATED OF   \n",
       "\n",
       "Column   LAW_CAT_CD   BORO_NM               PREM_TYP_DESC  \\\n",
       "0            FELONY     BRONX                    BUS STOP   \n",
       "1       MISDEMEANOR  BROOKLYN             RESIDENCE-HOUSE   \n",
       "2            FELONY    QUEENS                      STREET   \n",
       "3       MISDEMEANOR    QUEENS                      STREET   \n",
       "5       MISDEMEANOR  BROOKLYN      RESIDENCE - APT. HOUSE   \n",
       "...             ...       ...                         ...   \n",
       "466285       FELONY    QUEENS  RESIDENCE - PUBLIC HOUSING   \n",
       "466286       FELONY  BROOKLYN  RESIDENCE - PUBLIC HOUSING   \n",
       "466287  MISDEMEANOR     BRONX  RESIDENCE - PUBLIC HOUSING   \n",
       "466291  MISDEMEANOR     BRONX  RESIDENCE - PUBLIC HOUSING   \n",
       "466292  MISDEMEANOR     BRONX  RESIDENCE - PUBLIC HOUSING   \n",
       "\n",
       "Column           JURIS_DESC SUSP_AGE_GROUP SUSP_RACE SUSP_SEX VIC_AGE_GROUP  \\\n",
       "0          N.Y. POLICE DEPT        UNKNOWN     BLACK        M           <18   \n",
       "1          N.Y. POLICE DEPT        UNKNOWN   UNKNOWN        U         45-64   \n",
       "2          N.Y. POLICE DEPT        UNKNOWN   UNKNOWN        U       UNKNOWN   \n",
       "3          N.Y. POLICE DEPT        UNKNOWN   UNKNOWN        U           65+   \n",
       "5          N.Y. POLICE DEPT        UNKNOWN   UNKNOWN        U         18-24   \n",
       "...                     ...            ...       ...      ...           ...   \n",
       "466285  N.Y. HOUSING POLICE        UNKNOWN   UNKNOWN        U           65+   \n",
       "466286  N.Y. HOUSING POLICE        UNKNOWN   UNKNOWN        U         18-24   \n",
       "466287  N.Y. HOUSING POLICE        UNKNOWN   UNKNOWN        U           <18   \n",
       "466291     N.Y. POLICE DEPT        UNKNOWN   UNKNOWN        U           65+   \n",
       "466292  N.Y. HOUSING POLICE        UNKNOWN   UNKNOWN        U         45-64   \n",
       "\n",
       "Column        VIC_RACE VIC_SEX           CMPLNT_FR  CMPLNT_FR_MONTH  \\\n",
       "0                BLACK       M 2018-10-08 12:30:00               10   \n",
       "1                WHITE       F 2018-08-24 11:00:00                8   \n",
       "2              UNKNOWN       E 2018-03-30 16:55:00                3   \n",
       "3                BLACK       M 2018-10-02 16:00:00               10   \n",
       "5                BLACK       F 2018-06-07 23:30:00                6   \n",
       "...                ...     ...                 ...              ...   \n",
       "466285  WHITE HISPANIC       F 2018-09-13 09:00:00                9   \n",
       "466286  WHITE HISPANIC       F 2018-12-25 05:00:00               12   \n",
       "466287           BLACK       F 2018-12-30 19:00:00               12   \n",
       "466291           BLACK       M 2018-11-06 00:00:00               11   \n",
       "466292  BLACK HISPANIC       F 2018-12-31 18:00:00               12   \n",
       "\n",
       "Column  CMPLNT_FR_WEEK  CMPLNT_FR_DAY_OF_WEEK  CMPLNT_FR_HOUR CMPLNT_FR_DATE  \n",
       "0                   41                      0              12     2018-10-08  \n",
       "1                   34                      4              11     2018-08-24  \n",
       "2                   13                      4              16     2018-03-30  \n",
       "3                   40                      1              16     2018-10-02  \n",
       "5                   23                      3              23     2018-06-07  \n",
       "...                ...                    ...             ...            ...  \n",
       "466285              37                      3               9     2018-09-13  \n",
       "466286              52                      1               5     2018-12-25  \n",
       "466287              52                      6              19     2018-12-30  \n",
       "466291              45                      1               0     2018-11-06  \n",
       "466292               1                      0              18     2018-12-31  \n",
       "\n",
       "[246241 rows x 20 columns]"
      ]
     },
     "execution_count": 467,
     "metadata": {},
     "output_type": "execute_result"
    }
   ],
   "source": [
    "nypd[nypd['SUSP_AGE_GROUP'] == 'UNKNOWN']"
   ]
  },
  {
   "cell_type": "markdown",
   "metadata": {},
   "source": [
    "## Now, let's look at the complaints themselves"
   ]
  },
  {
   "cell_type": "markdown",
   "metadata": {},
   "source": [
    "**First, top complaints overall and by borough**"
   ]
  },
  {
   "cell_type": "code",
   "execution_count": 468,
   "metadata": {},
   "outputs": [
    {
     "data": {
      "text/plain": [
       "BRONX            101314\n",
       "BROOKLYN         137422\n",
       "MANHATTAN        115188\n",
       "QUEENS            91055\n",
       "STATEN ISLAND     20990\n",
       "UNKNOWN             312\n",
       "Name: BORO_NM, dtype: int64"
      ]
     },
     "execution_count": 468,
     "metadata": {},
     "output_type": "execute_result"
    }
   ],
   "source": [
    "nypd.BORO_NM.value_counts().sort_index()"
   ]
  },
  {
   "cell_type": "code",
   "execution_count": 469,
   "metadata": {},
   "outputs": [
    {
     "data": {
      "text/plain": [
       "(466281, 20)"
      ]
     },
     "execution_count": 469,
     "metadata": {},
     "output_type": "execute_result"
    }
   ],
   "source": [
    "nypd.shape"
   ]
  },
  {
   "cell_type": "code",
   "execution_count": 470,
   "metadata": {},
   "outputs": [
    {
     "data": {
      "text/plain": [
       "PETIT LARCENY                     87063\n",
       "HARRASSMENT 2                     70627\n",
       "ASSAULT 3 & RELATED OFFENSES      53323\n",
       "CRIMINAL MISCHIEF & RELATED OF    47627\n",
       "GRAND LARCENY                     44214\n",
       "OFF. AGNST PUB ORD SENSBLTY &     20875\n",
       "FELONY ASSAULT                    20313\n",
       "DANGEROUS DRUGS                   15262\n",
       "MISCELLANEOUS PENAL LAW           13335\n",
       "ROBBERY                           12934\n",
       "Name: OFNS_DESC, dtype: int64"
      ]
     },
     "execution_count": 470,
     "metadata": {},
     "output_type": "execute_result"
    }
   ],
   "source": [
    "nypd.OFNS_DESC.value_counts(dropna=False).head(10)"
   ]
  },
  {
   "cell_type": "code",
   "execution_count": 471,
   "metadata": {},
   "outputs": [
    {
     "data": {
      "text/plain": [
       "HARRASSMENT 2                     16269\n",
       "PETIT LARCENY                     15446\n",
       "ASSAULT 3 & RELATED OFFENSES      14385\n",
       "CRIMINAL MISCHIEF & RELATED OF    10690\n",
       "GRAND LARCENY                      6449\n",
       "FELONY ASSAULT                     5861\n",
       "DANGEROUS DRUGS                    5269\n",
       "OFF. AGNST PUB ORD SENSBLTY &      4556\n",
       "ROBBERY                            3215\n",
       "OFFENSES AGAINST PUBLIC ADMINI     2615\n",
       "Name: OFNS_DESC, dtype: int64"
      ]
     },
     "execution_count": 471,
     "metadata": {},
     "output_type": "execute_result"
    }
   ],
   "source": [
    "nypd[nypd['BORO_NM'] == 'BRONX'].OFNS_DESC.value_counts(dropna=False).head(10)"
   ]
  },
  {
   "cell_type": "code",
   "execution_count": 472,
   "metadata": {},
   "outputs": [
    {
     "data": {
      "text/plain": [
       "PETIT LARCENY                     24422\n",
       "HARRASSMENT 2                     20864\n",
       "ASSAULT 3 & RELATED OFFENSES      15066\n",
       "CRIMINAL MISCHIEF & RELATED OF    14612\n",
       "GRAND LARCENY                     11535\n",
       "OFF. AGNST PUB ORD SENSBLTY &      6401\n",
       "FELONY ASSAULT                     6197\n",
       "MISCELLANEOUS PENAL LAW            5235\n",
       "DANGEROUS DRUGS                    4617\n",
       "ROBBERY                            4146\n",
       "Name: OFNS_DESC, dtype: int64"
      ]
     },
     "execution_count": 472,
     "metadata": {},
     "output_type": "execute_result"
    }
   ],
   "source": [
    "nypd[nypd['BORO_NM'] == 'BROOKLYN'].OFNS_DESC.value_counts(dropna=False).head(10)"
   ]
  },
  {
   "cell_type": "code",
   "execution_count": 473,
   "metadata": {},
   "outputs": [
    {
     "data": {
      "text/plain": [
       "PETIT LARCENY                     27754\n",
       "GRAND LARCENY                     16802\n",
       "HARRASSMENT 2                     14474\n",
       "ASSAULT 3 & RELATED OFFENSES      10983\n",
       "CRIMINAL MISCHIEF & RELATED OF     9641\n",
       "OFF. AGNST PUB ORD SENSBLTY &      4796\n",
       "DANGEROUS DRUGS                    3818\n",
       "FELONY ASSAULT                     3794\n",
       "ROBBERY                            2718\n",
       "BURGLARY                           2601\n",
       "Name: OFNS_DESC, dtype: int64"
      ]
     },
     "execution_count": 473,
     "metadata": {},
     "output_type": "execute_result"
    }
   ],
   "source": [
    "nypd[nypd['BORO_NM'] == 'MANHATTAN'].OFNS_DESC.value_counts(dropna=False).head(10)"
   ]
  },
  {
   "cell_type": "code",
   "execution_count": 474,
   "metadata": {},
   "outputs": [
    {
     "data": {
      "text/plain": [
       "PETIT LARCENY                     16062\n",
       "HARRASSMENT 2                     14474\n",
       "ASSAULT 3 & RELATED OFFENSES      10650\n",
       "CRIMINAL MISCHIEF & RELATED OF    10146\n",
       "GRAND LARCENY                      8238\n",
       "OFF. AGNST PUB ORD SENSBLTY &      3929\n",
       "FELONY ASSAULT                     3865\n",
       "MISCELLANEOUS PENAL LAW            3435\n",
       "ROBBERY                            2531\n",
       "BURGLARY                           2485\n",
       "Name: OFNS_DESC, dtype: int64"
      ]
     },
     "execution_count": 474,
     "metadata": {},
     "output_type": "execute_result"
    }
   ],
   "source": [
    "nypd[nypd['BORO_NM'] == 'QUEENS'].OFNS_DESC.value_counts(dropna=False).head(10)"
   ]
  },
  {
   "cell_type": "code",
   "execution_count": 475,
   "metadata": {},
   "outputs": [
    {
     "data": {
      "text/plain": [
       "HARRASSMENT 2                     4546\n",
       "PETIT LARCENY                     3379\n",
       "CRIMINAL MISCHIEF & RELATED OF    2538\n",
       "ASSAULT 3 & RELATED OFFENSES      2238\n",
       "OFF. AGNST PUB ORD SENSBLTY &     1193\n",
       "GRAND LARCENY                     1188\n",
       "MISCELLANEOUS PENAL LAW            758\n",
       "INTOXICATED & IMPAIRED DRIVING     739\n",
       "FELONY ASSAULT                     596\n",
       "DANGEROUS DRUGS                    472\n",
       "Name: OFNS_DESC, dtype: int64"
      ]
     },
     "execution_count": 475,
     "metadata": {},
     "output_type": "execute_result"
    }
   ],
   "source": [
    "nypd[nypd['BORO_NM'] == 'STATEN ISLAND'].OFNS_DESC.value_counts(dropna=False).head(10)"
   ]
  },
  {
   "cell_type": "code",
   "execution_count": 476,
   "metadata": {},
   "outputs": [
    {
     "data": {
      "text/plain": [
       "MURDER & NON-NEGL. MANSLAUGHTER    308\n",
       "GRAND LARCENY                        2\n",
       "ROBBERY                              1\n",
       "ASSAULT 3 & RELATED OFFENSES         1\n",
       "Name: OFNS_DESC, dtype: int64"
      ]
     },
     "execution_count": 476,
     "metadata": {},
     "output_type": "execute_result"
    }
   ],
   "source": [
    "nypd[nypd['BORO_NM'] == 'UNKNOWN'].OFNS_DESC.value_counts(dropna=False).head(10)"
   ]
  },
  {
   "cell_type": "code",
   "execution_count": 477,
   "metadata": {},
   "outputs": [
    {
     "data": {
      "image/png": "[encoded data removed]",
      "text/plain": [
       "<Figure size 648x576 with 1 Axes>"
      ]
     },
     "metadata": {},
     "output_type": "display_data"
    }
   ],
   "source": [
    "nypd.groupby(['BORO_NM']).count().plot(kind='pie', y='CMPLNT_NUM', autopct='%1.1f%%');"
   ]
  },
  {
   "cell_type": "markdown",
   "metadata": {},
   "source": [
    "**Refer to Excel sheet to see how the top 5 complaints are similar/different amongst the boroughs. Hint: Pretty similar!. Add in a conclusion/insight here**"
   ]
  },
  {
   "cell_type": "markdown",
   "metadata": {},
   "source": [
    "**Creating a table of the boroughs with volume of complaints and population to calculate per capita complaint volume**"
   ]
  },
  {
   "cell_type": "code",
   "execution_count": 478,
   "metadata": {},
   "outputs": [],
   "source": [
    "boro_cmplnt = pd.DataFrame(nypd[nypd['BORO_NM'] != 'UNKNOWN'].BORO_NM.value_counts().sort_index())\n",
    "boro_cmplnt\n",
    "boro_cmplnt.rename(columns = {'BORO_NM': 'VOL_CMPLNTS'}, inplace=True)"
   ]
  },
  {
   "cell_type": "code",
   "execution_count": 479,
   "metadata": {},
   "outputs": [],
   "source": [
    "boro_cmplnt.at['BRONX', 'POPULATION'] = 1418207\n",
    "boro_cmplnt.at['BROOKLYN', 'POPULATION'] = 2559903\n",
    "boro_cmplnt.at['MANHATTAN', 'POPULATION'] = 1628706\n",
    "boro_cmplnt.at['QUEENS', 'POPULATION'] = 2253858\n",
    "boro_cmplnt.at['STATEN ISLAND', 'POPULATION'] = 476143\n",
    "boro_cmplnt['POPULATION'] = boro_cmplnt['POPULATION'].astype(int)"
   ]
  },
  {
   "cell_type": "code",
   "execution_count": 480,
   "metadata": {},
   "outputs": [
    {
     "data": {
      "text/html": [
       "<div>\n",
       "<style scoped>\n",
       "    .dataframe tbody tr th:only-of-type {\n",
       "        vertical-align: middle;\n",
       "    }\n",
       "\n",
       "    .dataframe tbody tr th {\n",
       "        vertical-align: top;\n",
       "    }\n",
       "\n",
       "    .dataframe thead th {\n",
       "        text-align: right;\n",
       "    }\n",
       "</style>\n",
       "<table border=\"1\" class=\"dataframe\">\n",
       "  <thead>\n",
       "    <tr style=\"text-align: right;\">\n",
       "      <th></th>\n",
       "      <th>VOL_CMPLNTS</th>\n",
       "      <th>POPULATION</th>\n",
       "    </tr>\n",
       "  </thead>\n",
       "  <tbody>\n",
       "    <tr>\n",
       "      <td>BRONX</td>\n",
       "      <td>101314</td>\n",
       "      <td>1418207</td>\n",
       "    </tr>\n",
       "    <tr>\n",
       "      <td>BROOKLYN</td>\n",
       "      <td>137422</td>\n",
       "      <td>2559903</td>\n",
       "    </tr>\n",
       "    <tr>\n",
       "      <td>MANHATTAN</td>\n",
       "      <td>115188</td>\n",
       "      <td>1628706</td>\n",
       "    </tr>\n",
       "    <tr>\n",
       "      <td>QUEENS</td>\n",
       "      <td>91055</td>\n",
       "      <td>2253858</td>\n",
       "    </tr>\n",
       "    <tr>\n",
       "      <td>STATEN ISLAND</td>\n",
       "      <td>20990</td>\n",
       "      <td>476143</td>\n",
       "    </tr>\n",
       "  </tbody>\n",
       "</table>\n",
       "</div>"
      ],
      "text/plain": [
       "               VOL_CMPLNTS  POPULATION\n",
       "BRONX               101314     1418207\n",
       "BROOKLYN            137422     2559903\n",
       "MANHATTAN           115188     1628706\n",
       "QUEENS               91055     2253858\n",
       "STATEN ISLAND        20990      476143"
      ]
     },
     "execution_count": 480,
     "metadata": {},
     "output_type": "execute_result"
    }
   ],
   "source": [
    "boro_cmplnt"
   ]
  },
  {
   "cell_type": "code",
   "execution_count": 481,
   "metadata": {},
   "outputs": [
    {
     "data": {
      "text/plain": [
       "VOL_CMPLNTS    int64\n",
       "POPULATION     int64\n",
       "dtype: object"
      ]
     },
     "execution_count": 481,
     "metadata": {},
     "output_type": "execute_result"
    }
   ],
   "source": [
    "boro_cmplnt.dtypes"
   ]
  },
  {
   "cell_type": "code",
   "execution_count": 482,
   "metadata": {},
   "outputs": [],
   "source": [
    "boro_cmplnt['CMPLNTS_PER_CAPITA'] = boro_cmplnt['VOL_CMPLNTS'] / boro_cmplnt['POPULATION']\n",
    "boro_cmplnt = boro_cmplnt.sort_values(by='CMPLNTS_PER_CAPITA', ascending=False)"
   ]
  },
  {
   "cell_type": "code",
   "execution_count": 483,
   "metadata": {},
   "outputs": [
    {
     "data": {
      "text/html": [
       "<div>\n",
       "<style scoped>\n",
       "    .dataframe tbody tr th:only-of-type {\n",
       "        vertical-align: middle;\n",
       "    }\n",
       "\n",
       "    .dataframe tbody tr th {\n",
       "        vertical-align: top;\n",
       "    }\n",
       "\n",
       "    .dataframe thead th {\n",
       "        text-align: right;\n",
       "    }\n",
       "</style>\n",
       "<table border=\"1\" class=\"dataframe\">\n",
       "  <thead>\n",
       "    <tr style=\"text-align: right;\">\n",
       "      <th></th>\n",
       "      <th>VOL_CMPLNTS</th>\n",
       "      <th>POPULATION</th>\n",
       "      <th>CMPLNTS_PER_CAPITA</th>\n",
       "    </tr>\n",
       "  </thead>\n",
       "  <tbody>\n",
       "    <tr>\n",
       "      <td>BRONX</td>\n",
       "      <td>101314</td>\n",
       "      <td>1418207</td>\n",
       "      <td>0.071438</td>\n",
       "    </tr>\n",
       "    <tr>\n",
       "      <td>MANHATTAN</td>\n",
       "      <td>115188</td>\n",
       "      <td>1628706</td>\n",
       "      <td>0.070724</td>\n",
       "    </tr>\n",
       "    <tr>\n",
       "      <td>BROOKLYN</td>\n",
       "      <td>137422</td>\n",
       "      <td>2559903</td>\n",
       "      <td>0.053683</td>\n",
       "    </tr>\n",
       "    <tr>\n",
       "      <td>STATEN ISLAND</td>\n",
       "      <td>20990</td>\n",
       "      <td>476143</td>\n",
       "      <td>0.044083</td>\n",
       "    </tr>\n",
       "    <tr>\n",
       "      <td>QUEENS</td>\n",
       "      <td>91055</td>\n",
       "      <td>2253858</td>\n",
       "      <td>0.040400</td>\n",
       "    </tr>\n",
       "  </tbody>\n",
       "</table>\n",
       "</div>"
      ],
      "text/plain": [
       "               VOL_CMPLNTS  POPULATION  CMPLNTS_PER_CAPITA\n",
       "BRONX               101314     1418207            0.071438\n",
       "MANHATTAN           115188     1628706            0.070724\n",
       "BROOKLYN            137422     2559903            0.053683\n",
       "STATEN ISLAND        20990      476143            0.044083\n",
       "QUEENS               91055     2253858            0.040400"
      ]
     },
     "execution_count": 483,
     "metadata": {},
     "output_type": "execute_result"
    }
   ],
   "source": [
    "boro_cmplnt"
   ]
  },
  {
   "cell_type": "code",
   "execution_count": 484,
   "metadata": {},
   "outputs": [
    {
     "data": {
      "text/plain": [
       "VOL_CMPLNTS             int64\n",
       "POPULATION              int64\n",
       "CMPLNTS_PER_CAPITA    float64\n",
       "dtype: object"
      ]
     },
     "execution_count": 484,
     "metadata": {},
     "output_type": "execute_result"
    }
   ],
   "source": [
    "boro_cmplnt.dtypes"
   ]
  },
  {
   "cell_type": "code",
   "execution_count": 485,
   "metadata": {},
   "outputs": [
    {
     "data": {
      "image/png": "[encoded data removed]",
      "text/plain": [
       "<Figure size 648x576 with 1 Axes>"
      ]
     },
     "metadata": {
      "needs_background": "light"
     },
     "output_type": "display_data"
    }
   ],
   "source": [
    "boro_cmplnt.plot(kind='bar', y='CMPLNTS_PER_CAPITA')\n",
    "plt.ylabel('Complaints per Capita')\n",
    "plt.xlabel('Borough')\n",
    "plt.title('Complaints per Capita by Borough');"
   ]
  },
  {
   "cell_type": "code",
   "execution_count": 486,
   "metadata": {},
   "outputs": [
    {
     "data": {
      "image/png": "[encoded data removed]",
      "text/plain": [
       "<Figure size 648x576 with 6 Axes>"
      ]
     },
     "metadata": {
      "needs_background": "light"
     },
     "output_type": "display_data"
    }
   ],
   "source": [
    "nypd.hist();"
   ]
  },
  {
   "cell_type": "markdown",
   "metadata": {},
   "source": [
    "## Cleaning and Data Prep needed\n",
    "\n",
    "* Set new index (TBD) -- **Not needed**\n",
    "* Handle nulls in these fields\n",
    " * `OFNS_DESC` -- **Done. Dropped rows where `OFNS_DESC` is null**\n",
    " * `BORO_NM` -- **Done. Changed all nulls to UNKNOWN**\n",
    " * `PREM_TYPE_DESC` -- **Ignoring nulls. We won't use this for our analysis**\n",
    " * `SUSP_AGE_GROUP` -- **Done. Changed all nulls to U**\n",
    " * `SUSP_RACE` -- **Done. Changed all nulls to UNKNOWN**\n",
    " * `SUSP_SEX` -- **Done. Changed all nulls to UNKNOWN**\n",
    "* Handle invalid data for `SUSP_AGE_GROUP` and `VIC_AGE_GROUP` -- **Done. Changed all invalid ages to U**\n",
    "* Convert these fields to Timestamp\n",
    " * `CMPLNT_FR_DT` -- **Not needed since I combined CMPLNT_FR_DT and CMPLNT_FR__TM into one field CMPLNT_FR, which I then converted into Timestamp**\n",
    " * `CMPLNT_FR_TM` -- **Not needed since I combined CMPLNT_FR_DT and CMPLNT_FR__TM into one field CMPLNT_FR, which I then converted into Timestamp**\n",
    "* Remove duplicate rows -- **First pass completed. Dirty data may still exist, however**\n",
    "\n",
    "\n",
    "\n",
    "Optional\n",
    "* Combine `CMPLNT_FR_DT` and `CMPLNT_FR_TM` into one field -- **Done. Created new field CMPLNT_FR**\n",
    "* Create month, week, day of week columns for `CMPLNT_FR_DT` -- **Done**\n",
    "* Create hour column for `CMPLNT_FR_TM` -- **Done**\n"
   ]
  },
  {
   "cell_type": "markdown",
   "metadata": {},
   "source": [
    "## Framing the problem\n",
    "\n",
    "* Start *framing* the problem -- This is Step 1 of the Data Science Workflow\n",
    "\n",
    " * Make a list of **what you know**\n",
    " * Make a list of **what you don't know**\n",
    " * Make a list of possible problem statements\n",
    "   * Try to come up with *5-10* of them if possible\n",
    "   * You will decide on which ones to explore later, but for now brainstorm as much as you can.\n",
    "   \n",
    "\n",
    "#### What I know\n",
    "* All complaints are from 2018\n",
    "* Complaints are timestamped and we have the level of detail down to month, day, year, hour, minute\n",
    "* `OFNS_DESC` is an important field that tells us what each complaint was\n",
    "* Each offense occurs within a borough of NYC, defined as `BORO_NM`\n",
    "* Complaints are categorized under `LAW_CAT_CD` as either a felony, misdemeanor, or violation\n",
    "* Different jurisdictions are responsible for handling each complaint. The police department is not responsible for all complaints\n",
    "* Victim and suspect demo (age, sex, race) may be available for each offense\n",
    "\n",
    "\n",
    "\n",
    "#### What I don't know\n",
    "* The most popular or highest volume of offenses overall in 2018\n",
    "* Seasonal trends, if any, in offenses\n",
    "* Other time-based trends in offenses, down to month, day of the week, and hour of the day\n",
    "* If some boroughs in New York City have more complaints than other boroughs\n",
    "* If certain types of offenses are more prevalent in some boroughs versus others\n",
    "* Which offenses are deemed a felony vs. misdemeanor vs. violation\n",
    "* What complaints is each jurisdiction primarily responsible for handling\n",
    "* If there’s a relationship between victim demo and suspect demo\n",
    "\n",
    "\n",
    "#### Possible problem statements\n",
    "1. More crimes occur during the warmer months of the year\n",
    "- Criminal activity is more common during times of the day when there are more people around or active, i.e. commute times, meal times. Criminal activity is also more likely to occur when suspects believe they won’t be seen or caught, i.e. late night\n",
    "- Racial bias may exist, with victims having a tendency to file complaints against specific races\n",
    "- Criminal activity in NYC aligns with known correlations of [criminal behavior](https://en.wikipedia.org/wiki/Statistical_correlations_of_criminal_behaviour#Gender_and_biology) **\n",
    "- Each borough of NYC has roughly the same volume of complaints as other boroughs, when comparing per capita\n",
    "\n",
    "** Crime occurs most frequently during the second and third decades of life. Males commit more crime overall and more violent crime than females. They commit more property crime except shoplifting, which is about equally distributed between the genders.\n"
   ]
  }
 ],
 "metadata": {
  "kernelspec": {
   "display_name": "Python 3",
   "language": "python",
   "name": "python3"
  },
  "language_info": {
   "codemirror_mode": {
    "name": "ipython",
    "version": 3
   },
   "file_extension": ".py",
   "mimetype": "text/x-python",
   "name": "python",
   "nbconvert_exporter": "python",
   "pygments_lexer": "ipython3",
   "version": "3.7.4"
  }
 },
 "nbformat": 4,
 "nbformat_minor": 2
}
