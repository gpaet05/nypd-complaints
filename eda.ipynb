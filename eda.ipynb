{
 "cells": [
  {
   "cell_type": "markdown",
   "metadata": {},
   "source": [
    "# Final Project Exploratory Data Analysis"
   ]
  },
  {
   "cell_type": "markdown",
   "metadata": {},
   "source": [
    "#### Import pandas, matplotlib"
   ]
  },
  {
   "cell_type": "code",
   "execution_count": 101,
   "metadata": {},
   "outputs": [],
   "source": [
    "import pandas as pd\n",
    "import matplotlib.pyplot as plt"
   ]
  },
  {
   "cell_type": "code",
   "execution_count": 102,
   "metadata": {},
   "outputs": [],
   "source": [
    "plt.rcParams['figure.figsize'] = (9, 8)\n",
    "plt.rcParams['font.size'] = 12"
   ]
  },
  {
   "cell_type": "code",
   "execution_count": 103,
   "metadata": {},
   "outputs": [
    {
     "name": "stdout",
     "output_type": "stream",
     "text": [
      "NYPD_Complaint_Data_2018.csv\r\n"
     ]
    }
   ],
   "source": [
    "ls data"
   ]
  },
  {
   "cell_type": "markdown",
   "metadata": {},
   "source": [
    "Original source file here https://data.cityofnewyork.us/Public-Safety/NYPD-Complaint-Data-Historic/qgea-i56i  I dropped several columns and only filtered down to records from 2018, in the interest of conserving CSV filesize."
   ]
  },
  {
   "cell_type": "markdown",
   "metadata": {},
   "source": [
    "#### Read in CSV file"
   ]
  },
  {
   "cell_type": "code",
   "execution_count": 104,
   "metadata": {},
   "outputs": [],
   "source": [
    "nypd = pd.read_csv('data/NYPD_Complaint_Data_2018.csv')"
   ]
  },
  {
   "cell_type": "markdown",
   "metadata": {},
   "source": [
    "Reference data dictionary [here](https://git.generalassemb.ly/gracepaet/nypd-complaints)\n",
    "\n",
    "*Change this to a relative reference to a repo file*"
   ]
  },
  {
   "cell_type": "markdown",
   "metadata": {},
   "source": [
    "Display all columns"
   ]
  },
  {
   "cell_type": "code",
   "execution_count": 105,
   "metadata": {},
   "outputs": [],
   "source": [
    "pd.set_option('display.max_columns', None)"
   ]
  },
  {
   "cell_type": "code",
   "execution_count": 106,
   "metadata": {},
   "outputs": [
    {
     "data": {
      "text/plain": [
       "(466295, 15)"
      ]
     },
     "execution_count": 106,
     "metadata": {},
     "output_type": "execute_result"
    }
   ],
   "source": [
    "nypd.shape"
   ]
  },
  {
   "cell_type": "code",
   "execution_count": 107,
   "metadata": {},
   "outputs": [
    {
     "data": {
      "text/plain": [
       "RangeIndex(start=0, stop=466295, step=1)"
      ]
     },
     "execution_count": 107,
     "metadata": {},
     "output_type": "execute_result"
    }
   ],
   "source": [
    "nypd.index"
   ]
  },
  {
   "cell_type": "code",
   "execution_count": 108,
   "metadata": {},
   "outputs": [
    {
     "data": {
      "text/html": [
       "<div>\n",
       "<style scoped>\n",
       "    .dataframe tbody tr th:only-of-type {\n",
       "        vertical-align: middle;\n",
       "    }\n",
       "\n",
       "    .dataframe tbody tr th {\n",
       "        vertical-align: top;\n",
       "    }\n",
       "\n",
       "    .dataframe thead th {\n",
       "        text-align: right;\n",
       "    }\n",
       "</style>\n",
       "<table border=\"1\" class=\"dataframe\">\n",
       "  <thead>\n",
       "    <tr style=\"text-align: right;\">\n",
       "      <th></th>\n",
       "      <th>CMPLNT_NUM</th>\n",
       "      <th>CMPLNT_FR_DT</th>\n",
       "      <th>CMPLNT_FR_TM</th>\n",
       "      <th>OFNS_DESC</th>\n",
       "      <th>LAW_CAT_CD</th>\n",
       "      <th>BORO_NM</th>\n",
       "      <th>PREM_TYP_DESC</th>\n",
       "      <th>JURIS_DESC</th>\n",
       "      <th>SUSP_AGE_GROUP</th>\n",
       "      <th>SUSP_RACE</th>\n",
       "      <th>SUSP_SEX</th>\n",
       "      <th>VIC_AGE_GROUP</th>\n",
       "      <th>VIC_RACE</th>\n",
       "      <th>VIC_SEX</th>\n",
       "      <th>CMPLNT_FR_DT_YEAR</th>\n",
       "    </tr>\n",
       "  </thead>\n",
       "  <tbody>\n",
       "    <tr>\n",
       "      <td>0</td>\n",
       "      <td>774621657</td>\n",
       "      <td>2018-10-08</td>\n",
       "      <td>12:30:00</td>\n",
       "      <td>ROBBERY</td>\n",
       "      <td>FELONY</td>\n",
       "      <td>BRONX</td>\n",
       "      <td>BUS STOP</td>\n",
       "      <td>N.Y. POLICE DEPT</td>\n",
       "      <td>UNKNOWN</td>\n",
       "      <td>BLACK</td>\n",
       "      <td>M</td>\n",
       "      <td>&lt;18</td>\n",
       "      <td>BLACK</td>\n",
       "      <td>M</td>\n",
       "      <td>2018</td>\n",
       "    </tr>\n",
       "    <tr>\n",
       "      <td>1</td>\n",
       "      <td>232548146</td>\n",
       "      <td>2018-08-24</td>\n",
       "      <td>11:00:00</td>\n",
       "      <td>PETIT LARCENY</td>\n",
       "      <td>MISDEMEANOR</td>\n",
       "      <td>BROOKLYN</td>\n",
       "      <td>RESIDENCE-HOUSE</td>\n",
       "      <td>N.Y. POLICE DEPT</td>\n",
       "      <td>NaN</td>\n",
       "      <td>NaN</td>\n",
       "      <td>NaN</td>\n",
       "      <td>45-64</td>\n",
       "      <td>WHITE</td>\n",
       "      <td>F</td>\n",
       "      <td>2018</td>\n",
       "    </tr>\n",
       "    <tr>\n",
       "      <td>2</td>\n",
       "      <td>452701517</td>\n",
       "      <td>2018-03-30</td>\n",
       "      <td>16:55:00</td>\n",
       "      <td>DANGEROUS WEAPONS</td>\n",
       "      <td>FELONY</td>\n",
       "      <td>QUEENS</td>\n",
       "      <td>STREET</td>\n",
       "      <td>N.Y. POLICE DEPT</td>\n",
       "      <td>NaN</td>\n",
       "      <td>NaN</td>\n",
       "      <td>NaN</td>\n",
       "      <td>UNKNOWN</td>\n",
       "      <td>UNKNOWN</td>\n",
       "      <td>E</td>\n",
       "      <td>2018</td>\n",
       "    </tr>\n",
       "    <tr>\n",
       "      <td>3</td>\n",
       "      <td>620357753</td>\n",
       "      <td>2018-10-02</td>\n",
       "      <td>16:00:00</td>\n",
       "      <td>PETIT LARCENY</td>\n",
       "      <td>MISDEMEANOR</td>\n",
       "      <td>QUEENS</td>\n",
       "      <td>STREET</td>\n",
       "      <td>N.Y. POLICE DEPT</td>\n",
       "      <td>NaN</td>\n",
       "      <td>NaN</td>\n",
       "      <td>NaN</td>\n",
       "      <td>65+</td>\n",
       "      <td>BLACK</td>\n",
       "      <td>M</td>\n",
       "      <td>2018</td>\n",
       "    </tr>\n",
       "    <tr>\n",
       "      <td>4</td>\n",
       "      <td>110535568</td>\n",
       "      <td>2018-08-14</td>\n",
       "      <td>14:20:00</td>\n",
       "      <td>MURDER &amp; NON-NEGL. MANSLAUGHTER</td>\n",
       "      <td>FELONY</td>\n",
       "      <td>NaN</td>\n",
       "      <td>NaN</td>\n",
       "      <td>N.Y. POLICE DEPT</td>\n",
       "      <td>25-44</td>\n",
       "      <td>BLACK</td>\n",
       "      <td>M</td>\n",
       "      <td>45-64</td>\n",
       "      <td>BLACK</td>\n",
       "      <td>M</td>\n",
       "      <td>2018</td>\n",
       "    </tr>\n",
       "  </tbody>\n",
       "</table>\n",
       "</div>"
      ],
      "text/plain": [
       "   CMPLNT_NUM CMPLNT_FR_DT CMPLNT_FR_TM                        OFNS_DESC  \\\n",
       "0   774621657   2018-10-08     12:30:00                          ROBBERY   \n",
       "1   232548146   2018-08-24     11:00:00                    PETIT LARCENY   \n",
       "2   452701517   2018-03-30     16:55:00                DANGEROUS WEAPONS   \n",
       "3   620357753   2018-10-02     16:00:00                    PETIT LARCENY   \n",
       "4   110535568   2018-08-14     14:20:00  MURDER & NON-NEGL. MANSLAUGHTER   \n",
       "\n",
       "    LAW_CAT_CD   BORO_NM    PREM_TYP_DESC        JURIS_DESC SUSP_AGE_GROUP  \\\n",
       "0       FELONY     BRONX         BUS STOP  N.Y. POLICE DEPT        UNKNOWN   \n",
       "1  MISDEMEANOR  BROOKLYN  RESIDENCE-HOUSE  N.Y. POLICE DEPT            NaN   \n",
       "2       FELONY    QUEENS           STREET  N.Y. POLICE DEPT            NaN   \n",
       "3  MISDEMEANOR    QUEENS           STREET  N.Y. POLICE DEPT            NaN   \n",
       "4       FELONY       NaN              NaN  N.Y. POLICE DEPT          25-44   \n",
       "\n",
       "  SUSP_RACE SUSP_SEX VIC_AGE_GROUP VIC_RACE VIC_SEX  CMPLNT_FR_DT_YEAR  \n",
       "0     BLACK        M           <18    BLACK       M               2018  \n",
       "1       NaN      NaN         45-64    WHITE       F               2018  \n",
       "2       NaN      NaN       UNKNOWN  UNKNOWN       E               2018  \n",
       "3       NaN      NaN           65+    BLACK       M               2018  \n",
       "4     BLACK        M         45-64    BLACK       M               2018  "
      ]
     },
     "execution_count": 108,
     "metadata": {},
     "output_type": "execute_result"
    }
   ],
   "source": [
    "nypd.head()"
   ]
  },
  {
   "cell_type": "code",
   "execution_count": 109,
   "metadata": {},
   "outputs": [
    {
     "data": {
      "text/plain": [
       "Index(['CMPLNT_NUM', 'CMPLNT_FR_DT', 'CMPLNT_FR_TM', 'OFNS_DESC', 'LAW_CAT_CD',\n",
       "       'BORO_NM', 'PREM_TYP_DESC', 'JURIS_DESC', 'SUSP_AGE_GROUP', 'SUSP_RACE',\n",
       "       'SUSP_SEX', 'VIC_AGE_GROUP', 'VIC_RACE', 'VIC_SEX',\n",
       "       'CMPLNT_FR_DT_YEAR'],\n",
       "      dtype='object')"
      ]
     },
     "execution_count": 109,
     "metadata": {},
     "output_type": "execute_result"
    }
   ],
   "source": [
    "nypd.columns"
   ]
  },
  {
   "cell_type": "code",
   "execution_count": 110,
   "metadata": {},
   "outputs": [
    {
     "data": {
      "text/plain": [
       "CMPLNT_NUM            int64\n",
       "CMPLNT_FR_DT         object\n",
       "CMPLNT_FR_TM         object\n",
       "OFNS_DESC            object\n",
       "LAW_CAT_CD           object\n",
       "BORO_NM              object\n",
       "PREM_TYP_DESC        object\n",
       "JURIS_DESC           object\n",
       "SUSP_AGE_GROUP       object\n",
       "SUSP_RACE            object\n",
       "SUSP_SEX             object\n",
       "VIC_AGE_GROUP        object\n",
       "VIC_RACE             object\n",
       "VIC_SEX              object\n",
       "CMPLNT_FR_DT_YEAR     int64\n",
       "dtype: object"
      ]
     },
     "execution_count": 110,
     "metadata": {},
     "output_type": "execute_result"
    }
   ],
   "source": [
    "nypd.dtypes"
   ]
  },
  {
   "cell_type": "markdown",
   "metadata": {},
   "source": [
    "#### Confirm all records are from 2018"
   ]
  },
  {
   "cell_type": "code",
   "execution_count": 111,
   "metadata": {},
   "outputs": [
    {
     "data": {
      "text/plain": [
       "2018    466295\n",
       "Name: CMPLNT_FR_DT_YEAR, dtype: int64"
      ]
     },
     "execution_count": 111,
     "metadata": {},
     "output_type": "execute_result"
    }
   ],
   "source": [
    "nypd.CMPLNT_FR_DT_YEAR.value_counts(dropna=False)"
   ]
  },
  {
   "cell_type": "markdown",
   "metadata": {},
   "source": [
    "#### Drop CMPLNT_FR_DT_YEAR from dataframe"
   ]
  },
  {
   "cell_type": "code",
   "execution_count": 112,
   "metadata": {},
   "outputs": [],
   "source": [
    "nypd.drop('CMPLNT_FR_DT_YEAR', inplace=True, axis=1)"
   ]
  },
  {
   "cell_type": "markdown",
   "metadata": {},
   "source": [
    "## Exploring the dataframe"
   ]
  },
  {
   "cell_type": "code",
   "execution_count": 113,
   "metadata": {},
   "outputs": [
    {
     "data": {
      "text/plain": [
       "Index(['CMPLNT_NUM', 'CMPLNT_FR_DT', 'CMPLNT_FR_TM', 'OFNS_DESC', 'LAW_CAT_CD',\n",
       "       'BORO_NM', 'PREM_TYP_DESC', 'JURIS_DESC', 'SUSP_AGE_GROUP', 'SUSP_RACE',\n",
       "       'SUSP_SEX', 'VIC_AGE_GROUP', 'VIC_RACE', 'VIC_SEX'],\n",
       "      dtype='object')"
      ]
     },
     "execution_count": 113,
     "metadata": {},
     "output_type": "execute_result"
    }
   ],
   "source": [
    "nypd.columns"
   ]
  },
  {
   "cell_type": "code",
   "execution_count": 114,
   "metadata": {},
   "outputs": [
    {
     "data": {
      "text/plain": [
       "CMPLNT_NUM         int64\n",
       "CMPLNT_FR_DT      object\n",
       "CMPLNT_FR_TM      object\n",
       "OFNS_DESC         object\n",
       "LAW_CAT_CD        object\n",
       "BORO_NM           object\n",
       "PREM_TYP_DESC     object\n",
       "JURIS_DESC        object\n",
       "SUSP_AGE_GROUP    object\n",
       "SUSP_RACE         object\n",
       "SUSP_SEX          object\n",
       "VIC_AGE_GROUP     object\n",
       "VIC_RACE          object\n",
       "VIC_SEX           object\n",
       "dtype: object"
      ]
     },
     "execution_count": 114,
     "metadata": {},
     "output_type": "execute_result"
    }
   ],
   "source": [
    "nypd.dtypes"
   ]
  },
  {
   "cell_type": "code",
   "execution_count": 115,
   "metadata": {},
   "outputs": [
    {
     "data": {
      "text/plain": [
       "<bound method NDFrame.describe of         CMPLNT_NUM CMPLNT_FR_DT CMPLNT_FR_TM                        OFNS_DESC  \\\n",
       "0        774621657   2018-10-08     12:30:00                          ROBBERY   \n",
       "1        232548146   2018-08-24     11:00:00                    PETIT LARCENY   \n",
       "2        452701517   2018-03-30     16:55:00                DANGEROUS WEAPONS   \n",
       "3        620357753   2018-10-02     16:00:00                    PETIT LARCENY   \n",
       "4        110535568   2018-08-14     14:20:00  MURDER & NON-NEGL. MANSLAUGHTER   \n",
       "...            ...          ...          ...                              ...   \n",
       "466290   341791124   2018-12-11     20:00:00                    PETIT LARCENY   \n",
       "466291   791474790   2018-11-06     00:00:00                           FRAUDS   \n",
       "466292   584053940   2018-12-31     18:00:00   CRIMINAL MISCHIEF & RELATED OF   \n",
       "466293   495559106   2018-12-31     13:20:00          MISCELLANEOUS PENAL LAW   \n",
       "466294   782076755   2018-12-22     16:06:00                    HARRASSMENT 2   \n",
       "\n",
       "         LAW_CAT_CD   BORO_NM               PREM_TYP_DESC  \\\n",
       "0            FELONY     BRONX                    BUS STOP   \n",
       "1       MISDEMEANOR  BROOKLYN             RESIDENCE-HOUSE   \n",
       "2            FELONY    QUEENS                      STREET   \n",
       "3       MISDEMEANOR    QUEENS                      STREET   \n",
       "4            FELONY       NaN                         NaN   \n",
       "...             ...       ...                         ...   \n",
       "466290  MISDEMEANOR     BRONX  RESIDENCE - PUBLIC HOUSING   \n",
       "466291  MISDEMEANOR     BRONX  RESIDENCE - PUBLIC HOUSING   \n",
       "466292  MISDEMEANOR     BRONX  RESIDENCE - PUBLIC HOUSING   \n",
       "466293       FELONY     BRONX  RESIDENCE - PUBLIC HOUSING   \n",
       "466294    VIOLATION     BRONX  RESIDENCE - PUBLIC HOUSING   \n",
       "\n",
       "                 JURIS_DESC SUSP_AGE_GROUP       SUSP_RACE SUSP_SEX  \\\n",
       "0          N.Y. POLICE DEPT        UNKNOWN           BLACK        M   \n",
       "1          N.Y. POLICE DEPT            NaN             NaN      NaN   \n",
       "2          N.Y. POLICE DEPT            NaN             NaN      NaN   \n",
       "3          N.Y. POLICE DEPT            NaN             NaN      NaN   \n",
       "4          N.Y. POLICE DEPT          25-44           BLACK        M   \n",
       "...                     ...            ...             ...      ...   \n",
       "466290  N.Y. HOUSING POLICE            <18  BLACK HISPANIC        M   \n",
       "466291     N.Y. POLICE DEPT            NaN             NaN      NaN   \n",
       "466292  N.Y. HOUSING POLICE            NaN             NaN      NaN   \n",
       "466293  N.Y. HOUSING POLICE          25-44           BLACK        F   \n",
       "466294  N.Y. HOUSING POLICE          25-44  WHITE HISPANIC        M   \n",
       "\n",
       "       VIC_AGE_GROUP        VIC_RACE VIC_SEX  \n",
       "0                <18           BLACK       M  \n",
       "1              45-64           WHITE       F  \n",
       "2            UNKNOWN         UNKNOWN       E  \n",
       "3                65+           BLACK       M  \n",
       "4              45-64           BLACK       M  \n",
       "...              ...             ...     ...  \n",
       "466290         25-44  BLACK HISPANIC       F  \n",
       "466291           65+           BLACK       M  \n",
       "466292         45-64  BLACK HISPANIC       F  \n",
       "466293         25-44  BLACK HISPANIC       F  \n",
       "466294         18-24  WHITE HISPANIC       F  \n",
       "\n",
       "[466295 rows x 14 columns]>"
      ]
     },
     "execution_count": 115,
     "metadata": {},
     "output_type": "execute_result"
    }
   ],
   "source": [
    "nypd.describe"
   ]
  },
  {
   "cell_type": "code",
   "execution_count": 116,
   "metadata": {},
   "outputs": [
    {
     "data": {
      "text/plain": [
       "PETIT LARCENY                     87063\n",
       "HARRASSMENT 2                     70627\n",
       "ASSAULT 3 & RELATED OFFENSES      53323\n",
       "CRIMINAL MISCHIEF & RELATED OF    47627\n",
       "GRAND LARCENY                     44214\n",
       "                                  ...  \n",
       "NEW YORK CITY HEALTH CODE             3\n",
       "UNLAWFUL POSS. WEAP. ON SCHOOL        2\n",
       "DISRUPTION OF A RELIGIOUS SERV        1\n",
       "ABORTION                              1\n",
       "HOMICIDE-NEGLIGENT-VEHICLE            1\n",
       "Name: OFNS_DESC, Length: 61, dtype: int64"
      ]
     },
     "execution_count": 116,
     "metadata": {},
     "output_type": "execute_result"
    }
   ],
   "source": [
    "nypd.OFNS_DESC.value_counts(dropna=False)"
   ]
  },
  {
   "cell_type": "code",
   "execution_count": 117,
   "metadata": {},
   "outputs": [
    {
     "data": {
      "text/plain": [
       "MISDEMEANOR    252735\n",
       "FELONY         142209\n",
       "VIOLATION       71351\n",
       "Name: LAW_CAT_CD, dtype: int64"
      ]
     },
     "execution_count": 117,
     "metadata": {},
     "output_type": "execute_result"
    }
   ],
   "source": [
    "nypd.LAW_CAT_CD.value_counts(dropna=False)"
   ]
  },
  {
   "cell_type": "code",
   "execution_count": 118,
   "metadata": {},
   "outputs": [
    {
     "data": {
      "text/plain": [
       "N.Y. POLICE DEPT                413192\n",
       "N.Y. HOUSING POLICE              33506\n",
       "N.Y. TRANSIT POLICE              12343\n",
       "OTHER                             3122\n",
       "PORT AUTHORITY                    2014\n",
       "DEPT OF CORRECTIONS                943\n",
       "TRI-BORO BRDG TUNNL                275\n",
       "NYC PARKS                          266\n",
       "HEALTH & HOSP CORP                 239\n",
       "N.Y. STATE POLICE                  163\n",
       "METRO NORTH                         79\n",
       "N.Y. STATE PARKS                    41\n",
       "NEW YORK CITY SHERIFF OFFICE        33\n",
       "LONG ISLAND RAILRD                  29\n",
       "STATN IS RAPID TRANS                17\n",
       "U.S. PARK POLICE                    14\n",
       "AMTRACK                             10\n",
       "NYS DEPT TAX AND FINANCE             8\n",
       "CONRAIL                              1\n",
       "Name: JURIS_DESC, dtype: int64"
      ]
     },
     "execution_count": 118,
     "metadata": {},
     "output_type": "execute_result"
    }
   ],
   "source": [
    "nypd.JURIS_DESC.value_counts(dropna=False)"
   ]
  },
  {
   "cell_type": "code",
   "execution_count": 119,
   "metadata": {},
   "outputs": [
    {
     "data": {
      "text/plain": [
       "BROOKLYN         137426\n",
       "MANHATTAN        115195\n",
       "BRONX            101316\n",
       "QUEENS            91055\n",
       "STATEN ISLAND     20991\n",
       "NaN                 312\n",
       "Name: BORO_NM, dtype: int64"
      ]
     },
     "execution_count": 119,
     "metadata": {},
     "output_type": "execute_result"
    }
   ],
   "source": [
    "nypd.BORO_NM.value_counts(dropna=False)"
   ]
  },
  {
   "cell_type": "code",
   "execution_count": 120,
   "metadata": {},
   "outputs": [
    {
     "data": {
      "text/plain": [
       "STREET                        127944\n",
       "RESIDENCE - APT. HOUSE        104889\n",
       "RESIDENCE-HOUSE                43991\n",
       "RESIDENCE - PUBLIC HOUSING     33525\n",
       "CHAIN STORE                    15168\n",
       "                               ...  \n",
       "PHOTO/COPY                        44\n",
       "CEMETERY                          41\n",
       "LOAN COMPANY                      21\n",
       "TRAMWAY                           10\n",
       "HOMELESS SHELTER                   6\n",
       "Name: PREM_TYP_DESC, Length: 74, dtype: int64"
      ]
     },
     "execution_count": 120,
     "metadata": {},
     "output_type": "execute_result"
    }
   ],
   "source": [
    "nypd.PREM_TYP_DESC.value_counts(dropna=False)"
   ]
  },
  {
   "cell_type": "code",
   "execution_count": 121,
   "metadata": {},
   "outputs": [
    {
     "data": {
      "text/plain": [
       "M      212025\n",
       "NaN    119399\n",
       "U       69030\n",
       "F       65841\n",
       "Name: SUSP_SEX, dtype: int64"
      ]
     },
     "execution_count": 121,
     "metadata": {},
     "output_type": "execute_result"
    }
   ],
   "source": [
    "nypd.SUSP_SEX.value_counts(dropna=False)"
   ]
  },
  {
   "cell_type": "code",
   "execution_count": 122,
   "metadata": {},
   "outputs": [
    {
     "data": {
      "text/plain": [
       "F    185201\n",
       "M    160039\n",
       "D     65773\n",
       "E     55281\n",
       "U         1\n",
       "Name: VIC_SEX, dtype: int64"
      ]
     },
     "execution_count": 122,
     "metadata": {},
     "output_type": "execute_result"
    }
   ],
   "source": [
    "nypd.VIC_SEX.value_counts(dropna=False)"
   ]
  },
  {
   "cell_type": "code",
   "execution_count": 123,
   "metadata": {},
   "outputs": [
    {
     "data": {
      "text/plain": [
       "UNKNOWN    126810\n",
       "NaN        119399\n",
       "25-44      117279\n",
       "45-64       44451\n",
       "18-24       41938\n",
       "<18         12437\n",
       "65+          3948\n",
       "2018           10\n",
       "1018            3\n",
       "928             2\n",
       "952             1\n",
       "-80             1\n",
       "-941            1\n",
       "924             1\n",
       "-974            1\n",
       "920             1\n",
       "948             1\n",
       "-939            1\n",
       "-978            1\n",
       "938             1\n",
       "-63             1\n",
       "1012            1\n",
       "922             1\n",
       "1967            1\n",
       "954             1\n",
       "1017            1\n",
       "955             1\n",
       "-2              1\n",
       "Name: SUSP_AGE_GROUP, dtype: int64"
      ]
     },
     "execution_count": 123,
     "metadata": {},
     "output_type": "execute_result"
    }
   ],
   "source": [
    "nypd.SUSP_AGE_GROUP.value_counts(dropna=False)"
   ]
  },
  {
   "cell_type": "code",
   "execution_count": 124,
   "metadata": {},
   "outputs": [
    {
     "data": {
      "text/plain": [
       "25-44      161564\n",
       "UNKNOWN    132730\n",
       "45-64       87168\n",
       "18-24       45048\n",
       "65+         20130\n",
       "<18         19617\n",
       "-1              2\n",
       "-956            2\n",
       "-974            2\n",
       "936             1\n",
       "-966            1\n",
       "-51             1\n",
       "-5              1\n",
       "-55             1\n",
       "-970            1\n",
       "-3              1\n",
       "-61             1\n",
       "-948            1\n",
       "965             1\n",
       "929             1\n",
       "-968            1\n",
       "957             1\n",
       "-76             1\n",
       "-67             1\n",
       "-59             1\n",
       "-958            1\n",
       "948             1\n",
       "-43             1\n",
       "-952            1\n",
       "951             1\n",
       "1017            1\n",
       "-4              1\n",
       "953             1\n",
       "-940            1\n",
       "954             1\n",
       "-2              1\n",
       "970             1\n",
       "-972            1\n",
       "-955            1\n",
       "922             1\n",
       "-962            1\n",
       "Name: VIC_AGE_GROUP, dtype: int64"
      ]
     },
     "execution_count": 124,
     "metadata": {},
     "output_type": "execute_result"
    }
   ],
   "source": [
    "nypd.VIC_AGE_GROUP.value_counts(dropna=False)"
   ]
  },
  {
   "cell_type": "markdown",
   "metadata": {},
   "source": [
    "#### Checking for null values"
   ]
  },
  {
   "cell_type": "code",
   "execution_count": 125,
   "metadata": {},
   "outputs": [
    {
     "name": "stdout",
     "output_type": "stream",
     "text": [
      "(466295, 14)\n"
     ]
    },
    {
     "data": {
      "text/plain": [
       "CMPLNT_NUM             0\n",
       "CMPLNT_FR_DT           0\n",
       "CMPLNT_FR_TM           0\n",
       "OFNS_DESC             14\n",
       "LAW_CAT_CD             0\n",
       "BORO_NM              312\n",
       "PREM_TYP_DESC       1992\n",
       "JURIS_DESC             0\n",
       "SUSP_AGE_GROUP    119399\n",
       "SUSP_RACE         119399\n",
       "SUSP_SEX          119399\n",
       "VIC_AGE_GROUP          0\n",
       "VIC_RACE               0\n",
       "VIC_SEX                0\n",
       "dtype: int64"
      ]
     },
     "execution_count": 125,
     "metadata": {},
     "output_type": "execute_result"
    }
   ],
   "source": [
    "print(nypd.shape)\n",
    "nypd.isnull().sum()"
   ]
  },
  {
   "cell_type": "markdown",
   "metadata": {},
   "source": [
    "Will need to handle nulls in these fiels\n",
    "* `OFNS_DESC`\n",
    "* `BORO_NM`\n",
    "* `PREM_TYP_DESC`\n",
    "* `SUSP_AGE_GROUP`\n",
    "* `SUSP_RACE`\n",
    "* `SUSP_SEX`\n",
    "\n",
    "25% of `SUSP_AGE_GROUP`, `SUSP_RACE`, and `SUSP_SEX` contain nulls!"
   ]
  },
  {
   "cell_type": "markdown",
   "metadata": {},
   "source": [
    "#### Quick look at the dataframe to see what other cleaning I may have to do"
   ]
  },
  {
   "cell_type": "code",
   "execution_count": 126,
   "metadata": {},
   "outputs": [
    {
     "data": {
      "text/html": [
       "<div>\n",
       "<style scoped>\n",
       "    .dataframe tbody tr th:only-of-type {\n",
       "        vertical-align: middle;\n",
       "    }\n",
       "\n",
       "    .dataframe tbody tr th {\n",
       "        vertical-align: top;\n",
       "    }\n",
       "\n",
       "    .dataframe thead th {\n",
       "        text-align: right;\n",
       "    }\n",
       "</style>\n",
       "<table border=\"1\" class=\"dataframe\">\n",
       "  <thead>\n",
       "    <tr style=\"text-align: right;\">\n",
       "      <th></th>\n",
       "      <th>CMPLNT_NUM</th>\n",
       "      <th>CMPLNT_FR_DT</th>\n",
       "      <th>CMPLNT_FR_TM</th>\n",
       "      <th>OFNS_DESC</th>\n",
       "      <th>LAW_CAT_CD</th>\n",
       "      <th>BORO_NM</th>\n",
       "      <th>PREM_TYP_DESC</th>\n",
       "      <th>JURIS_DESC</th>\n",
       "      <th>SUSP_AGE_GROUP</th>\n",
       "      <th>SUSP_RACE</th>\n",
       "      <th>SUSP_SEX</th>\n",
       "      <th>VIC_AGE_GROUP</th>\n",
       "      <th>VIC_RACE</th>\n",
       "      <th>VIC_SEX</th>\n",
       "    </tr>\n",
       "  </thead>\n",
       "  <tbody>\n",
       "    <tr>\n",
       "      <td>0</td>\n",
       "      <td>774621657</td>\n",
       "      <td>2018-10-08</td>\n",
       "      <td>12:30:00</td>\n",
       "      <td>ROBBERY</td>\n",
       "      <td>FELONY</td>\n",
       "      <td>BRONX</td>\n",
       "      <td>BUS STOP</td>\n",
       "      <td>N.Y. POLICE DEPT</td>\n",
       "      <td>UNKNOWN</td>\n",
       "      <td>BLACK</td>\n",
       "      <td>M</td>\n",
       "      <td>&lt;18</td>\n",
       "      <td>BLACK</td>\n",
       "      <td>M</td>\n",
       "    </tr>\n",
       "    <tr>\n",
       "      <td>1</td>\n",
       "      <td>232548146</td>\n",
       "      <td>2018-08-24</td>\n",
       "      <td>11:00:00</td>\n",
       "      <td>PETIT LARCENY</td>\n",
       "      <td>MISDEMEANOR</td>\n",
       "      <td>BROOKLYN</td>\n",
       "      <td>RESIDENCE-HOUSE</td>\n",
       "      <td>N.Y. POLICE DEPT</td>\n",
       "      <td>NaN</td>\n",
       "      <td>NaN</td>\n",
       "      <td>NaN</td>\n",
       "      <td>45-64</td>\n",
       "      <td>WHITE</td>\n",
       "      <td>F</td>\n",
       "    </tr>\n",
       "    <tr>\n",
       "      <td>2</td>\n",
       "      <td>452701517</td>\n",
       "      <td>2018-03-30</td>\n",
       "      <td>16:55:00</td>\n",
       "      <td>DANGEROUS WEAPONS</td>\n",
       "      <td>FELONY</td>\n",
       "      <td>QUEENS</td>\n",
       "      <td>STREET</td>\n",
       "      <td>N.Y. POLICE DEPT</td>\n",
       "      <td>NaN</td>\n",
       "      <td>NaN</td>\n",
       "      <td>NaN</td>\n",
       "      <td>UNKNOWN</td>\n",
       "      <td>UNKNOWN</td>\n",
       "      <td>E</td>\n",
       "    </tr>\n",
       "    <tr>\n",
       "      <td>3</td>\n",
       "      <td>620357753</td>\n",
       "      <td>2018-10-02</td>\n",
       "      <td>16:00:00</td>\n",
       "      <td>PETIT LARCENY</td>\n",
       "      <td>MISDEMEANOR</td>\n",
       "      <td>QUEENS</td>\n",
       "      <td>STREET</td>\n",
       "      <td>N.Y. POLICE DEPT</td>\n",
       "      <td>NaN</td>\n",
       "      <td>NaN</td>\n",
       "      <td>NaN</td>\n",
       "      <td>65+</td>\n",
       "      <td>BLACK</td>\n",
       "      <td>M</td>\n",
       "    </tr>\n",
       "    <tr>\n",
       "      <td>4</td>\n",
       "      <td>110535568</td>\n",
       "      <td>2018-08-14</td>\n",
       "      <td>14:20:00</td>\n",
       "      <td>MURDER &amp; NON-NEGL. MANSLAUGHTER</td>\n",
       "      <td>FELONY</td>\n",
       "      <td>NaN</td>\n",
       "      <td>NaN</td>\n",
       "      <td>N.Y. POLICE DEPT</td>\n",
       "      <td>25-44</td>\n",
       "      <td>BLACK</td>\n",
       "      <td>M</td>\n",
       "      <td>45-64</td>\n",
       "      <td>BLACK</td>\n",
       "      <td>M</td>\n",
       "    </tr>\n",
       "  </tbody>\n",
       "</table>\n",
       "</div>"
      ],
      "text/plain": [
       "   CMPLNT_NUM CMPLNT_FR_DT CMPLNT_FR_TM                        OFNS_DESC  \\\n",
       "0   774621657   2018-10-08     12:30:00                          ROBBERY   \n",
       "1   232548146   2018-08-24     11:00:00                    PETIT LARCENY   \n",
       "2   452701517   2018-03-30     16:55:00                DANGEROUS WEAPONS   \n",
       "3   620357753   2018-10-02     16:00:00                    PETIT LARCENY   \n",
       "4   110535568   2018-08-14     14:20:00  MURDER & NON-NEGL. MANSLAUGHTER   \n",
       "\n",
       "    LAW_CAT_CD   BORO_NM    PREM_TYP_DESC        JURIS_DESC SUSP_AGE_GROUP  \\\n",
       "0       FELONY     BRONX         BUS STOP  N.Y. POLICE DEPT        UNKNOWN   \n",
       "1  MISDEMEANOR  BROOKLYN  RESIDENCE-HOUSE  N.Y. POLICE DEPT            NaN   \n",
       "2       FELONY    QUEENS           STREET  N.Y. POLICE DEPT            NaN   \n",
       "3  MISDEMEANOR    QUEENS           STREET  N.Y. POLICE DEPT            NaN   \n",
       "4       FELONY       NaN              NaN  N.Y. POLICE DEPT          25-44   \n",
       "\n",
       "  SUSP_RACE SUSP_SEX VIC_AGE_GROUP VIC_RACE VIC_SEX  \n",
       "0     BLACK        M           <18    BLACK       M  \n",
       "1       NaN      NaN         45-64    WHITE       F  \n",
       "2       NaN      NaN       UNKNOWN  UNKNOWN       E  \n",
       "3       NaN      NaN           65+    BLACK       M  \n",
       "4     BLACK        M         45-64    BLACK       M  "
      ]
     },
     "execution_count": 126,
     "metadata": {},
     "output_type": "execute_result"
    }
   ],
   "source": [
    "nypd.head(5)"
   ]
  },
  {
   "cell_type": "code",
   "execution_count": 127,
   "metadata": {},
   "outputs": [
    {
     "data": {
      "text/plain": [
       "CMPLNT_NUM         int64\n",
       "CMPLNT_FR_DT      object\n",
       "CMPLNT_FR_TM      object\n",
       "OFNS_DESC         object\n",
       "LAW_CAT_CD        object\n",
       "BORO_NM           object\n",
       "PREM_TYP_DESC     object\n",
       "JURIS_DESC        object\n",
       "SUSP_AGE_GROUP    object\n",
       "SUSP_RACE         object\n",
       "SUSP_SEX          object\n",
       "VIC_AGE_GROUP     object\n",
       "VIC_RACE          object\n",
       "VIC_SEX           object\n",
       "dtype: object"
      ]
     },
     "execution_count": 127,
     "metadata": {},
     "output_type": "execute_result"
    }
   ],
   "source": [
    "nypd.dtypes"
   ]
  },
  {
   "cell_type": "code",
   "execution_count": 128,
   "metadata": {},
   "outputs": [
    {
     "data": {
      "text/plain": [
       "AMERICAN INDIAN/ALASKAN NATIVE      1170\n",
       "ASIAN / PACIFIC ISLANDER           13132\n",
       "BLACK                             131560\n",
       "BLACK HISPANIC                     19375\n",
       "UNKNOWN                            83750\n",
       "WHITE                              35922\n",
       "WHITE HISPANIC                     61987\n",
       "Name: SUSP_RACE, dtype: int64"
      ]
     },
     "execution_count": 128,
     "metadata": {},
     "output_type": "execute_result"
    }
   ],
   "source": [
    "# pd.DataFrame(nypd.SUSP_RACE.value_counts())\n",
    "nypd.SUSP_RACE.value_counts().sort_index() # Sort by susp_race"
   ]
  },
  {
   "cell_type": "code",
   "execution_count": 129,
   "metadata": {},
   "outputs": [
    {
     "data": {
      "text/html": [
       "<div>\n",
       "<style scoped>\n",
       "    .dataframe tbody tr th:only-of-type {\n",
       "        vertical-align: middle;\n",
       "    }\n",
       "\n",
       "    .dataframe tbody tr th {\n",
       "        vertical-align: top;\n",
       "    }\n",
       "\n",
       "    .dataframe thead th {\n",
       "        text-align: right;\n",
       "    }\n",
       "</style>\n",
       "<table border=\"1\" class=\"dataframe\">\n",
       "  <thead>\n",
       "    <tr style=\"text-align: right;\">\n",
       "      <th></th>\n",
       "      <th>VIC_RACE</th>\n",
       "    </tr>\n",
       "  </thead>\n",
       "  <tbody>\n",
       "    <tr>\n",
       "      <td>WHITE HISPANIC</td>\n",
       "      <td>26234</td>\n",
       "    </tr>\n",
       "    <tr>\n",
       "      <td>UNKNOWN</td>\n",
       "      <td>19811</td>\n",
       "    </tr>\n",
       "    <tr>\n",
       "      <td>BLACK</td>\n",
       "      <td>5765</td>\n",
       "    </tr>\n",
       "    <tr>\n",
       "      <td>WHITE</td>\n",
       "      <td>5118</td>\n",
       "    </tr>\n",
       "    <tr>\n",
       "      <td>BLACK HISPANIC</td>\n",
       "      <td>2802</td>\n",
       "    </tr>\n",
       "    <tr>\n",
       "      <td>ASIAN / PACIFIC ISLANDER</td>\n",
       "      <td>2123</td>\n",
       "    </tr>\n",
       "    <tr>\n",
       "      <td>AMERICAN INDIAN/ALASKAN NATIVE</td>\n",
       "      <td>134</td>\n",
       "    </tr>\n",
       "  </tbody>\n",
       "</table>\n",
       "</div>"
      ],
      "text/plain": [
       "                                VIC_RACE\n",
       "WHITE HISPANIC                     26234\n",
       "UNKNOWN                            19811\n",
       "BLACK                               5765\n",
       "WHITE                               5118\n",
       "BLACK HISPANIC                      2802\n",
       "ASIAN / PACIFIC ISLANDER            2123\n",
       "AMERICAN INDIAN/ALASKAN NATIVE       134"
      ]
     },
     "execution_count": 129,
     "metadata": {},
     "output_type": "execute_result"
    }
   ],
   "source": [
    "# Filtering\n",
    "# nypd[nypd['SUSP_RACE'] == 'WHITE HISPANIC']\n",
    "\n",
    "# Filtering the dataframe for all records where the susp_race is white hispanic, show the \n",
    "# vic_race and do value counts \n",
    "pd.DataFrame(nypd[nypd['SUSP_RACE'] == 'WHITE HISPANIC']['VIC_RACE'].value_counts())"
   ]
  },
  {
   "cell_type": "markdown",
   "metadata": {},
   "source": [
    "## Cleaning and Data Prep needed\n",
    "\n",
    "* Set new index (TBD)\n",
    "* Handle nulls in these fields\n",
    " * `OFNS_DESC`\n",
    " * `BORO_NM`\n",
    " * `PREM_TYPE_DESC`\n",
    " * `SUSP_AGE_GROUP`\n",
    " * `SUSP_RACE`\n",
    " * `SUSP_SEX`\n",
    "* Convert these fields to Timestamp\n",
    " * `CMPLNT_FR_DT`\n",
    " * `CMPLNT_FR_TM`\n",
    "* Remove duplicate rows -- *First pass completed. Dirty data may still exist, however*\n",
    "\n",
    "\n",
    "\n",
    "Optional\n",
    "* Combine `CMPLNT_FR_DT` and `CMPLNT_FR_TM` into one field\n",
    "* Create month, week, day, day of week columns for `CMPLNT_FR_DT`\n",
    "* Create hour column for `CMPLNT_FR_TM`\n"
   ]
  },
  {
   "cell_type": "markdown",
   "metadata": {},
   "source": [
    "## Framing the problem\n",
    "\n",
    "* Start *framing* the problem -- This is Step 1 of the Data Science Workflow\n",
    "\n",
    " * Make a list of **what you know**\n",
    " * Make a list of **what you don't know**\n",
    " * Make a list of possible problem statements\n",
    "   * Try to come up with *5-10* of them if possible\n",
    "   * You will decide on which ones to explore later, but for now brainstorm as much as you can.\n",
    "   \n",
    "\n",
    "#### What I know\n",
    "* All complaints are from 2018\n",
    "* Complaints are timestamped and we have the level of detail down to month, day, year, hour, minute\n",
    "* `OFNS_DESC` is an important field that tells us what each complaint was\n",
    "* Each offense occurs within a borough of NYC, defined as `BORO_NM`\n",
    "* Complaints are categorized under `LAW_CAT_CD` as either a felony, misdemeanor, or violation\n",
    "* Different jurisdictions are responsible for handling each complaint. The police department is not responsible for all complaints\n",
    "* Victim and suspect demo (age, sex, race) may be available for each offense\n",
    "\n",
    "\n",
    "\n",
    "#### What I don't know\n",
    "* The most popular or highest volume of offenses overall in 2018\n",
    "* Seasonal trends, if any, in offenses\n",
    "* Other time-based trends in offenses, down to month, day of the week, and hour of the day\n",
    "* If some boroughs in New York City have more complaints than other boroughs\n",
    "* If certain types of offenses are more prevalent in some boroughs versus others\n",
    "* Which offenses are deemed a felony vs. misdemeanor vs. violation\n",
    "* What complaints is each jurisdiction primarily responsible for handling\n",
    "* If there’s a relationship between victim demo and suspect demo\n",
    "\n",
    "\n",
    "#### Possible problem statements\n",
    "1. More crimes occur during the warmer months of the year\n",
    "- Criminal activity is more common during times of the day when there are more people around or active, i.e. commute times, meal times. Criminal activity is also more likely to occur when suspects believe they won’t be seen or caught, i.e. late night\n",
    "- Racial bias may exist, with victims having a tendency to file complaints against specific races\n",
    "- Criminal activity in NYC aligns with known correlations of [criminal behavior](https://en.wikipedia.org/wiki/Statistical_correlations_of_criminal_behaviour#Gender_and_biology) **\n",
    "- Each borough of NYC has roughly the same volume of complaints as other boroughs, when comparing per capita\n",
    "\n",
    "<font size=1.5>** Crime occurs most frequently during the second and third decades of life. Males commit more crime overall and more violent crime than females. They commit more property crime except shoplifting, which is about equally distributed between the genders.</font>\n"
   ]
  }
 ],
 "metadata": {
  "kernelspec": {
   "display_name": "Python 3",
   "language": "python",
   "name": "python3"
  },
  "language_info": {
   "codemirror_mode": {
    "name": "ipython",
    "version": 3
   },
   "file_extension": ".py",
   "mimetype": "text/x-python",
   "name": "python",
   "nbconvert_exporter": "python",
   "pygments_lexer": "ipython3",
   "version": "3.7.4"
  }
 },
 "nbformat": 4,
 "nbformat_minor": 2
}
